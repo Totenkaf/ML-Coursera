{
 "cells": [
  {
   "cell_type": "markdown",
   "metadata": {},
   "source": [
    "**Корректность проверена на Python 3.6:**\n",
    "+ numpy 1.15.4\n",
    "+ matplotlib 3.0.2\n",
    "+ sklearn 0.20.2"
   ]
  },
  {
   "cell_type": "markdown",
   "metadata": {},
   "source": [
    "# Sklearn"
   ]
  },
  {
   "cell_type": "markdown",
   "metadata": {},
   "source": [
    "## sklearn.linear_model"
   ]
  },
  {
   "cell_type": "code",
   "execution_count": 10,
   "metadata": {},
   "outputs": [],
   "source": [
    "from matplotlib.colors import ListedColormap\n",
    "from sklearn import model_selection, datasets, linear_model, metrics\n",
    "\n",
    "import numpy as np"
   ]
  },
  {
   "cell_type": "code",
   "execution_count": 11,
   "metadata": {},
   "outputs": [
    {
     "name": "stdout",
     "output_type": "stream",
     "text": [
      "Populating the interactive namespace from numpy and matplotlib\n"
     ]
    }
   ],
   "source": [
    "%pylab inline"
   ]
  },
  {
   "cell_type": "markdown",
   "metadata": {},
   "source": [
    "### Линейная регрессия"
   ]
  },
  {
   "cell_type": "markdown",
   "metadata": {},
   "source": [
    "#### Генерация данных"
   ]
  },
  {
   "cell_type": "code",
   "execution_count": 21,
   "metadata": {},
   "outputs": [],
   "source": [
    "data, target, coef = datasets.make_regression(n_features = 2, n_informative = 1, n_targets = 1, \n",
    "                                              noise = 5, coef= True, random_state = 2)"
   ]
  },
  {
   "cell_type": "code",
   "execution_count": 22,
   "metadata": {},
   "outputs": [
    {
     "data": {
      "text/plain": [
       "<matplotlib.collections.PathCollection at 0x7f10a09e7ba8>"
      ]
     },
     "execution_count": 22,
     "metadata": {},
     "output_type": "execute_result"
    },
    {
     "data": {
      "image/png": "[encoded data removed]",
      "text/plain": [
       "<Figure size 432x288 with 1 Axes>"
      ]
     },
     "metadata": {
      "needs_background": "light"
     },
     "output_type": "display_data"
    }
   ],
   "source": [
    "pylab.scatter(data[:,0], target, color = 'r')\n",
    "pylab.scatter(data[:,1], target, color = 'b')"
   ]
  },
  {
   "cell_type": "code",
   "execution_count": 28,
   "metadata": {},
   "outputs": [
    {
     "name": "stdout",
     "output_type": "stream",
     "text": [
      "[[ 0.69511961 -2.03346655]\n",
      " [ 0.20420798  1.40669624]\n",
      " [-1.25542722  0.93816367]\n",
      " [ 1.10914328 -1.76491773]\n",
      " [ 0.04153939 -1.11792545]\n",
      " [ 1.03302907 -0.32900243]\n",
      " [-0.1144213  -0.49817419]\n",
      " [ 0.21611601 -1.85861239]\n",
      " [-1.09873895  1.58448706]\n",
      " [ 0.52429643  0.73527958]\n",
      " [-0.18325657  1.01985473]\n",
      " [ 3.2797454   0.97086132]\n",
      " [-0.45422785  0.51437072]\n",
      " [-0.32358007  0.42382471]\n",
      " [-0.63765501 -1.18761229]\n",
      " [-0.82913529  0.08771022]\n",
      " [ 0.43349633  1.27837923]\n",
      " [ 0.18040981  0.55316427]\n",
      " [ 0.35913333  0.62222041]\n",
      " [ 0.36505352  0.77408203]\n",
      " [-0.74787095  0.00902525]\n",
      " [-0.22824756 -2.06961226]\n",
      " [-1.54667461 -2.08265194]\n",
      " [-0.26905696  2.23136679]\n",
      " [-1.22142917  1.80447664]\n",
      " [-0.38151648  0.06648901]\n",
      " [ 0.79918     1.26261366]\n",
      " [ 0.50288142 -1.24528809]\n",
      " [-0.46834626 -1.25472031]\n",
      " [ 1.36723542  1.21788563]\n",
      " [-0.63467931  0.50839624]\n",
      " [-1.02141473  0.4323957 ]\n",
      " [ 0.50185721 -0.8442137 ]\n",
      " [ 1.79259285 -0.42901332]\n",
      " [-1.13431848 -0.70742089]\n",
      " [ 1.1735315  -2.34360319]\n",
      " [ 1.74181219 -0.44750088]\n",
      " [-1.06079904  0.59166652]\n",
      " [-0.71925384 -0.58341459]\n",
      " [-0.41931648 -0.1323289 ]\n",
      " [-0.30408644  2.58529487]\n",
      " [ 0.82470301  1.24821292]\n",
      " [-0.32504963 -0.56023451]\n",
      " [ 0.38186623  0.56627544]\n",
      " [-2.04032305  0.04625552]\n",
      " [ 0.82945843  0.63062197]\n",
      " [ 1.00036589 -0.38109252]\n",
      " [-0.69858995 -0.92889192]\n",
      " [ 0.75196485 -0.99376098]\n",
      " [-2.65944946 -0.09145262]\n",
      " [ 1.16152149  0.38607805]\n",
      " [-0.0191305   1.17500122]\n",
      " [-0.41675785 -0.05626683]\n",
      " [-1.48246548  0.84631189]\n",
      " [ 1.46767801 -0.33567734]\n",
      " [-1.05795222 -0.90900761]\n",
      " [-0.59375558  1.14950057]\n",
      " [ 0.49794015  0.12650418]\n",
      " [-0.18946926 -0.07721867]\n",
      " [-0.03957024  0.32600343]\n",
      " [-0.40389227 -1.38451867]\n",
      " [-0.65325027  0.84245628]\n",
      " [ 0.12482365  0.75650214]\n",
      " [ 4.10869262  0.82112088]\n",
      " [-0.37566942 -0.07447076]\n",
      " [ 0.61014409  0.4234969 ]\n",
      " [-2.43476758  0.1127265 ]\n",
      " [ 0.37044454  1.35963386]\n",
      " [-0.90224607 -0.59097228]\n",
      " [-0.33882197 -0.23618403]] \n",
      "\n",
      "[[-3.64479092e-01 -8.75979478e-01]\n",
      " [ 9.60781945e-01  7.58370347e-01]\n",
      " [-1.42121723e+00 -1.53495196e-01]\n",
      " [ 6.11340780e-01  4.79705919e-02]\n",
      " [-1.73795950e+00  1.04082395e+00]\n",
      " [-1.13313327e+00  4.33092555e-01]\n",
      " [-1.86809065e+00  1.73118467e+00]\n",
      " [-1.41881055e+00 -2.51774118e-01]\n",
      " [ 9.76147160e-06  5.42352572e-01]\n",
      " [-1.79343559e+00 -8.41747366e-01]\n",
      " [ 3.80471970e-01 -2.17135269e-01]\n",
      " [-4.62005348e-01  3.50888494e-01]\n",
      " [-3.13508197e-01  7.71011738e-01]\n",
      " [ 5.39058321e-01 -5.96159700e-01]\n",
      " [ 2.56570452e-01 -9.88779049e-01]\n",
      " [ 1.11788673e+00 -2.74242089e-01]\n",
      " [-8.78107893e-01 -1.56434170e-01]\n",
      " [ 6.96197980e-01  6.97416272e-01]\n",
      " [ 2.55043824e+00 -1.47317325e+00]\n",
      " [ 6.01515814e-01  3.65949071e-03]\n",
      " [-2.76179492e-01 -5.16883894e-01]\n",
      " [ 1.83533272e+00  4.40689872e-01]\n",
      " [-2.13619610e+00  1.64027081e+00]\n",
      " [ 1.33556617e+00  3.02629336e-01]\n",
      " [ 5.51454045e-01  2.29220801e+00]\n",
      " [-6.77675577e-01 -1.43943903e+00]\n",
      " [-1.45336435e+00 -3.38017777e-01]\n",
      " [ 3.96520159e-01 -3.14617436e-01]\n",
      " [ 1.53176032e+00 -1.98584577e+00]\n",
      " [ 2.41439629e-01  4.97425649e-01]] \n",
      "\n",
      "[  11.06961035   14.76930132  -45.27502383   38.36241814   -0.74051877\n",
      "   34.35183007   -4.38652971   12.74038341  -35.32062686   12.47089016\n",
      "  -12.0017312   126.64909941  -22.64686884  -14.97110322  -27.02798161\n",
      "  -19.36956003   21.20540389   12.42286854   20.87713077   11.96165156\n",
      "  -22.33224966  -10.06708677  -63.4056294   -15.01435792  -40.84204295\n",
      "  -13.99339669   24.82763821   18.17188553  -18.86438755   51.87072011\n",
      "  -21.48288019  -42.44469577   22.2276832    64.70214251  -45.38589148\n",
      "   41.95683853   78.24817537  -52.37232463  -26.87743177  -12.98848753\n",
      "  -19.16792315   23.87701013  -11.18242389   13.31981235  -80.80239408\n",
      "   29.8208999    39.70663436  -36.69728864   25.7124082  -105.77758163\n",
      "   44.41658249   -1.42235396  -13.26392817  -61.47026695   49.41686419\n",
      "  -36.44717565  -22.32195021   13.02656201  -10.27758354    0.34799656\n",
      "  -16.85466265  -18.57607726    5.86887774  160.09441244  -16.79027112\n",
      "   27.83791274  -91.477377     11.74073026  -37.31870104  -17.27897399] \n",
      "\n",
      "[-16.65927231  41.1068411  -44.51417742  24.47584129 -70.11132234\n",
      " -32.71074998 -71.3715844  -57.46293828   1.72644759 -76.75213382\n",
      "  12.67156468 -21.47606913 -16.30914909  22.13032804   4.45578287\n",
      "  45.05465366 -32.92158843  19.66406455 101.14760598  28.15553021\n",
      " -10.29545833  64.19559505 -84.32102748  44.66274342  17.64282734\n",
      " -24.77820218 -48.28700118  25.24428409  58.26281761  10.33267887] \n",
      "\n"
     ]
    }
   ],
   "source": [
    "train_data, test_data, train_labels, test_labels = model_selection.train_test_split(data, target,  \n",
    "                                                                                     test_size = 0.3)\n",
    "print(train_data, '\\n')\n",
    "print(test_data, '\\n')\n",
    "print(train_labels, '\\n')\n",
    "print(test_labels, '\\n')"
   ]
  },
  {
   "cell_type": "markdown",
   "metadata": {},
   "source": [
    "#### LinearRegression"
   ]
  },
  {
   "cell_type": "code",
   "execution_count": 29,
   "metadata": {},
   "outputs": [],
   "source": [
    "linear_regressor = linear_model.LinearRegression()\n",
    "linear_regressor.fit(train_data, train_labels)\n",
    "predictions = linear_regressor.predict(test_data)"
   ]
  },
  {
   "cell_type": "code",
   "execution_count": 30,
   "metadata": {},
   "outputs": [
    {
     "name": "stdout",
     "output_type": "stream",
     "text": [
      "[-16.65927231  41.1068411  -44.51417742  24.47584129 -70.11132234\n",
      " -32.71074998 -71.3715844  -57.46293828   1.72644759 -76.75213382\n",
      "  12.67156468 -21.47606913 -16.30914909  22.13032804   4.45578287\n",
      "  45.05465366 -32.92158843  19.66406455 101.14760598  28.15553021\n",
      " -10.29545833  64.19559505 -84.32102748  44.66274342  17.64282734\n",
      " -24.77820218 -48.28700118  25.24428409  58.26281761  10.33267887]\n"
     ]
    }
   ],
   "source": [
    "print(test_labels)"
   ]
  },
  {
   "cell_type": "code",
   "execution_count": 31,
   "metadata": {},
   "outputs": [
    {
     "name": "stdout",
     "output_type": "stream",
     "text": [
      "[-15.34445591  36.47026676 -55.32011279  22.62298189 -66.65524796\n",
      " -43.9036147  -71.18006813 -55.29301374  -0.45267069 -70.024692\n",
      "  13.60950626 -18.26609047 -12.3033649   19.42965576   8.35573708\n",
      "  41.80121073 -34.53090737  26.30120779  95.84837135  22.21754415\n",
      " -11.72657804  69.73934598 -81.50376002  50.51607452  21.81546067\n",
      " -27.70700023 -56.67286069  14.15935285  56.51240289   8.75994696]\n"
     ]
    }
   ],
   "source": [
    "print(predictions)"
   ]
  },
  {
   "cell_type": "code",
   "execution_count": 32,
   "metadata": {},
   "outputs": [
    {
     "data": {
      "text/plain": [
       "4.251980673889998"
      ]
     },
     "execution_count": 32,
     "metadata": {},
     "output_type": "execute_result"
    }
   ],
   "source": [
    "metrics.mean_absolute_error(test_labels, predictions)"
   ]
  },
  {
   "cell_type": "code",
   "execution_count": 33,
   "metadata": {},
   "outputs": [
    {
     "name": "stdout",
     "output_type": "stream",
     "text": [
      "mean: -4.070071498779696, std: 1.07371044928902\n"
     ]
    }
   ],
   "source": [
    "linear_scoring = model_selection.cross_val_score(linear_regressor, data, target, scoring = 'neg_mean_absolute_error', \n",
    "                                                  cv = 10)\n",
    "print('mean: {}, std: {}'.format(linear_scoring.mean(), linear_scoring.std()))"
   ]
  },
  {
   "cell_type": "code",
   "execution_count": 36,
   "metadata": {},
   "outputs": [],
   "source": [
    "#можно самостоятельно создавать свои метрики\n",
    "scorer = metrics.make_scorer(metrics.mean_absolute_error, greater_is_better = True)"
   ]
  },
  {
   "cell_type": "code",
   "execution_count": 37,
   "metadata": {},
   "outputs": [
    {
     "name": "stdout",
     "output_type": "stream",
     "text": [
      "mean: 4.070071498779696, std: 1.07371044928902\n"
     ]
    }
   ],
   "source": [
    "linear_scoring = model_selection.cross_val_score(linear_regressor, data, target, scoring=scorer, \n",
    "                                                  cv = 10)\n",
    "print('mean: {}, std: {}'.format(linear_scoring.mean(), linear_scoring.std()))"
   ]
  },
  {
   "cell_type": "code",
   "execution_count": 38,
   "metadata": {},
   "outputs": [
    {
     "data": {
      "text/plain": [
       "array([38.07925837,  0.        ])"
      ]
     },
     "execution_count": 38,
     "metadata": {},
     "output_type": "execute_result"
    }
   ],
   "source": [
    "coef"
   ]
  },
  {
   "cell_type": "code",
   "execution_count": 39,
   "metadata": {},
   "outputs": [
    {
     "data": {
      "text/plain": [
       "array([38.28170293,  0.66171474])"
      ]
     },
     "execution_count": 39,
     "metadata": {},
     "output_type": "execute_result"
    }
   ],
   "source": [
    "linear_regressor.coef_"
   ]
  },
  {
   "cell_type": "code",
   "execution_count": 40,
   "metadata": {},
   "outputs": [
    {
     "data": {
      "text/plain": [
       "-0.811927070141676"
      ]
     },
     "execution_count": 40,
     "metadata": {},
     "output_type": "execute_result"
    }
   ],
   "source": [
    "# в лекции не указано, что в уравнении обученной модели также участвует свободный член\n",
    "linear_regressor.intercept_"
   ]
  },
  {
   "cell_type": "code",
   "execution_count": 41,
   "metadata": {},
   "outputs": [
    {
     "name": "stdout",
     "output_type": "stream",
     "text": [
      "y = 38.08*x1 + 0.00*x2\n"
     ]
    }
   ],
   "source": [
    "print(\"y = {:.2f}*x1 + {:.2f}*x2\".format(coef[0], coef[1]))"
   ]
  },
  {
   "cell_type": "code",
   "execution_count": 45,
   "metadata": {},
   "outputs": [
    {
     "name": "stdout",
     "output_type": "stream",
     "text": [
      "y = 38.28*x1 + 0.66*x2 -0.81\n"
     ]
    }
   ],
   "source": [
    "print(\"y = {:.2f}*x1 + {:.2f}*x2 {:.2f}\".format(linear_regressor.coef_[0], \n",
    "                                                  linear_regressor.coef_[1], \n",
    "                                                  linear_regressor.intercept_))"
   ]
  },
  {
   "cell_type": "markdown",
   "metadata": {},
   "source": [
    "#### Lasso"
   ]
  },
  {
   "cell_type": "code",
   "execution_count": 46,
   "metadata": {},
   "outputs": [],
   "source": [
    "#регуляризатор первой степени\n",
    "lasso_regressor = linear_model.Lasso(random_state = 3)\n",
    "lasso_regressor.fit(train_data, train_labels)\n",
    "lasso_predictions = lasso_regressor.predict(test_data)"
   ]
  },
  {
   "cell_type": "code",
   "execution_count": 47,
   "metadata": {},
   "outputs": [
    {
     "name": "stdout",
     "output_type": "stream",
     "text": [
      "mean: 4.1544782466663985, std: 1.0170354384993352\n"
     ]
    }
   ],
   "source": [
    "lasso_scoring = model_selection.cross_val_score(lasso_regressor, data, target, scoring = scorer, cv = 10)\n",
    "print('mean: {}, std: {}'.format(lasso_scoring.mean(), lasso_scoring.std()))"
   ]
  },
  {
   "cell_type": "code",
   "execution_count": 53,
   "metadata": {},
   "outputs": [
    {
     "name": "stdout",
     "output_type": "stream",
     "text": [
      "[37.48138151  0.        ]\n"
     ]
    }
   ],
   "source": [
    "print(lasso_regressor.coef_)"
   ]
  },
  {
   "cell_type": "code",
   "execution_count": 54,
   "metadata": {},
   "outputs": [
    {
     "name": "stdout",
     "output_type": "stream",
     "text": [
      "y = 38.08*x1 + 0.00*x2\n"
     ]
    }
   ],
   "source": [
    "print(\"y = {:.2f}*x1 + {:.2f}*x2\".format(coef[0], coef[1]))"
   ]
  },
  {
   "cell_type": "code",
   "execution_count": 55,
   "metadata": {},
   "outputs": [
    {
     "name": "stdout",
     "output_type": "stream",
     "text": [
      "y = 37.48*x1 + 0.00*x2 -0.78\n"
     ]
    }
   ],
   "source": [
    "print(\"y = {:.2f}*x1 + {:.2f}*x2 {:.2f}\".format(lasso_regressor.coef_[0], \n",
    "                                                  lasso_regressor.coef_[1], \n",
    "                                                  lasso_regressor.intercept_))"
   ]
  },
  {
   "cell_type": "code",
   "execution_count": null,
   "metadata": {},
   "outputs": [],
   "source": []
  },
  {
   "cell_type": "code",
   "execution_count": null,
   "metadata": {},
   "outputs": [],
   "source": []
  }
 ],
 "metadata": {
  "kernelspec": {
   "display_name": "Python 3",
   "language": "python",
   "name": "python3"
  },
  "language_info": {
   "codemirror_mode": {
    "name": "ipython",
    "version": 3
   },
   "file_extension": ".py",
   "mimetype": "text/x-python",
   "name": "python",
   "nbconvert_exporter": "python",
   "pygments_lexer": "ipython3",
   "version": "3.6.9"
  }
 },
 "nbformat": 4,
 "nbformat_minor": 1
}

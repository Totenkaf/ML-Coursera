{
 "cells": [
  {
   "cell_type": "code",
   "execution_count": 1,
   "id": "sporting-excerpt",
   "metadata": {},
   "outputs": [
    {
     "data": {
      "text/plain": [
       "0.8333333333333333"
      ]
     },
     "execution_count": 1,
     "metadata": {},
     "output_type": "execute_result"
    }
   ],
   "source": [
    ">>> import numpy as np\n",
    ">>> from sklearn.metrics import average_precision_score\n",
    ">>> y_true = np.array([0, 0, 1, 1])\n",
    ">>> y_scores = np.array([0.1, 0.4, 0.35, 0.8])\n",
    ">>> average_precision_score(y_true, y_scores)"
   ]
  },
  {
   "cell_type": "code",
   "execution_count": 16,
   "id": "detailed-incidence",
   "metadata": {},
   "outputs": [],
   "source": [
    "y_true = np.array([0,0,1])\n",
    "y1 = np.array([0,0,1])\n",
    "y2 = np.array([1,1,1])"
   ]
  },
  {
   "cell_type": "code",
   "execution_count": 17,
   "id": "further-abortion",
   "metadata": {},
   "outputs": [
    {
     "name": "stdout",
     "output_type": "stream",
     "text": [
      "1.0 0.3333333333333333 0.6666666666666667\n"
     ]
    }
   ],
   "source": [
    "ap_4_1 = average_precision_score(y_true, y1)\n",
    "ap_4_2 = average_precision_score(y_true, y2)\n",
    "\n",
    "diff = ap_4_1 - ap_4_2\n",
    "print(ap_4_1, ap_4_2, diff, sep=' ')"
   ]
  },
  {
   "cell_type": "code",
   "execution_count": null,
   "id": "bronze-unknown",
   "metadata": {},
   "outputs": [],
   "source": []
  }
 ],
 "metadata": {
  "kernelspec": {
   "display_name": "Python 3",
   "language": "python",
   "name": "python3"
  },
  "language_info": {
   "codemirror_mode": {
    "name": "ipython",
    "version": 3
   },
   "file_extension": ".py",
   "mimetype": "text/x-python",
   "name": "python",
   "nbconvert_exporter": "python",
   "pygments_lexer": "ipython3",
   "version": "3.8.10"
  }
 },
 "nbformat": 4,
 "nbformat_minor": 5
}

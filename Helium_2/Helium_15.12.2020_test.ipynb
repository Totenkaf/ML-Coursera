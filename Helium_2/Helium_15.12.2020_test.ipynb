{
 "cells": [
  {
   "cell_type": "markdown",
   "metadata": {},
   "source": [
    "This code contains main definitions between pressure, temperature and liquid level state in superfluid helium vacuum pumping system."
   ]
  },
  {
   "cell_type": "code",
   "execution_count": 1,
   "metadata": {},
   "outputs": [],
   "source": [
    "# ondoing main libraries\n",
    "import numpy as np\n",
    "import pandas as pd\n",
    "import matplotlib.pyplot as plt\n",
    "import datetime as dt\n",
    "import time\n",
    "from dateutil import parser\n",
    "%matplotlib inline"
   ]
  },
  {
   "cell_type": "code",
   "execution_count": 2,
   "metadata": {},
   "outputs": [],
   "source": [
    "# hiding possible wenaning in the system\n",
    "import warnings\n",
    "warnings.filterwarnings('ignore')"
   ]
  },
  {
   "cell_type": "markdown",
   "metadata": {},
   "source": [
    "# Additional functions"
   ]
  },
  {
   "cell_type": "code",
   "execution_count": 3,
   "metadata": {},
   "outputs": [],
   "source": [
    "# helps to parse the experiment's date\n",
    "def dataparser(dataframe):\n",
    "    for i in range(len(dataframe[\"TotalTime\"])):\n",
    "        dataframe['TotalTime'][i] = dataframe['Date'][i] + \" \" + dataframe['Time'][i]\n",
    "        dataframe['TotalTime'][i] = parser.parse(dataframe[\"TotalTime\"][i])"
   ]
  },
  {
   "cell_type": "code",
   "execution_count": 4,
   "metadata": {},
   "outputs": [],
   "source": [
    "# entering a deltatime between to moments of experiments\n",
    "def deltatime(dataframe):\n",
    "    begin = dataframe[\"TotalTime\"][0]\n",
    "    for i in range(len(dataframe[\"TotalTime\"])):   \n",
    "        cur = dataframe[\"TotalTime\"][i]\n",
    "        delta = cur - begin\n",
    "        dataframe[\"TotalTime\"][i] = delta.seconds"
   ]
  },
  {
   "cell_type": "code",
   "execution_count": 5,
   "metadata": {},
   "outputs": [],
   "source": [
    "# building presurre plots\n",
    "def pressure_plot(df1, df2, df3):\n",
    "    x_data = [df1['TotalTime'], df2['TotalTime'], df3['TotalTime']]\n",
    "    y_data = [df1['Pressure, kPa'], df2['Pressure, kPa'], df3['Pressure, kPa']]\n",
    "    plt.figure(figsize=(20, 20))\n",
    "    colormap = [\"red\", \"green\", \"blue\"]\n",
    "    sensors = ['1', '2', '4']\n",
    "    \n",
    "    for i in range(1,4,1):\n",
    "        ax = plt.subplot(2,2,i)\n",
    "        plt.plot(x_data[i-1], y_data[i-1], color=colormap[i-1], label=\"Sensor\" + sensors[i-1])\n",
    "        plt.xlabel(\"Time, sec\")\n",
    "        plt.ylabel(\"Pressure, kPa\")\n",
    "        plt.grid(True)\n",
    "        plt.legend()"
   ]
  },
  {
   "cell_type": "code",
   "execution_count": 6,
   "metadata": {},
   "outputs": [],
   "source": [
    "# convert the pressure data type to sting type\n",
    "def strtofloat(dataframe):\n",
    "    for i in range(len(dataframe[\"Pressure, kPa\"])):\n",
    "        dataframe[\"Pressure, kPa\"][i] = float(dataframe[\"Pressure, kPa\"][i].replace(',','.'))\n",
    "    return(dataframe)"
   ]
  },
  {
   "cell_type": "markdown",
   "metadata": {},
   "source": [
    "# Pressure data analisys"
   ]
  },
  {
   "cell_type": "code",
   "execution_count": 7,
   "metadata": {},
   "outputs": [
    {
     "data": {
      "text/html": [
       "<div>\n",
       "<style scoped>\n",
       "    .dataframe tbody tr th:only-of-type {\n",
       "        vertical-align: middle;\n",
       "    }\n",
       "\n",
       "    .dataframe tbody tr th {\n",
       "        vertical-align: top;\n",
       "    }\n",
       "\n",
       "    .dataframe thead th {\n",
       "        text-align: right;\n",
       "    }\n",
       "</style>\n",
       "<table border=\"1\" class=\"dataframe\">\n",
       "  <thead>\n",
       "    <tr style=\"text-align: right;\">\n",
       "      <th></th>\n",
       "      <th>Pressure, kPa</th>\n",
       "      <th>Date</th>\n",
       "      <th>Time</th>\n",
       "    </tr>\n",
       "  </thead>\n",
       "  <tbody>\n",
       "    <tr>\n",
       "      <th>0</th>\n",
       "      <td>4.74</td>\n",
       "      <td>12.12.2020</td>\n",
       "      <td>14:59:06</td>\n",
       "    </tr>\n",
       "    <tr>\n",
       "      <th>1</th>\n",
       "      <td>4.74</td>\n",
       "      <td>12.12.2020</td>\n",
       "      <td>14:59:08</td>\n",
       "    </tr>\n",
       "    <tr>\n",
       "      <th>2</th>\n",
       "      <td>4.74</td>\n",
       "      <td>12.12.2020</td>\n",
       "      <td>14:59:10</td>\n",
       "    </tr>\n",
       "    <tr>\n",
       "      <th>3</th>\n",
       "      <td>4.74</td>\n",
       "      <td>12.12.2020</td>\n",
       "      <td>14:59:12</td>\n",
       "    </tr>\n",
       "    <tr>\n",
       "      <th>4</th>\n",
       "      <td>4.75</td>\n",
       "      <td>12.12.2020</td>\n",
       "      <td>14:59:14</td>\n",
       "    </tr>\n",
       "  </tbody>\n",
       "</table>\n",
       "</div>"
      ],
      "text/plain": [
       "   Pressure, kPa        Date      Time\n",
       "0           4.74  12.12.2020  14:59:06\n",
       "1           4.74  12.12.2020  14:59:08\n",
       "2           4.74  12.12.2020  14:59:10\n",
       "3           4.74  12.12.2020  14:59:12\n",
       "4           4.75  12.12.2020  14:59:14"
      ]
     },
     "execution_count": 7,
     "metadata": {},
     "output_type": "execute_result"
    }
   ],
   "source": [
    "sensor_surf = pd.read_csv(\"presLogsOnSurf.xls\", delimiter=',')\n",
    "sensor_surf.head()"
   ]
  },
  {
   "cell_type": "code",
   "execution_count": 8,
   "metadata": {},
   "outputs": [],
   "source": [
    "sensor_surf['TotalTime'] = 0\n",
    "dataparser(sensor_surf)"
   ]
  },
  {
   "cell_type": "code",
   "execution_count": 9,
   "metadata": {},
   "outputs": [],
   "source": [
    "deltatime(sensor_surf)"
   ]
  },
  {
   "cell_type": "code",
   "execution_count": 10,
   "metadata": {},
   "outputs": [],
   "source": [
    "sensor_1 = pd.read_csv(\"presSensor_1.xls\", delimiter=',')\n",
    "sensor_2 = pd.read_csv(\"presSensor_2.xls\", delimiter=',')\n",
    "sensor_4 = pd.read_csv(\"presSensor_4.xls\", delimiter=',')"
   ]
  },
  {
   "cell_type": "code",
   "execution_count": 11,
   "metadata": {},
   "outputs": [
    {
     "data": {
      "text/html": [
       "<div>\n",
       "<style scoped>\n",
       "    .dataframe tbody tr th:only-of-type {\n",
       "        vertical-align: middle;\n",
       "    }\n",
       "\n",
       "    .dataframe tbody tr th {\n",
       "        vertical-align: top;\n",
       "    }\n",
       "\n",
       "    .dataframe thead th {\n",
       "        text-align: right;\n",
       "    }\n",
       "</style>\n",
       "<table border=\"1\" class=\"dataframe\">\n",
       "  <thead>\n",
       "    <tr style=\"text-align: right;\">\n",
       "      <th></th>\n",
       "      <th>Pressure, kPa</th>\n",
       "      <th>Time</th>\n",
       "      <th>Date</th>\n",
       "    </tr>\n",
       "  </thead>\n",
       "  <tbody>\n",
       "    <tr>\n",
       "      <th>0</th>\n",
       "      <td>-0,0036326 MPa</td>\n",
       "      <td>15:05:51.191</td>\n",
       "      <td>12.12.20</td>\n",
       "    </tr>\n",
       "    <tr>\n",
       "      <th>1</th>\n",
       "      <td>-0,0036453 MPa</td>\n",
       "      <td>15:05:52.194</td>\n",
       "      <td>12.12.20</td>\n",
       "    </tr>\n",
       "    <tr>\n",
       "      <th>2</th>\n",
       "      <td>-0,0036319 MPa</td>\n",
       "      <td>15:05:53.209</td>\n",
       "      <td>12.12.20</td>\n",
       "    </tr>\n",
       "    <tr>\n",
       "      <th>3</th>\n",
       "      <td>-0,0035816 MPa</td>\n",
       "      <td>15:05:54.209</td>\n",
       "      <td>12.12.20</td>\n",
       "    </tr>\n",
       "    <tr>\n",
       "      <th>4</th>\n",
       "      <td>-0,0035651 MPa</td>\n",
       "      <td>15:05:55.226</td>\n",
       "      <td>12.12.20</td>\n",
       "    </tr>\n",
       "  </tbody>\n",
       "</table>\n",
       "</div>"
      ],
      "text/plain": [
       "      Pressure, kPa            Time      Date\n",
       "0   -0,0036326 MPa    15:05:51.191   12.12.20\n",
       "1   -0,0036453 MPa    15:05:52.194   12.12.20\n",
       "2   -0,0036319 MPa    15:05:53.209   12.12.20\n",
       "3   -0,0035816 MPa    15:05:54.209   12.12.20\n",
       "4   -0,0035651 MPa    15:05:55.226   12.12.20"
      ]
     },
     "execution_count": 11,
     "metadata": {},
     "output_type": "execute_result"
    }
   ],
   "source": [
    "sensor_1.head()"
   ]
  },
  {
   "cell_type": "code",
   "execution_count": 12,
   "metadata": {},
   "outputs": [
    {
     "data": {
      "text/html": [
       "<div>\n",
       "<style scoped>\n",
       "    .dataframe tbody tr th:only-of-type {\n",
       "        vertical-align: middle;\n",
       "    }\n",
       "\n",
       "    .dataframe tbody tr th {\n",
       "        vertical-align: top;\n",
       "    }\n",
       "\n",
       "    .dataframe thead th {\n",
       "        text-align: right;\n",
       "    }\n",
       "</style>\n",
       "<table border=\"1\" class=\"dataframe\">\n",
       "  <thead>\n",
       "    <tr style=\"text-align: right;\">\n",
       "      <th></th>\n",
       "      <th>Pressure, kPa</th>\n",
       "      <th>Time</th>\n",
       "      <th>Date</th>\n",
       "    </tr>\n",
       "  </thead>\n",
       "  <tbody>\n",
       "    <tr>\n",
       "      <th>0</th>\n",
       "      <td>0,1162872</td>\n",
       "      <td>15:05:51.503</td>\n",
       "      <td>12.12.20</td>\n",
       "    </tr>\n",
       "    <tr>\n",
       "      <th>1</th>\n",
       "      <td>0,1157150</td>\n",
       "      <td>15:05:52.506</td>\n",
       "      <td>12.12.20</td>\n",
       "    </tr>\n",
       "    <tr>\n",
       "      <th>2</th>\n",
       "      <td>0,1151505</td>\n",
       "      <td>15:05:53.521</td>\n",
       "      <td>12.12.20</td>\n",
       "    </tr>\n",
       "    <tr>\n",
       "      <th>3</th>\n",
       "      <td>0,1162872</td>\n",
       "      <td>15:05:54.524</td>\n",
       "      <td>12.12.20</td>\n",
       "    </tr>\n",
       "    <tr>\n",
       "      <th>4</th>\n",
       "      <td>0,1168976</td>\n",
       "      <td>15:05:55.538</td>\n",
       "      <td>12.12.20</td>\n",
       "    </tr>\n",
       "  </tbody>\n",
       "</table>\n",
       "</div>"
      ],
      "text/plain": [
       "  Pressure, kPa            Time      Date\n",
       "0    0,1162872    15:05:51.503   12.12.20\n",
       "1    0,1157150    15:05:52.506   12.12.20\n",
       "2    0,1151505    15:05:53.521   12.12.20\n",
       "3    0,1162872    15:05:54.524   12.12.20\n",
       "4    0,1168976    15:05:55.538   12.12.20"
      ]
     },
     "execution_count": 12,
     "metadata": {},
     "output_type": "execute_result"
    }
   ],
   "source": [
    "sensor_2.head()"
   ]
  },
  {
   "cell_type": "code",
   "execution_count": 13,
   "metadata": {},
   "outputs": [
    {
     "data": {
      "text/html": [
       "<div>\n",
       "<style scoped>\n",
       "    .dataframe tbody tr th:only-of-type {\n",
       "        vertical-align: middle;\n",
       "    }\n",
       "\n",
       "    .dataframe tbody tr th {\n",
       "        vertical-align: top;\n",
       "    }\n",
       "\n",
       "    .dataframe thead th {\n",
       "        text-align: right;\n",
       "    }\n",
       "</style>\n",
       "<table border=\"1\" class=\"dataframe\">\n",
       "  <thead>\n",
       "    <tr style=\"text-align: right;\">\n",
       "      <th></th>\n",
       "      <th>Pressure, kPa</th>\n",
       "      <th>Time</th>\n",
       "      <th>Date</th>\n",
       "    </tr>\n",
       "  </thead>\n",
       "  <tbody>\n",
       "    <tr>\n",
       "      <th>0</th>\n",
       "      <td>-101,6285000</td>\n",
       "      <td>15:05:51.818</td>\n",
       "      <td>12.12.20</td>\n",
       "    </tr>\n",
       "    <tr>\n",
       "      <th>1</th>\n",
       "      <td>-101,6302000</td>\n",
       "      <td>15:05:52.816</td>\n",
       "      <td>12.12.20</td>\n",
       "    </tr>\n",
       "    <tr>\n",
       "      <th>2</th>\n",
       "      <td>-101,6308000</td>\n",
       "      <td>15:05:53.834</td>\n",
       "      <td>12.12.20</td>\n",
       "    </tr>\n",
       "    <tr>\n",
       "      <th>3</th>\n",
       "      <td>-101,6302000</td>\n",
       "      <td>15:05:54.837</td>\n",
       "      <td>12.12.20</td>\n",
       "    </tr>\n",
       "    <tr>\n",
       "      <th>4</th>\n",
       "      <td>-101,6330000</td>\n",
       "      <td>15:05:55.851</td>\n",
       "      <td>12.12.20</td>\n",
       "    </tr>\n",
       "  </tbody>\n",
       "</table>\n",
       "</div>"
      ],
      "text/plain": [
       "    Pressure, kPa            Time      Date\n",
       "0   -101,6285000    15:05:51.818   12.12.20\n",
       "1   -101,6302000    15:05:52.816   12.12.20\n",
       "2   -101,6308000    15:05:53.834   12.12.20\n",
       "3   -101,6302000    15:05:54.837   12.12.20\n",
       "4   -101,6330000    15:05:55.851   12.12.20"
      ]
     },
     "execution_count": 13,
     "metadata": {},
     "output_type": "execute_result"
    }
   ],
   "source": [
    "sensor_4.head()"
   ]
  },
  {
   "cell_type": "code",
   "execution_count": 14,
   "metadata": {},
   "outputs": [],
   "source": [
    "sensor_1['TotalTime'] = 0\n",
    "dataparser(sensor_1)"
   ]
  },
  {
   "cell_type": "code",
   "execution_count": 15,
   "metadata": {},
   "outputs": [],
   "source": [
    "sensor_2['TotalTime'] = 0\n",
    "dataparser(sensor_2)"
   ]
  },
  {
   "cell_type": "code",
   "execution_count": 16,
   "metadata": {},
   "outputs": [],
   "source": [
    "sensor_4['TotalTime'] = 0\n",
    "dataparser(sensor_4)"
   ]
  },
  {
   "cell_type": "code",
   "execution_count": 17,
   "metadata": {},
   "outputs": [],
   "source": [
    "deltatime(sensor_1)\n",
    "deltatime(sensor_2)\n",
    "deltatime(sensor_4)"
   ]
  },
  {
   "cell_type": "code",
   "execution_count": 18,
   "metadata": {},
   "outputs": [
    {
     "data": {
      "text/html": [
       "<div>\n",
       "<style scoped>\n",
       "    .dataframe tbody tr th:only-of-type {\n",
       "        vertical-align: middle;\n",
       "    }\n",
       "\n",
       "    .dataframe tbody tr th {\n",
       "        vertical-align: top;\n",
       "    }\n",
       "\n",
       "    .dataframe thead th {\n",
       "        text-align: right;\n",
       "    }\n",
       "</style>\n",
       "<table border=\"1\" class=\"dataframe\">\n",
       "  <thead>\n",
       "    <tr style=\"text-align: right;\">\n",
       "      <th></th>\n",
       "      <th>Pressure, kPa</th>\n",
       "      <th>Time</th>\n",
       "      <th>Date</th>\n",
       "      <th>TotalTime</th>\n",
       "    </tr>\n",
       "  </thead>\n",
       "  <tbody>\n",
       "    <tr>\n",
       "      <th>0</th>\n",
       "      <td>-101.629</td>\n",
       "      <td>15:05:51.818</td>\n",
       "      <td>12.12.20</td>\n",
       "      <td>0</td>\n",
       "    </tr>\n",
       "    <tr>\n",
       "      <th>1</th>\n",
       "      <td>-101.63</td>\n",
       "      <td>15:05:52.816</td>\n",
       "      <td>12.12.20</td>\n",
       "      <td>0</td>\n",
       "    </tr>\n",
       "    <tr>\n",
       "      <th>2</th>\n",
       "      <td>-101.631</td>\n",
       "      <td>15:05:53.834</td>\n",
       "      <td>12.12.20</td>\n",
       "      <td>2</td>\n",
       "    </tr>\n",
       "    <tr>\n",
       "      <th>3</th>\n",
       "      <td>-101.63</td>\n",
       "      <td>15:05:54.837</td>\n",
       "      <td>12.12.20</td>\n",
       "      <td>3</td>\n",
       "    </tr>\n",
       "    <tr>\n",
       "      <th>4</th>\n",
       "      <td>-101.633</td>\n",
       "      <td>15:05:55.851</td>\n",
       "      <td>12.12.20</td>\n",
       "      <td>4</td>\n",
       "    </tr>\n",
       "    <tr>\n",
       "      <th>...</th>\n",
       "      <td>...</td>\n",
       "      <td>...</td>\n",
       "      <td>...</td>\n",
       "      <td>...</td>\n",
       "    </tr>\n",
       "    <tr>\n",
       "      <th>108733</th>\n",
       "      <td>-93.0894</td>\n",
       "      <td>21:24:00.551</td>\n",
       "      <td>13.12.20</td>\n",
       "      <td>22688</td>\n",
       "    </tr>\n",
       "    <tr>\n",
       "      <th>108734</th>\n",
       "      <td>-93.1881</td>\n",
       "      <td>21:24:01.548</td>\n",
       "      <td>13.12.20</td>\n",
       "      <td>22689</td>\n",
       "    </tr>\n",
       "    <tr>\n",
       "      <th>108735</th>\n",
       "      <td>-93.3691</td>\n",
       "      <td>21:24:03.574</td>\n",
       "      <td>13.12.20</td>\n",
       "      <td>22691</td>\n",
       "    </tr>\n",
       "    <tr>\n",
       "      <th>108736</th>\n",
       "      <td>-93.4678</td>\n",
       "      <td>21:24:04.564</td>\n",
       "      <td>13.12.20</td>\n",
       "      <td>22692</td>\n",
       "    </tr>\n",
       "    <tr>\n",
       "      <th>108737</th>\n",
       "      <td>-93.554</td>\n",
       "      <td>21:24:05.585</td>\n",
       "      <td>13.12.20</td>\n",
       "      <td>22693</td>\n",
       "    </tr>\n",
       "  </tbody>\n",
       "</table>\n",
       "<p>108738 rows × 4 columns</p>\n",
       "</div>"
      ],
      "text/plain": [
       "       Pressure, kPa            Time      Date TotalTime\n",
       "0           -101.629   15:05:51.818   12.12.20         0\n",
       "1            -101.63   15:05:52.816   12.12.20         0\n",
       "2           -101.631   15:05:53.834   12.12.20         2\n",
       "3            -101.63   15:05:54.837   12.12.20         3\n",
       "4           -101.633   15:05:55.851   12.12.20         4\n",
       "...              ...             ...       ...       ...\n",
       "108733      -93.0894   21:24:00.551   13.12.20     22688\n",
       "108734      -93.1881   21:24:01.548   13.12.20     22689\n",
       "108735      -93.3691   21:24:03.574   13.12.20     22691\n",
       "108736      -93.4678   21:24:04.564   13.12.20     22692\n",
       "108737       -93.554   21:24:05.585   13.12.20     22693\n",
       "\n",
       "[108738 rows x 4 columns]"
      ]
     },
     "execution_count": 18,
     "metadata": {},
     "output_type": "execute_result"
    }
   ],
   "source": [
    "strtofloat(sensor_2)\n",
    "strtofloat(sensor_4)"
   ]
  },
  {
   "cell_type": "code",
   "execution_count": 19,
   "metadata": {
    "scrolled": false
   },
   "outputs": [
    {
     "data": {
      "image/png": "[encoded data removed]",
      "text/plain": [
       "<Figure size 1440x1440 with 3 Axes>"
      ]
     },
     "metadata": {
      "needs_background": "light"
     },
     "output_type": "display_data"
    }
   ],
   "source": [
    "pressure_plot(sensor_surf, sensor_2, sensor_4)"
   ]
  },
  {
   "cell_type": "code",
   "execution_count": 37,
   "metadata": {
    "scrolled": false
   },
   "outputs": [
    {
     "data": {
      "text/plain": [
       "<matplotlib.legend.Legend at 0x7fd07c0a0cf8>"
      ]
     },
     "execution_count": 37,
     "metadata": {},
     "output_type": "execute_result"
    },
    {
     "data": {
      "image/png": "[encoded data removed]",
      "text/plain": [
       "<Figure size 3600x3600 with 1 Axes>"
      ]
     },
     "metadata": {
      "needs_background": "light"
     },
     "output_type": "display_data"
    }
   ],
   "source": [
    "x_data = sensor_2['TotalTime']\n",
    "y_data = sensor_2['Pressure, kPa']\n",
    "plt.figure(figsize=(50, 50))\n",
    "\n",
    "ax = plt.subplot(3,3,1)\n",
    "plt.plot(x_data, y_data, color=\"green\", label=\"Sensor2\")\n",
    "plt.scatter(32000,-96.286, color=\"red\", label=\"Lambda-point\", s=50)\n",
    "plt.xlabel(\"Time, sec\")\n",
    "plt.ylabel(\"Pressure, kPa\")\n",
    "plt.grid(True)\n",
    "plt.legend()"
   ]
  },
  {
   "cell_type": "code",
   "execution_count": 36,
   "metadata": {},
   "outputs": [
    {
     "data": {
      "text/html": [
       "<div>\n",
       "<style scoped>\n",
       "    .dataframe tbody tr th:only-of-type {\n",
       "        vertical-align: middle;\n",
       "    }\n",
       "\n",
       "    .dataframe tbody tr th {\n",
       "        vertical-align: top;\n",
       "    }\n",
       "\n",
       "    .dataframe thead th {\n",
       "        text-align: right;\n",
       "    }\n",
       "</style>\n",
       "<table border=\"1\" class=\"dataframe\">\n",
       "  <thead>\n",
       "    <tr style=\"text-align: right;\">\n",
       "      <th></th>\n",
       "      <th>Pressure, kPa</th>\n",
       "      <th>Time</th>\n",
       "      <th>Date</th>\n",
       "      <th>TotalTime</th>\n",
       "    </tr>\n",
       "  </thead>\n",
       "  <tbody>\n",
       "    <tr>\n",
       "      <th>31913</th>\n",
       "      <td>-96.286</td>\n",
       "      <td>23:59:11.931</td>\n",
       "      <td>12.12.20</td>\n",
       "      <td>32000</td>\n",
       "    </tr>\n",
       "  </tbody>\n",
       "</table>\n",
       "</div>"
      ],
      "text/plain": [
       "      Pressure, kPa            Time      Date TotalTime\n",
       "31913       -96.286   23:59:11.931   12.12.20     32000"
      ]
     },
     "execution_count": 36,
     "metadata": {},
     "output_type": "execute_result"
    }
   ],
   "source": [
    "sensor_2.loc[sensor_2['TotalTime'] == 32000]"
   ]
  },
  {
   "cell_type": "code",
   "execution_count": 68,
   "metadata": {},
   "outputs": [
    {
     "data": {
      "text/plain": [
       "<matplotlib.legend.Legend at 0x7fd077c32668>"
      ]
     },
     "execution_count": 68,
     "metadata": {},
     "output_type": "execute_result"
    },
    {
     "data": {
      "image/png": "[encoded data removed]",
      "text/plain": [
       "<Figure size 3600x3600 with 1 Axes>"
      ]
     },
     "metadata": {
      "needs_background": "light"
     },
     "output_type": "display_data"
    }
   ],
   "source": [
    "x_data = sensor_2['TotalTime']\n",
    "y_data = sensor_2['Pressure, kPa']\n",
    "plt.figure(figsize=(50, 50))\n",
    "\n",
    "ax = plt.subplot(3,3,1)\n",
    "ax.vlines(40000, y_data.min(), y_data.max(), color = 'gray')\n",
    "ax.vlines(36000, y_data.min(), y_data.max(), color = 'gray')\n",
    "plt.plot(x_data, y_data, color=\"green\", label=\"Sensor2\")\n",
    "plt.scatter(32000,-96.286, color=\"blue\", label=\"Lambda-point\", s=50)\n",
    "plt.scatter(36000,-55.286, color=\"red\", label=\"Surge\", s=50)\n",
    "plt.xlabel(\"Time, sec\")\n",
    "plt.ylabel(\"Pressure, kPa\")\n",
    "plt.grid(True)\n",
    "plt.legend()"
   ]
  },
  {
   "cell_type": "code",
   "execution_count": 7,
   "metadata": {},
   "outputs": [],
   "source": [
    "temp_data = pd.read_csv(\"tempLogs.xls\", delimiter=',')\n",
    "level_data = pd.read_csv(\"levelLogs.xls\", delimiter=',')"
   ]
  },
  {
   "cell_type": "code",
   "execution_count": 8,
   "metadata": {},
   "outputs": [],
   "source": [
    "temp_data['TotalTime'] = 0\n",
    "dataparser(temp_data)\n",
    "level_data['TotalTime'] = 0\n",
    "dataparser(level_data)"
   ]
  },
  {
   "cell_type": "code",
   "execution_count": 9,
   "metadata": {},
   "outputs": [],
   "source": [
    "deltatime(temp_data)\n",
    "deltatime(level_data)"
   ]
  },
  {
   "cell_type": "code",
   "execution_count": 10,
   "metadata": {},
   "outputs": [],
   "source": [
    "x_data = temp_data[\"TotalTime\"]\n",
    "y_data = temp_data.drop([\"Time\", \"Date\", \"TotalTime\"], 1)"
   ]
  },
  {
   "cell_type": "code",
   "execution_count": 11,
   "metadata": {},
   "outputs": [
    {
     "data": {
      "image/png": "[encoded data removed]",
      "text/plain": [
       "<Figure size 1440x1440 with 8 Axes>"
      ]
     },
     "metadata": {
      "needs_background": "light"
     },
     "output_type": "display_data"
    }
   ],
   "source": [
    "plt.figure(figsize=(20, 20))\n",
    "colormap = [\"red\", \"green\", \"blue\", \"yellow\", \"black\", \"gray\", \"violet\", \"orange\"]\n",
    "for i in range(1,9,1):\n",
    "    ax = plt.subplot(3,3,i)\n",
    "    plt.plot(x_data, y_data[\"T\"+str(i)], color=colormap[i-1], label=\"Temperature\")\n",
    "    plt.xlabel(\"Time, sec\")\n",
    "    plt.ylabel(\"T{}, K\".format(i))\n",
    "    plt.grid(True)\n",
    "    plt.legend()"
   ]
  },
  {
   "cell_type": "code",
   "execution_count": 13,
   "metadata": {
    "scrolled": false
   },
   "outputs": [
    {
     "data": {
      "text/plain": [
       "<matplotlib.legend.Legend at 0x7f131c212048>"
      ]
     },
     "execution_count": 13,
     "metadata": {},
     "output_type": "execute_result"
    },
    {
     "data": {
      "image/png": "[encoded data removed]",
      "text/plain": [
       "<Figure size 3600x3600 with 1 Axes>"
      ]
     },
     "metadata": {
      "needs_background": "light"
     },
     "output_type": "display_data"
    }
   ],
   "source": [
    "plt.figure(figsize=(50, 50))\n",
    "ax = plt.subplot(3,3,1)\n",
    "ax.vlines(32000, y_data[\"T5\"].min(), y_data[\"T5\"].max(), color = 'gray')\n",
    "ax.vlines(1700, y_data[\"T5\"].min(), y_data[\"T5\"].max(), color = 'gray')\n",
    "ax.vlines(42250, y_data[\"T5\"].min(), y_data[\"T5\"].max(), color = 'gray')\n",
    "ax.hlines(2.15, x_data.min(), x_data.max(), color = 'r', linestyles = \"dashed\", label = \"Temp = 2.15K\")\n",
    "ax.hlines(2.11, x_data.min(), x_data.max(), color = 'r', linestyles = \"dashed\", label = \"Temp = 2.15K\")\n",
    "plt.plot(x_data, y_data[\"T5\"], color=\"orange\", label=\"Temperature\")\n",
    "plt.xlabel(\"Time, sec\")\n",
    "plt.ylabel(\"T{}, K\".format(5))\n",
    "plt.grid(True)\n",
    "plt.legend()"
   ]
  },
  {
   "cell_type": "code",
   "execution_count": 15,
   "metadata": {},
   "outputs": [
    {
     "name": "stderr",
     "output_type": "stream",
     "text": [
      "No handles with labels found to put in legend.\n"
     ]
    },
    {
     "data": {
      "text/plain": [
       "<matplotlib.legend.Legend at 0x7f131c028a58>"
      ]
     },
     "execution_count": 15,
     "metadata": {},
     "output_type": "execute_result"
    },
    {
     "data": {
      "image/png": "[encoded data removed]",
      "text/plain": [
       "<Figure size 3240x3240 with 1 Axes>"
      ]
     },
     "metadata": {
      "needs_background": "light"
     },
     "output_type": "display_data"
    }
   ],
   "source": [
    "plt.figure(figsize=(45, 45))\n",
    "ax = plt.subplot(3,3,1)\n",
    "y_der = np.diff(y_data[\"T5\"].to_numpy())/np.diff(x_data)\n",
    "plt.plot(x_data[:-1], y_der, color=\"lightblue\")\n",
    "# plt.scatter(17885, -0.015, color=\"blue\", label=\"Lambda-point, V= -0.015 1/K\", s=50)\n",
    "# plt.scatter(22055, -0.001, color=\"green\", label=\"T= 2.0К, V= -0.001 1/K\", s=50)\n",
    "# plt.scatter(29497, -0.001, color=\"black\", label=\"T= 1.9К, V= -0.001 1/K\", s=50)\n",
    "# plt.scatter(33800, -0.001, color=\"violet\", label=\"T= 1.847К, V= -0.001 1/K\", s=50)\n",
    "plt.xlabel(\"Time, sec\")\n",
    "plt.ylabel(\"V{}, К/с\".format(5))\n",
    "plt.grid(True)\n",
    "plt.legend()"
   ]
  },
  {
   "cell_type": "code",
   "execution_count": 16,
   "metadata": {
    "scrolled": false
   },
   "outputs": [
    {
     "data": {
      "text/plain": [
       "<matplotlib.legend.Legend at 0x7f13199710f0>"
      ]
     },
     "execution_count": 16,
     "metadata": {},
     "output_type": "execute_result"
    },
    {
     "data": {
      "image/png": "[encoded data removed]",
      "text/plain": [
       "<Figure size 3240x3240 with 1 Axes>"
      ]
     },
     "metadata": {
      "needs_background": "light"
     },
     "output_type": "display_data"
    }
   ],
   "source": [
    "plt.figure(figsize=(45, 45))\n",
    "ax = plt.subplot(3,3,1)\n",
    "y_der = np.diff(y_data[\"T5\"].to_numpy())/np.diff(x_data)\n",
    "plt.plot(x_data[3000:-1], y_der[3000:], color=\"lightblue\")\n",
    "plt.scatter(31900, -0.012, color=\"blue\", label=\"Lambda-point_1, V= -0.012 К/с\", s=50)\n",
    "plt.scatter(42150, -0.017, color=\"red\", label=\"Lambda-point_2, V= -0.017 К/с\", s=50)\n",
    "plt.xlabel(\"Time, sec\")\n",
    "plt.ylabel(\"V{}, К/с\".format(5))\n",
    "plt.grid(True)\n",
    "plt.legend()"
   ]
  },
  {
   "cell_type": "markdown",
   "metadata": {},
   "source": [
    "# Модуль интерполяции"
   ]
  },
  {
   "cell_type": "code",
   "execution_count": 17,
   "metadata": {},
   "outputs": [
    {
     "data": {
      "text/html": [
       "<div>\n",
       "<style scoped>\n",
       "    .dataframe tbody tr th:only-of-type {\n",
       "        vertical-align: middle;\n",
       "    }\n",
       "\n",
       "    .dataframe tbody tr th {\n",
       "        vertical-align: top;\n",
       "    }\n",
       "\n",
       "    .dataframe thead th {\n",
       "        text-align: right;\n",
       "    }\n",
       "</style>\n",
       "<table border=\"1\" class=\"dataframe\">\n",
       "  <thead>\n",
       "    <tr style=\"text-align: right;\">\n",
       "      <th></th>\n",
       "      <th>T1</th>\n",
       "      <th>T2</th>\n",
       "      <th>T3</th>\n",
       "      <th>T4</th>\n",
       "      <th>T5</th>\n",
       "      <th>T6</th>\n",
       "      <th>T7</th>\n",
       "      <th>T8</th>\n",
       "      <th>Date</th>\n",
       "      <th>Time</th>\n",
       "      <th>TotalTime</th>\n",
       "    </tr>\n",
       "  </thead>\n",
       "  <tbody>\n",
       "    <tr>\n",
       "      <th>50641</th>\n",
       "      <td>2.877</td>\n",
       "      <td>2.571</td>\n",
       "      <td>1.203</td>\n",
       "      <td>2.784</td>\n",
       "      <td>2.033</td>\n",
       "      <td>1.203</td>\n",
       "      <td>500.0</td>\n",
       "      <td>500.0</td>\n",
       "      <td>13.12.2020</td>\n",
       "      <td>6:15:40</td>\n",
       "      <td>55000</td>\n",
       "    </tr>\n",
       "  </tbody>\n",
       "</table>\n",
       "</div>"
      ],
      "text/plain": [
       "          T1     T2     T3     T4     T5     T6     T7     T8        Date  \\\n",
       "50641  2.877  2.571  1.203  2.784  2.033  1.203  500.0  500.0  13.12.2020   \n",
       "\n",
       "          Time TotalTime  \n",
       "50641  6:15:40     55000  "
      ]
     },
     "execution_count": 17,
     "metadata": {},
     "output_type": "execute_result"
    }
   ],
   "source": [
    "temp_data.loc[temp_data['TotalTime'] == 55000]"
   ]
  },
  {
   "cell_type": "code",
   "execution_count": 18,
   "metadata": {},
   "outputs": [
    {
     "data": {
      "text/html": [
       "<div>\n",
       "<style scoped>\n",
       "    .dataframe tbody tr th:only-of-type {\n",
       "        vertical-align: middle;\n",
       "    }\n",
       "\n",
       "    .dataframe tbody tr th {\n",
       "        vertical-align: top;\n",
       "    }\n",
       "\n",
       "    .dataframe thead th {\n",
       "        text-align: right;\n",
       "    }\n",
       "</style>\n",
       "<table border=\"1\" class=\"dataframe\">\n",
       "  <thead>\n",
       "    <tr style=\"text-align: right;\">\n",
       "      <th></th>\n",
       "      <th>T1</th>\n",
       "      <th>T2</th>\n",
       "      <th>T3</th>\n",
       "      <th>T4</th>\n",
       "      <th>T5</th>\n",
       "      <th>T6</th>\n",
       "      <th>T7</th>\n",
       "      <th>T8</th>\n",
       "      <th>Date</th>\n",
       "      <th>Time</th>\n",
       "      <th>TotalTime</th>\n",
       "    </tr>\n",
       "  </thead>\n",
       "  <tbody>\n",
       "    <tr>\n",
       "      <th>54359</th>\n",
       "      <td>2.848</td>\n",
       "      <td>2.549</td>\n",
       "      <td>1.203</td>\n",
       "      <td>2.766</td>\n",
       "      <td>2.0</td>\n",
       "      <td>1.203</td>\n",
       "      <td>500.0</td>\n",
       "      <td>500.0</td>\n",
       "      <td>13.12.2020</td>\n",
       "      <td>7:22:58</td>\n",
       "      <td>59038</td>\n",
       "    </tr>\n",
       "    <tr>\n",
       "      <th>54360</th>\n",
       "      <td>2.848</td>\n",
       "      <td>2.548</td>\n",
       "      <td>1.203</td>\n",
       "      <td>2.766</td>\n",
       "      <td>2.0</td>\n",
       "      <td>1.203</td>\n",
       "      <td>500.0</td>\n",
       "      <td>500.0</td>\n",
       "      <td>13.12.2020</td>\n",
       "      <td>7:22:59</td>\n",
       "      <td>59039</td>\n",
       "    </tr>\n",
       "    <tr>\n",
       "      <th>54361</th>\n",
       "      <td>2.847</td>\n",
       "      <td>2.549</td>\n",
       "      <td>1.203</td>\n",
       "      <td>2.766</td>\n",
       "      <td>2.0</td>\n",
       "      <td>1.203</td>\n",
       "      <td>500.0</td>\n",
       "      <td>500.0</td>\n",
       "      <td>13.12.2020</td>\n",
       "      <td>7:23:00</td>\n",
       "      <td>59040</td>\n",
       "    </tr>\n",
       "    <tr>\n",
       "      <th>54363</th>\n",
       "      <td>2.847</td>\n",
       "      <td>2.549</td>\n",
       "      <td>1.203</td>\n",
       "      <td>2.766</td>\n",
       "      <td>2.0</td>\n",
       "      <td>1.203</td>\n",
       "      <td>500.0</td>\n",
       "      <td>500.0</td>\n",
       "      <td>13.12.2020</td>\n",
       "      <td>7:23:02</td>\n",
       "      <td>59042</td>\n",
       "    </tr>\n",
       "    <tr>\n",
       "      <th>54366</th>\n",
       "      <td>2.848</td>\n",
       "      <td>2.549</td>\n",
       "      <td>1.203</td>\n",
       "      <td>2.766</td>\n",
       "      <td>2.0</td>\n",
       "      <td>1.203</td>\n",
       "      <td>500.0</td>\n",
       "      <td>500.0</td>\n",
       "      <td>13.12.2020</td>\n",
       "      <td>7:23:05</td>\n",
       "      <td>59045</td>\n",
       "    </tr>\n",
       "    <tr>\n",
       "      <th>54367</th>\n",
       "      <td>2.848</td>\n",
       "      <td>2.548</td>\n",
       "      <td>1.203</td>\n",
       "      <td>2.766</td>\n",
       "      <td>2.0</td>\n",
       "      <td>1.203</td>\n",
       "      <td>500.0</td>\n",
       "      <td>500.0</td>\n",
       "      <td>13.12.2020</td>\n",
       "      <td>7:23:06</td>\n",
       "      <td>59046</td>\n",
       "    </tr>\n",
       "    <tr>\n",
       "      <th>54373</th>\n",
       "      <td>2.851</td>\n",
       "      <td>2.549</td>\n",
       "      <td>1.203</td>\n",
       "      <td>2.766</td>\n",
       "      <td>2.0</td>\n",
       "      <td>1.203</td>\n",
       "      <td>500.0</td>\n",
       "      <td>500.0</td>\n",
       "      <td>13.12.2020</td>\n",
       "      <td>7:23:13</td>\n",
       "      <td>59053</td>\n",
       "    </tr>\n",
       "    <tr>\n",
       "      <th>54374</th>\n",
       "      <td>2.853</td>\n",
       "      <td>2.548</td>\n",
       "      <td>1.203</td>\n",
       "      <td>2.766</td>\n",
       "      <td>2.0</td>\n",
       "      <td>1.203</td>\n",
       "      <td>500.0</td>\n",
       "      <td>500.0</td>\n",
       "      <td>13.12.2020</td>\n",
       "      <td>7:23:14</td>\n",
       "      <td>59054</td>\n",
       "    </tr>\n",
       "    <tr>\n",
       "      <th>54375</th>\n",
       "      <td>2.855</td>\n",
       "      <td>2.548</td>\n",
       "      <td>1.203</td>\n",
       "      <td>2.766</td>\n",
       "      <td>2.0</td>\n",
       "      <td>1.203</td>\n",
       "      <td>500.0</td>\n",
       "      <td>500.0</td>\n",
       "      <td>13.12.2020</td>\n",
       "      <td>7:23:15</td>\n",
       "      <td>59055</td>\n",
       "    </tr>\n",
       "    <tr>\n",
       "      <th>54376</th>\n",
       "      <td>2.853</td>\n",
       "      <td>2.549</td>\n",
       "      <td>1.203</td>\n",
       "      <td>2.766</td>\n",
       "      <td>2.0</td>\n",
       "      <td>1.203</td>\n",
       "      <td>500.0</td>\n",
       "      <td>500.0</td>\n",
       "      <td>13.12.2020</td>\n",
       "      <td>7:23:16</td>\n",
       "      <td>59056</td>\n",
       "    </tr>\n",
       "    <tr>\n",
       "      <th>54377</th>\n",
       "      <td>2.852</td>\n",
       "      <td>2.548</td>\n",
       "      <td>1.203</td>\n",
       "      <td>2.766</td>\n",
       "      <td>2.0</td>\n",
       "      <td>1.203</td>\n",
       "      <td>500.0</td>\n",
       "      <td>500.0</td>\n",
       "      <td>13.12.2020</td>\n",
       "      <td>7:23:17</td>\n",
       "      <td>59057</td>\n",
       "    </tr>\n",
       "    <tr>\n",
       "      <th>54378</th>\n",
       "      <td>2.851</td>\n",
       "      <td>2.548</td>\n",
       "      <td>1.203</td>\n",
       "      <td>2.766</td>\n",
       "      <td>2.0</td>\n",
       "      <td>1.203</td>\n",
       "      <td>500.0</td>\n",
       "      <td>500.0</td>\n",
       "      <td>13.12.2020</td>\n",
       "      <td>7:23:18</td>\n",
       "      <td>59058</td>\n",
       "    </tr>\n",
       "    <tr>\n",
       "      <th>54379</th>\n",
       "      <td>2.853</td>\n",
       "      <td>2.548</td>\n",
       "      <td>1.203</td>\n",
       "      <td>2.766</td>\n",
       "      <td>2.0</td>\n",
       "      <td>1.203</td>\n",
       "      <td>500.0</td>\n",
       "      <td>500.0</td>\n",
       "      <td>13.12.2020</td>\n",
       "      <td>7:23:19</td>\n",
       "      <td>59059</td>\n",
       "    </tr>\n",
       "    <tr>\n",
       "      <th>54380</th>\n",
       "      <td>2.852</td>\n",
       "      <td>2.548</td>\n",
       "      <td>1.203</td>\n",
       "      <td>2.766</td>\n",
       "      <td>2.0</td>\n",
       "      <td>1.203</td>\n",
       "      <td>500.0</td>\n",
       "      <td>500.0</td>\n",
       "      <td>13.12.2020</td>\n",
       "      <td>7:23:20</td>\n",
       "      <td>59060</td>\n",
       "    </tr>\n",
       "    <tr>\n",
       "      <th>54381</th>\n",
       "      <td>2.852</td>\n",
       "      <td>2.548</td>\n",
       "      <td>1.203</td>\n",
       "      <td>2.766</td>\n",
       "      <td>2.0</td>\n",
       "      <td>1.203</td>\n",
       "      <td>500.0</td>\n",
       "      <td>500.0</td>\n",
       "      <td>13.12.2020</td>\n",
       "      <td>7:23:22</td>\n",
       "      <td>59062</td>\n",
       "    </tr>\n",
       "    <tr>\n",
       "      <th>54382</th>\n",
       "      <td>2.850</td>\n",
       "      <td>2.548</td>\n",
       "      <td>1.203</td>\n",
       "      <td>2.766</td>\n",
       "      <td>2.0</td>\n",
       "      <td>1.203</td>\n",
       "      <td>500.0</td>\n",
       "      <td>500.0</td>\n",
       "      <td>13.12.2020</td>\n",
       "      <td>7:23:23</td>\n",
       "      <td>59063</td>\n",
       "    </tr>\n",
       "    <tr>\n",
       "      <th>54383</th>\n",
       "      <td>2.850</td>\n",
       "      <td>2.548</td>\n",
       "      <td>1.203</td>\n",
       "      <td>2.766</td>\n",
       "      <td>2.0</td>\n",
       "      <td>1.203</td>\n",
       "      <td>500.0</td>\n",
       "      <td>500.0</td>\n",
       "      <td>13.12.2020</td>\n",
       "      <td>7:23:24</td>\n",
       "      <td>59064</td>\n",
       "    </tr>\n",
       "    <tr>\n",
       "      <th>54384</th>\n",
       "      <td>2.848</td>\n",
       "      <td>2.548</td>\n",
       "      <td>1.203</td>\n",
       "      <td>2.766</td>\n",
       "      <td>2.0</td>\n",
       "      <td>1.203</td>\n",
       "      <td>500.0</td>\n",
       "      <td>500.0</td>\n",
       "      <td>13.12.2020</td>\n",
       "      <td>7:23:25</td>\n",
       "      <td>59065</td>\n",
       "    </tr>\n",
       "    <tr>\n",
       "      <th>54385</th>\n",
       "      <td>2.850</td>\n",
       "      <td>2.548</td>\n",
       "      <td>1.203</td>\n",
       "      <td>2.766</td>\n",
       "      <td>2.0</td>\n",
       "      <td>1.203</td>\n",
       "      <td>500.0</td>\n",
       "      <td>500.0</td>\n",
       "      <td>13.12.2020</td>\n",
       "      <td>7:23:26</td>\n",
       "      <td>59066</td>\n",
       "    </tr>\n",
       "    <tr>\n",
       "      <th>54386</th>\n",
       "      <td>2.851</td>\n",
       "      <td>2.548</td>\n",
       "      <td>1.203</td>\n",
       "      <td>2.766</td>\n",
       "      <td>2.0</td>\n",
       "      <td>1.203</td>\n",
       "      <td>500.0</td>\n",
       "      <td>500.0</td>\n",
       "      <td>13.12.2020</td>\n",
       "      <td>7:23:27</td>\n",
       "      <td>59067</td>\n",
       "    </tr>\n",
       "    <tr>\n",
       "      <th>54387</th>\n",
       "      <td>2.850</td>\n",
       "      <td>2.548</td>\n",
       "      <td>1.203</td>\n",
       "      <td>2.765</td>\n",
       "      <td>2.0</td>\n",
       "      <td>1.203</td>\n",
       "      <td>500.0</td>\n",
       "      <td>500.0</td>\n",
       "      <td>13.12.2020</td>\n",
       "      <td>7:23:28</td>\n",
       "      <td>59068</td>\n",
       "    </tr>\n",
       "    <tr>\n",
       "      <th>54388</th>\n",
       "      <td>2.849</td>\n",
       "      <td>2.548</td>\n",
       "      <td>1.203</td>\n",
       "      <td>2.766</td>\n",
       "      <td>2.0</td>\n",
       "      <td>1.203</td>\n",
       "      <td>500.0</td>\n",
       "      <td>500.0</td>\n",
       "      <td>13.12.2020</td>\n",
       "      <td>7:23:29</td>\n",
       "      <td>59069</td>\n",
       "    </tr>\n",
       "    <tr>\n",
       "      <th>54389</th>\n",
       "      <td>2.849</td>\n",
       "      <td>2.548</td>\n",
       "      <td>1.203</td>\n",
       "      <td>2.765</td>\n",
       "      <td>2.0</td>\n",
       "      <td>1.203</td>\n",
       "      <td>500.0</td>\n",
       "      <td>500.0</td>\n",
       "      <td>13.12.2020</td>\n",
       "      <td>7:23:30</td>\n",
       "      <td>59070</td>\n",
       "    </tr>\n",
       "    <tr>\n",
       "      <th>54390</th>\n",
       "      <td>2.850</td>\n",
       "      <td>2.548</td>\n",
       "      <td>1.203</td>\n",
       "      <td>2.765</td>\n",
       "      <td>2.0</td>\n",
       "      <td>1.203</td>\n",
       "      <td>500.0</td>\n",
       "      <td>500.0</td>\n",
       "      <td>13.12.2020</td>\n",
       "      <td>7:23:31</td>\n",
       "      <td>59071</td>\n",
       "    </tr>\n",
       "    <tr>\n",
       "      <th>54391</th>\n",
       "      <td>2.850</td>\n",
       "      <td>2.548</td>\n",
       "      <td>1.203</td>\n",
       "      <td>2.766</td>\n",
       "      <td>2.0</td>\n",
       "      <td>1.203</td>\n",
       "      <td>500.0</td>\n",
       "      <td>500.0</td>\n",
       "      <td>13.12.2020</td>\n",
       "      <td>7:23:32</td>\n",
       "      <td>59072</td>\n",
       "    </tr>\n",
       "    <tr>\n",
       "      <th>54392</th>\n",
       "      <td>2.850</td>\n",
       "      <td>2.548</td>\n",
       "      <td>1.203</td>\n",
       "      <td>2.765</td>\n",
       "      <td>2.0</td>\n",
       "      <td>1.203</td>\n",
       "      <td>500.0</td>\n",
       "      <td>500.0</td>\n",
       "      <td>13.12.2020</td>\n",
       "      <td>7:23:33</td>\n",
       "      <td>59073</td>\n",
       "    </tr>\n",
       "    <tr>\n",
       "      <th>54393</th>\n",
       "      <td>2.849</td>\n",
       "      <td>2.548</td>\n",
       "      <td>1.203</td>\n",
       "      <td>2.765</td>\n",
       "      <td>2.0</td>\n",
       "      <td>1.203</td>\n",
       "      <td>500.0</td>\n",
       "      <td>500.0</td>\n",
       "      <td>13.12.2020</td>\n",
       "      <td>7:23:35</td>\n",
       "      <td>59075</td>\n",
       "    </tr>\n",
       "    <tr>\n",
       "      <th>54394</th>\n",
       "      <td>2.849</td>\n",
       "      <td>2.548</td>\n",
       "      <td>1.203</td>\n",
       "      <td>2.765</td>\n",
       "      <td>2.0</td>\n",
       "      <td>1.203</td>\n",
       "      <td>500.0</td>\n",
       "      <td>500.0</td>\n",
       "      <td>13.12.2020</td>\n",
       "      <td>7:23:36</td>\n",
       "      <td>59076</td>\n",
       "    </tr>\n",
       "    <tr>\n",
       "      <th>54395</th>\n",
       "      <td>2.849</td>\n",
       "      <td>2.548</td>\n",
       "      <td>1.203</td>\n",
       "      <td>2.765</td>\n",
       "      <td>2.0</td>\n",
       "      <td>1.203</td>\n",
       "      <td>500.0</td>\n",
       "      <td>500.0</td>\n",
       "      <td>13.12.2020</td>\n",
       "      <td>7:23:37</td>\n",
       "      <td>59077</td>\n",
       "    </tr>\n",
       "    <tr>\n",
       "      <th>54396</th>\n",
       "      <td>2.849</td>\n",
       "      <td>2.548</td>\n",
       "      <td>1.203</td>\n",
       "      <td>2.765</td>\n",
       "      <td>2.0</td>\n",
       "      <td>1.203</td>\n",
       "      <td>500.0</td>\n",
       "      <td>500.0</td>\n",
       "      <td>13.12.2020</td>\n",
       "      <td>7:23:38</td>\n",
       "      <td>59078</td>\n",
       "    </tr>\n",
       "    <tr>\n",
       "      <th>54397</th>\n",
       "      <td>2.848</td>\n",
       "      <td>2.548</td>\n",
       "      <td>1.203</td>\n",
       "      <td>2.765</td>\n",
       "      <td>2.0</td>\n",
       "      <td>1.203</td>\n",
       "      <td>500.0</td>\n",
       "      <td>500.0</td>\n",
       "      <td>13.12.2020</td>\n",
       "      <td>7:23:39</td>\n",
       "      <td>59079</td>\n",
       "    </tr>\n",
       "    <tr>\n",
       "      <th>54398</th>\n",
       "      <td>2.848</td>\n",
       "      <td>2.548</td>\n",
       "      <td>1.203</td>\n",
       "      <td>2.765</td>\n",
       "      <td>2.0</td>\n",
       "      <td>1.203</td>\n",
       "      <td>500.0</td>\n",
       "      <td>500.0</td>\n",
       "      <td>13.12.2020</td>\n",
       "      <td>7:23:40</td>\n",
       "      <td>59080</td>\n",
       "    </tr>\n",
       "    <tr>\n",
       "      <th>54399</th>\n",
       "      <td>2.848</td>\n",
       "      <td>2.548</td>\n",
       "      <td>1.203</td>\n",
       "      <td>2.765</td>\n",
       "      <td>2.0</td>\n",
       "      <td>1.203</td>\n",
       "      <td>500.0</td>\n",
       "      <td>500.0</td>\n",
       "      <td>13.12.2020</td>\n",
       "      <td>7:23:41</td>\n",
       "      <td>59081</td>\n",
       "    </tr>\n",
       "    <tr>\n",
       "      <th>54400</th>\n",
       "      <td>2.848</td>\n",
       "      <td>2.548</td>\n",
       "      <td>1.203</td>\n",
       "      <td>2.765</td>\n",
       "      <td>2.0</td>\n",
       "      <td>1.203</td>\n",
       "      <td>500.0</td>\n",
       "      <td>500.0</td>\n",
       "      <td>13.12.2020</td>\n",
       "      <td>7:23:42</td>\n",
       "      <td>59082</td>\n",
       "    </tr>\n",
       "    <tr>\n",
       "      <th>54401</th>\n",
       "      <td>2.849</td>\n",
       "      <td>2.548</td>\n",
       "      <td>1.203</td>\n",
       "      <td>2.765</td>\n",
       "      <td>2.0</td>\n",
       "      <td>1.203</td>\n",
       "      <td>500.0</td>\n",
       "      <td>500.0</td>\n",
       "      <td>13.12.2020</td>\n",
       "      <td>7:23:43</td>\n",
       "      <td>59083</td>\n",
       "    </tr>\n",
       "    <tr>\n",
       "      <th>54402</th>\n",
       "      <td>2.849</td>\n",
       "      <td>2.548</td>\n",
       "      <td>1.203</td>\n",
       "      <td>2.766</td>\n",
       "      <td>2.0</td>\n",
       "      <td>1.203</td>\n",
       "      <td>500.0</td>\n",
       "      <td>500.0</td>\n",
       "      <td>13.12.2020</td>\n",
       "      <td>7:23:44</td>\n",
       "      <td>59084</td>\n",
       "    </tr>\n",
       "    <tr>\n",
       "      <th>54403</th>\n",
       "      <td>2.849</td>\n",
       "      <td>2.548</td>\n",
       "      <td>1.203</td>\n",
       "      <td>2.765</td>\n",
       "      <td>2.0</td>\n",
       "      <td>1.203</td>\n",
       "      <td>500.0</td>\n",
       "      <td>500.0</td>\n",
       "      <td>13.12.2020</td>\n",
       "      <td>7:23:45</td>\n",
       "      <td>59085</td>\n",
       "    </tr>\n",
       "    <tr>\n",
       "      <th>54404</th>\n",
       "      <td>2.847</td>\n",
       "      <td>2.548</td>\n",
       "      <td>1.203</td>\n",
       "      <td>2.765</td>\n",
       "      <td>2.0</td>\n",
       "      <td>1.203</td>\n",
       "      <td>500.0</td>\n",
       "      <td>500.0</td>\n",
       "      <td>13.12.2020</td>\n",
       "      <td>7:23:46</td>\n",
       "      <td>59086</td>\n",
       "    </tr>\n",
       "    <tr>\n",
       "      <th>54405</th>\n",
       "      <td>2.847</td>\n",
       "      <td>2.548</td>\n",
       "      <td>1.203</td>\n",
       "      <td>2.765</td>\n",
       "      <td>2.0</td>\n",
       "      <td>1.203</td>\n",
       "      <td>500.0</td>\n",
       "      <td>500.0</td>\n",
       "      <td>13.12.2020</td>\n",
       "      <td>7:23:48</td>\n",
       "      <td>59088</td>\n",
       "    </tr>\n",
       "    <tr>\n",
       "      <th>54406</th>\n",
       "      <td>2.847</td>\n",
       "      <td>2.548</td>\n",
       "      <td>1.203</td>\n",
       "      <td>2.765</td>\n",
       "      <td>2.0</td>\n",
       "      <td>1.203</td>\n",
       "      <td>500.0</td>\n",
       "      <td>500.0</td>\n",
       "      <td>13.12.2020</td>\n",
       "      <td>7:23:49</td>\n",
       "      <td>59089</td>\n",
       "    </tr>\n",
       "    <tr>\n",
       "      <th>54407</th>\n",
       "      <td>2.846</td>\n",
       "      <td>2.548</td>\n",
       "      <td>1.203</td>\n",
       "      <td>2.765</td>\n",
       "      <td>2.0</td>\n",
       "      <td>1.203</td>\n",
       "      <td>500.0</td>\n",
       "      <td>500.0</td>\n",
       "      <td>13.12.2020</td>\n",
       "      <td>7:23:50</td>\n",
       "      <td>59090</td>\n",
       "    </tr>\n",
       "    <tr>\n",
       "      <th>54408</th>\n",
       "      <td>2.846</td>\n",
       "      <td>2.548</td>\n",
       "      <td>1.203</td>\n",
       "      <td>2.765</td>\n",
       "      <td>2.0</td>\n",
       "      <td>1.203</td>\n",
       "      <td>500.0</td>\n",
       "      <td>500.0</td>\n",
       "      <td>13.12.2020</td>\n",
       "      <td>7:23:51</td>\n",
       "      <td>59091</td>\n",
       "    </tr>\n",
       "    <tr>\n",
       "      <th>54409</th>\n",
       "      <td>2.847</td>\n",
       "      <td>2.548</td>\n",
       "      <td>1.203</td>\n",
       "      <td>2.765</td>\n",
       "      <td>2.0</td>\n",
       "      <td>1.203</td>\n",
       "      <td>500.0</td>\n",
       "      <td>500.0</td>\n",
       "      <td>13.12.2020</td>\n",
       "      <td>7:23:52</td>\n",
       "      <td>59092</td>\n",
       "    </tr>\n",
       "    <tr>\n",
       "      <th>54411</th>\n",
       "      <td>2.846</td>\n",
       "      <td>2.548</td>\n",
       "      <td>1.203</td>\n",
       "      <td>2.765</td>\n",
       "      <td>2.0</td>\n",
       "      <td>1.203</td>\n",
       "      <td>500.0</td>\n",
       "      <td>500.0</td>\n",
       "      <td>13.12.2020</td>\n",
       "      <td>7:23:54</td>\n",
       "      <td>59094</td>\n",
       "    </tr>\n",
       "    <tr>\n",
       "      <th>54413</th>\n",
       "      <td>2.847</td>\n",
       "      <td>2.548</td>\n",
       "      <td>1.203</td>\n",
       "      <td>2.765</td>\n",
       "      <td>2.0</td>\n",
       "      <td>1.203</td>\n",
       "      <td>500.0</td>\n",
       "      <td>500.0</td>\n",
       "      <td>13.12.2020</td>\n",
       "      <td>7:23:56</td>\n",
       "      <td>59096</td>\n",
       "    </tr>\n",
       "    <tr>\n",
       "      <th>54415</th>\n",
       "      <td>2.847</td>\n",
       "      <td>2.548</td>\n",
       "      <td>1.203</td>\n",
       "      <td>2.765</td>\n",
       "      <td>2.0</td>\n",
       "      <td>1.203</td>\n",
       "      <td>500.0</td>\n",
       "      <td>500.0</td>\n",
       "      <td>13.12.2020</td>\n",
       "      <td>7:23:58</td>\n",
       "      <td>59098</td>\n",
       "    </tr>\n",
       "    <tr>\n",
       "      <th>54418</th>\n",
       "      <td>2.845</td>\n",
       "      <td>2.548</td>\n",
       "      <td>1.203</td>\n",
       "      <td>2.765</td>\n",
       "      <td>2.0</td>\n",
       "      <td>1.203</td>\n",
       "      <td>500.0</td>\n",
       "      <td>500.0</td>\n",
       "      <td>13.12.2020</td>\n",
       "      <td>7:24:02</td>\n",
       "      <td>59102</td>\n",
       "    </tr>\n",
       "    <tr>\n",
       "      <th>54419</th>\n",
       "      <td>2.844</td>\n",
       "      <td>2.548</td>\n",
       "      <td>1.203</td>\n",
       "      <td>2.765</td>\n",
       "      <td>2.0</td>\n",
       "      <td>1.203</td>\n",
       "      <td>500.0</td>\n",
       "      <td>500.0</td>\n",
       "      <td>13.12.2020</td>\n",
       "      <td>7:24:03</td>\n",
       "      <td>59103</td>\n",
       "    </tr>\n",
       "    <tr>\n",
       "      <th>54433</th>\n",
       "      <td>2.851</td>\n",
       "      <td>2.548</td>\n",
       "      <td>1.203</td>\n",
       "      <td>2.765</td>\n",
       "      <td>2.0</td>\n",
       "      <td>1.203</td>\n",
       "      <td>500.0</td>\n",
       "      <td>500.0</td>\n",
       "      <td>13.12.2020</td>\n",
       "      <td>7:24:18</td>\n",
       "      <td>59118</td>\n",
       "    </tr>\n",
       "    <tr>\n",
       "      <th>54439</th>\n",
       "      <td>2.849</td>\n",
       "      <td>2.547</td>\n",
       "      <td>1.203</td>\n",
       "      <td>2.765</td>\n",
       "      <td>2.0</td>\n",
       "      <td>1.203</td>\n",
       "      <td>500.0</td>\n",
       "      <td>500.0</td>\n",
       "      <td>13.12.2020</td>\n",
       "      <td>7:24:25</td>\n",
       "      <td>59125</td>\n",
       "    </tr>\n",
       "  </tbody>\n",
       "</table>\n",
       "</div>"
      ],
      "text/plain": [
       "          T1     T2     T3     T4   T5     T6     T7     T8        Date  \\\n",
       "54359  2.848  2.549  1.203  2.766  2.0  1.203  500.0  500.0  13.12.2020   \n",
       "54360  2.848  2.548  1.203  2.766  2.0  1.203  500.0  500.0  13.12.2020   \n",
       "54361  2.847  2.549  1.203  2.766  2.0  1.203  500.0  500.0  13.12.2020   \n",
       "54363  2.847  2.549  1.203  2.766  2.0  1.203  500.0  500.0  13.12.2020   \n",
       "54366  2.848  2.549  1.203  2.766  2.0  1.203  500.0  500.0  13.12.2020   \n",
       "54367  2.848  2.548  1.203  2.766  2.0  1.203  500.0  500.0  13.12.2020   \n",
       "54373  2.851  2.549  1.203  2.766  2.0  1.203  500.0  500.0  13.12.2020   \n",
       "54374  2.853  2.548  1.203  2.766  2.0  1.203  500.0  500.0  13.12.2020   \n",
       "54375  2.855  2.548  1.203  2.766  2.0  1.203  500.0  500.0  13.12.2020   \n",
       "54376  2.853  2.549  1.203  2.766  2.0  1.203  500.0  500.0  13.12.2020   \n",
       "54377  2.852  2.548  1.203  2.766  2.0  1.203  500.0  500.0  13.12.2020   \n",
       "54378  2.851  2.548  1.203  2.766  2.0  1.203  500.0  500.0  13.12.2020   \n",
       "54379  2.853  2.548  1.203  2.766  2.0  1.203  500.0  500.0  13.12.2020   \n",
       "54380  2.852  2.548  1.203  2.766  2.0  1.203  500.0  500.0  13.12.2020   \n",
       "54381  2.852  2.548  1.203  2.766  2.0  1.203  500.0  500.0  13.12.2020   \n",
       "54382  2.850  2.548  1.203  2.766  2.0  1.203  500.0  500.0  13.12.2020   \n",
       "54383  2.850  2.548  1.203  2.766  2.0  1.203  500.0  500.0  13.12.2020   \n",
       "54384  2.848  2.548  1.203  2.766  2.0  1.203  500.0  500.0  13.12.2020   \n",
       "54385  2.850  2.548  1.203  2.766  2.0  1.203  500.0  500.0  13.12.2020   \n",
       "54386  2.851  2.548  1.203  2.766  2.0  1.203  500.0  500.0  13.12.2020   \n",
       "54387  2.850  2.548  1.203  2.765  2.0  1.203  500.0  500.0  13.12.2020   \n",
       "54388  2.849  2.548  1.203  2.766  2.0  1.203  500.0  500.0  13.12.2020   \n",
       "54389  2.849  2.548  1.203  2.765  2.0  1.203  500.0  500.0  13.12.2020   \n",
       "54390  2.850  2.548  1.203  2.765  2.0  1.203  500.0  500.0  13.12.2020   \n",
       "54391  2.850  2.548  1.203  2.766  2.0  1.203  500.0  500.0  13.12.2020   \n",
       "54392  2.850  2.548  1.203  2.765  2.0  1.203  500.0  500.0  13.12.2020   \n",
       "54393  2.849  2.548  1.203  2.765  2.0  1.203  500.0  500.0  13.12.2020   \n",
       "54394  2.849  2.548  1.203  2.765  2.0  1.203  500.0  500.0  13.12.2020   \n",
       "54395  2.849  2.548  1.203  2.765  2.0  1.203  500.0  500.0  13.12.2020   \n",
       "54396  2.849  2.548  1.203  2.765  2.0  1.203  500.0  500.0  13.12.2020   \n",
       "54397  2.848  2.548  1.203  2.765  2.0  1.203  500.0  500.0  13.12.2020   \n",
       "54398  2.848  2.548  1.203  2.765  2.0  1.203  500.0  500.0  13.12.2020   \n",
       "54399  2.848  2.548  1.203  2.765  2.0  1.203  500.0  500.0  13.12.2020   \n",
       "54400  2.848  2.548  1.203  2.765  2.0  1.203  500.0  500.0  13.12.2020   \n",
       "54401  2.849  2.548  1.203  2.765  2.0  1.203  500.0  500.0  13.12.2020   \n",
       "54402  2.849  2.548  1.203  2.766  2.0  1.203  500.0  500.0  13.12.2020   \n",
       "54403  2.849  2.548  1.203  2.765  2.0  1.203  500.0  500.0  13.12.2020   \n",
       "54404  2.847  2.548  1.203  2.765  2.0  1.203  500.0  500.0  13.12.2020   \n",
       "54405  2.847  2.548  1.203  2.765  2.0  1.203  500.0  500.0  13.12.2020   \n",
       "54406  2.847  2.548  1.203  2.765  2.0  1.203  500.0  500.0  13.12.2020   \n",
       "54407  2.846  2.548  1.203  2.765  2.0  1.203  500.0  500.0  13.12.2020   \n",
       "54408  2.846  2.548  1.203  2.765  2.0  1.203  500.0  500.0  13.12.2020   \n",
       "54409  2.847  2.548  1.203  2.765  2.0  1.203  500.0  500.0  13.12.2020   \n",
       "54411  2.846  2.548  1.203  2.765  2.0  1.203  500.0  500.0  13.12.2020   \n",
       "54413  2.847  2.548  1.203  2.765  2.0  1.203  500.0  500.0  13.12.2020   \n",
       "54415  2.847  2.548  1.203  2.765  2.0  1.203  500.0  500.0  13.12.2020   \n",
       "54418  2.845  2.548  1.203  2.765  2.0  1.203  500.0  500.0  13.12.2020   \n",
       "54419  2.844  2.548  1.203  2.765  2.0  1.203  500.0  500.0  13.12.2020   \n",
       "54433  2.851  2.548  1.203  2.765  2.0  1.203  500.0  500.0  13.12.2020   \n",
       "54439  2.849  2.547  1.203  2.765  2.0  1.203  500.0  500.0  13.12.2020   \n",
       "\n",
       "          Time TotalTime  \n",
       "54359  7:22:58     59038  \n",
       "54360  7:22:59     59039  \n",
       "54361  7:23:00     59040  \n",
       "54363  7:23:02     59042  \n",
       "54366  7:23:05     59045  \n",
       "54367  7:23:06     59046  \n",
       "54373  7:23:13     59053  \n",
       "54374  7:23:14     59054  \n",
       "54375  7:23:15     59055  \n",
       "54376  7:23:16     59056  \n",
       "54377  7:23:17     59057  \n",
       "54378  7:23:18     59058  \n",
       "54379  7:23:19     59059  \n",
       "54380  7:23:20     59060  \n",
       "54381  7:23:22     59062  \n",
       "54382  7:23:23     59063  \n",
       "54383  7:23:24     59064  \n",
       "54384  7:23:25     59065  \n",
       "54385  7:23:26     59066  \n",
       "54386  7:23:27     59067  \n",
       "54387  7:23:28     59068  \n",
       "54388  7:23:29     59069  \n",
       "54389  7:23:30     59070  \n",
       "54390  7:23:31     59071  \n",
       "54391  7:23:32     59072  \n",
       "54392  7:23:33     59073  \n",
       "54393  7:23:35     59075  \n",
       "54394  7:23:36     59076  \n",
       "54395  7:23:37     59077  \n",
       "54396  7:23:38     59078  \n",
       "54397  7:23:39     59079  \n",
       "54398  7:23:40     59080  \n",
       "54399  7:23:41     59081  \n",
       "54400  7:23:42     59082  \n",
       "54401  7:23:43     59083  \n",
       "54402  7:23:44     59084  \n",
       "54403  7:23:45     59085  \n",
       "54404  7:23:46     59086  \n",
       "54405  7:23:48     59088  \n",
       "54406  7:23:49     59089  \n",
       "54407  7:23:50     59090  \n",
       "54408  7:23:51     59091  \n",
       "54409  7:23:52     59092  \n",
       "54411  7:23:54     59094  \n",
       "54413  7:23:56     59096  \n",
       "54415  7:23:58     59098  \n",
       "54418  7:24:02     59102  \n",
       "54419  7:24:03     59103  \n",
       "54433  7:24:18     59118  \n",
       "54439  7:24:25     59125  "
      ]
     },
     "execution_count": 18,
     "metadata": {},
     "output_type": "execute_result"
    }
   ],
   "source": [
    "temp_data.loc[temp_data['T5'] == 2.0]"
   ]
  },
  {
   "cell_type": "code",
   "execution_count": 19,
   "metadata": {},
   "outputs": [],
   "source": [
    "x_x = [[1700, 5000, 30000, 32000], \n",
    "     [32000, 33000, 35000, 36400], \n",
    "     [36500, 37500, 38500, 39200], \n",
    "     [39200, 40000, 41000, 42000],\n",
    "     [42250, 48000, 55000, 62418]]\n",
    "y_y = [[4.132, 3.546, 2.148, 2.145], \n",
    "     [2.113, 2.109, 2.104, 2.098], \n",
    "     [2.114, 2.211, 2.218, 2.217], \n",
    "     [2.217, 2.18, 2.157, 2.141],\n",
    "     [2.113, 2.071, 2.033, 1.946]]"
   ]
  },
  {
   "cell_type": "code",
   "execution_count": 20,
   "metadata": {},
   "outputs": [
    {
     "name": "stdout",
     "output_type": "stream",
     "text": [
      "[[             1           1700        2890000     4913000000]\n",
      " [             1           5000       25000000   125000000000]\n",
      " [             1          30000      900000000 27000000000000]\n",
      " [             1          32000     1024000000 32768000000000]] \n",
      "\n",
      "[4.132 3.546 2.148 2.145]\n"
     ]
    }
   ],
   "source": [
    "X_1 = np.array([[1, x_x[0][0], x_x[0][0]**2, x_x[0][0]**3],\n",
    "              [1, x_x[0][1], x_x[0][1]**2, x_x[0][1]**3], \n",
    "              [1, x_x[0][2], x_x[0][2]**2, x_x[0][2]**3], \n",
    "              [1, x_x[0][3], x_x[0][3]**2, x_x[0][3]**3],])\n",
    "print(X_1, '\\n')\n",
    "\n",
    "#Зададим вектор решений\n",
    "b_1 = np.array(y_y[0])\n",
    "print(b_1)"
   ]
  },
  {
   "cell_type": "code",
   "execution_count": 21,
   "metadata": {},
   "outputs": [
    {
     "name": "stdout",
     "output_type": "stream",
     "text": [
      "[[             1          32000     1024000000 32768000000000]\n",
      " [             1          33000     1089000000 35937000000000]\n",
      " [             1          35000     1225000000 42875000000000]\n",
      " [             1          36400     1324960000 48228544000000]] \n",
      "\n",
      "[2.113 2.109 2.104 2.098]\n"
     ]
    }
   ],
   "source": [
    "X_2 = np.array([[1, x_x[1][0], x_x[1][0]**2, x_x[1][0]**3],\n",
    "              [1, x_x[1][1], x_x[1][1]**2, x_x[1][1]**3], \n",
    "              [1, x_x[1][2], x_x[1][2]**2, x_x[1][2]**3], \n",
    "              [1, x_x[1][3], x_x[1][3]**2, x_x[1][3]**3],])\n",
    "print(X_2, '\\n')\n",
    "\n",
    "#Зададим вектор решений\n",
    "b_2 = np.array(y_y[1])\n",
    "print(b_2)"
   ]
  },
  {
   "cell_type": "code",
   "execution_count": 22,
   "metadata": {},
   "outputs": [
    {
     "name": "stdout",
     "output_type": "stream",
     "text": [
      "[[             1          36500     1332250000 48627125000000]\n",
      " [             1          37500     1406250000 52734375000000]\n",
      " [             1          38500     1482250000 57066625000000]\n",
      " [             1          39200     1536640000 60236288000000]] \n",
      "\n",
      "[2.114 2.211 2.218 2.217]\n"
     ]
    }
   ],
   "source": [
    "X_3 = np.array([[1, x_x[2][0], x_x[2][0]**2, x_x[2][0]**3],\n",
    "              [1, x_x[2][1], x_x[2][1]**2, x_x[2][1]**3], \n",
    "              [1, x_x[2][2], x_x[2][2]**2, x_x[2][2]**3], \n",
    "              [1, x_x[2][3], x_x[2][3]**2, x_x[2][3]**3],])\n",
    "print(X_3, '\\n')\n",
    "\n",
    "#Зададим вектор решений\n",
    "b_3 = np.array(y_y[2])\n",
    "print(b_3)"
   ]
  },
  {
   "cell_type": "code",
   "execution_count": 23,
   "metadata": {},
   "outputs": [
    {
     "name": "stdout",
     "output_type": "stream",
     "text": [
      "[[             1          39200     1536640000 60236288000000]\n",
      " [             1          40000     1600000000 64000000000000]\n",
      " [             1          41000     1681000000 68921000000000]\n",
      " [             1          42000     1764000000 74088000000000]] \n",
      "\n",
      "[2.217 2.18  2.157 2.141]\n"
     ]
    }
   ],
   "source": [
    "X_4 = np.array([[1, x_x[3][0], x_x[3][0]**2, x_x[3][0]**3],\n",
    "              [1, x_x[3][1], x_x[3][1]**2, x_x[3][1]**3], \n",
    "              [1, x_x[3][2], x_x[3][2]**2, x_x[3][2]**3], \n",
    "              [1, x_x[3][3], x_x[3][3]**2, x_x[3][3]**3]])\n",
    "print(X_4, '\\n')\n",
    "\n",
    "#Зададим вектор решений\n",
    "b_4 = np.array(y_y[3])\n",
    "print(b_4)"
   ]
  },
  {
   "cell_type": "code",
   "execution_count": 24,
   "metadata": {},
   "outputs": [
    {
     "name": "stdout",
     "output_type": "stream",
     "text": [
      "[[              1           42250      1785062500  75418890625000]\n",
      " [              1           48000      2304000000 110592000000000]\n",
      " [              1           55000      3025000000 166375000000000]\n",
      " [              1           62418      3896006724 243180947698632]] \n",
      "\n",
      "[2.113 2.071 2.033 1.946]\n"
     ]
    }
   ],
   "source": [
    "X_5 = np.array([[1, x_x[4][0], x_x[4][0]**2, x_x[4][0]**3],\n",
    "              [1, x_x[4][1], x_x[4][1]**2, x_x[4][1]**3], \n",
    "              [1, x_x[4][2], x_x[4][2]**2, x_x[4][2]**3], \n",
    "              [1, x_x[4][3], x_x[4][3]**2, x_x[4][3]**3]])\n",
    "print(X_5, '\\n')\n",
    "\n",
    "#Зададим вектор решений\n",
    "b_5 = np.array(y_y[4])\n",
    "print(b_5)"
   ]
  },
  {
   "cell_type": "code",
   "execution_count": 25,
   "metadata": {},
   "outputs": [],
   "source": [
    "def linf_2(x, w): # w - массив коэффициентов многочлена\n",
    "    return w[3] * (x**3) + w[2] * (x**2) + w[1] * x + w[0]"
   ]
  },
  {
   "cell_type": "code",
   "execution_count": 26,
   "metadata": {},
   "outputs": [
    {
     "name": "stdout",
     "output_type": "stream",
     "text": [
      "[ 4.48963384e+00 -2.22164371e-04  7.06429183e-09 -7.53542728e-14]\n"
     ]
    }
   ],
   "source": [
    "import scipy.linalg\n",
    "w_1 = scipy.linalg.solve(X_1, b_1)\n",
    "print(w_1)"
   ]
  },
  {
   "cell_type": "code",
   "execution_count": 27,
   "metadata": {},
   "outputs": [
    {
     "name": "stdout",
     "output_type": "stream",
     "text": [
      "[ 1.13807647e+01 -8.12630634e-04  2.38002292e-08 -2.33002292e-13]\n"
     ]
    }
   ],
   "source": [
    "w_2 = scipy.linalg.solve(X_2, b_2)\n",
    "print(w_2)"
   ]
  },
  {
   "cell_type": "code",
   "execution_count": 28,
   "metadata": {},
   "outputs": [
    {
     "name": "stdout",
     "output_type": "stream",
     "text": [
      "[-8.44534752e+02  6.59778209e-02 -1.71341737e-06  1.48303766e-11]\n"
     ]
    }
   ],
   "source": [
    "w_3 = scipy.linalg.solve(X_3, b_3)\n",
    "print(w_3)"
   ]
  },
  {
   "cell_type": "code",
   "execution_count": 29,
   "metadata": {},
   "outputs": [
    {
     "name": "stdout",
     "output_type": "stream",
     "text": [
      "[ 2.40490000e+02 -1.72632262e-02  4.17160714e-07 -3.36309524e-12]\n"
     ]
    }
   ],
   "source": [
    "w_4 = scipy.linalg.solve(X_4, b_4)\n",
    "print(w_4)"
   ]
  },
  {
   "cell_type": "code",
   "execution_count": 30,
   "metadata": {},
   "outputs": [
    {
     "name": "stdout",
     "output_type": "stream",
     "text": [
      "[ 5.95007999e+00 -2.23057598e-04  4.35344787e-09 -2.89592300e-14]\n"
     ]
    }
   ],
   "source": [
    "w_5 = scipy.linalg.solve(X_5, b_5)\n",
    "print(w_5)"
   ]
  },
  {
   "cell_type": "code",
   "execution_count": 31,
   "metadata": {},
   "outputs": [],
   "source": [
    "x_1 = np.linspace(1700, 32000, num=31308)\n",
    "z_1 = linf_2(x_1, w_1)\n",
    "\n",
    "x_2 = np.linspace(32000, 36400, num=31308)\n",
    "z_2 = linf_2(x_2, w_2)\n",
    "\n",
    "x_3 = np.linspace(36400, 39200, num=31308)\n",
    "z_3 = linf_2(x_3, w_3)\n",
    "\n",
    "x_4 = np.linspace(39200, 42000, num=31308)\n",
    "z_4 = linf_2(x_4, w_4)\n",
    "\n",
    "x_5 = np.linspace(42250, 62418, num=31308)\n",
    "z_5 = linf_2(x_5, w_5)"
   ]
  },
  {
   "cell_type": "code",
   "execution_count": 32,
   "metadata": {
    "scrolled": false
   },
   "outputs": [
    {
     "data": {
      "text/plain": [
       "<matplotlib.legend.Legend at 0x7f1310871be0>"
      ]
     },
     "execution_count": 32,
     "metadata": {},
     "output_type": "execute_result"
    },
    {
     "data": {
      "image/png": "[encoded data removed]",
      "text/plain": [
       "<Figure size 3240x3240 with 1 Axes>"
      ]
     },
     "metadata": {
      "needs_background": "light"
     },
     "output_type": "display_data"
    }
   ],
   "source": [
    "plt.figure(figsize=(45, 45))\n",
    "ax = plt.subplot(3,3,1)\n",
    "plt.plot(x_data, y_data[\"T5\"], color=\"orange\", label=\"Temperature\")\n",
    "\n",
    "plt.plot(x_1, z_1, color=\"blue\", label=\"Temperature_1\")\n",
    "plt.plot(x_2, z_2, color=\"blue\", label=\"Temperature_2\")\n",
    "plt.plot(x_3, z_3, color=\"blue\", label=\"Temperature_3\")\n",
    "plt.plot(x_4, z_4, color=\"blue\", label=\"Temperature_4\")\n",
    "plt.plot(x_5, z_5, color=\"blue\", label=\"Temperature_4\")\n",
    "plt.xlabel(\"Time, sec\")\n",
    "plt.ylabel(\"T{}, K\".format(5))\n",
    "plt.grid(True)\n",
    "plt.legend()"
   ]
  },
  {
   "cell_type": "code",
   "execution_count": null,
   "metadata": {},
   "outputs": [],
   "source": [
    "ax.vlines"
   ]
  },
  {
   "cell_type": "code",
   "execution_count": 34,
   "metadata": {},
   "outputs": [
    {
     "data": {
      "text/plain": [
       "<matplotlib.legend.Legend at 0x7f131c558c88>"
      ]
     },
     "execution_count": 34,
     "metadata": {},
     "output_type": "execute_result"
    },
    {
     "data": {
      "image/png": "[encoded data removed]",
      "text/plain": [
       "<Figure size 3240x3240 with 1 Axes>"
      ]
     },
     "metadata": {
      "needs_background": "light"
     },
     "output_type": "display_data"
    }
   ],
   "source": [
    "plt.figure(figsize=(45, 45))\n",
    "ax = plt.subplot(3,3,1)\n",
    "y_der1 = np.diff(z_1)/np.diff(x_1)\n",
    "y_der2 = np.diff(z_2)/np.diff(x_2)\n",
    "y_der3 = np.diff(z_3)/np.diff(x_3)\n",
    "y_der4 = np.diff(z_4)/np.diff(x_4)\n",
    "y_der5 = np.diff(z_5)/np.diff(x_5)\n",
    "\n",
    "plt.plot(x_1[:-1], y_der1, color=\"green\")\n",
    "plt.plot(x_2[:-1], y_der2, color=\"green\")\n",
    "plt.plot(x_3[:-1], y_der3, color=\"green\")\n",
    "plt.plot(x_4[:-1], y_der4, color=\"green\")\n",
    "plt.plot(x_5[:-1], y_der5, color=\"green\")\n",
    "\n",
    "\n",
    "plt.scatter(59057, -0.0000115, color=\"red\", label=\"T= 2.0К, V= -0.0001 К/с\", s=50)\n",
    "plt.scatter(62418, -0.0000180, color=\"violet\", label=\"T= 1.946К, V= -0.0002 К/с\", s=50)\n",
    "\n",
    "\n",
    "ax.vlines(32000, -0.0001, 0.0001, color = 'blue', linestyles = \"dashed\", label = \"Lambda-transition_1, T=2.15\")\n",
    "ax.vlines(36400, -0.00005, 0.00020, color = 'orange', linestyles = \"dashed\", label = \"Helium puffing occurance\")\n",
    "ax.vlines(39200, -0.00010, 0.00003, color = 'orange', linestyles = \"dashdot\", label = \"Helium puffing ilimination\")\n",
    "ax.vlines(42250, -0.0001, 0.0001, color = 'blue', linestyles = \"dashdot\", label = \"Lambda-transition_2, T=2.15\")\n",
    "plt.xlabel(\"Time, sec\")\n",
    "plt.ylabel(\"V{}, К/с\".format(5))\n",
    "plt.grid(True)\n",
    "plt.legend()"
   ]
  },
  {
   "cell_type": "code",
   "execution_count": 27,
   "metadata": {},
   "outputs": [
    {
     "data": {
      "text/html": [
       "<div>\n",
       "<style scoped>\n",
       "    .dataframe tbody tr th:only-of-type {\n",
       "        vertical-align: middle;\n",
       "    }\n",
       "\n",
       "    .dataframe tbody tr th {\n",
       "        vertical-align: top;\n",
       "    }\n",
       "\n",
       "    .dataframe thead th {\n",
       "        text-align: right;\n",
       "    }\n",
       "</style>\n",
       "<table border=\"1\" class=\"dataframe\">\n",
       "  <thead>\n",
       "    <tr style=\"text-align: right;\">\n",
       "      <th></th>\n",
       "      <th>T5</th>\n",
       "      <th>Date</th>\n",
       "      <th>Time</th>\n",
       "      <th>TotalTime</th>\n",
       "    </tr>\n",
       "  </thead>\n",
       "  <tbody>\n",
       "    <tr>\n",
       "      <th>57472</th>\n",
       "      <td>1.946</td>\n",
       "      <td>13.12.2020</td>\n",
       "      <td>8:19:18</td>\n",
       "      <td>62418</td>\n",
       "    </tr>\n",
       "  </tbody>\n",
       "</table>\n",
       "</div>"
      ],
      "text/plain": [
       "          T5        Date     Time TotalTime\n",
       "57472  1.946  13.12.2020  8:19:18     62418"
      ]
     },
     "execution_count": 27,
     "metadata": {},
     "output_type": "execute_result"
    }
   ],
   "source": [
    "temp_data = temp_data.drop([\"T1\", \"T2\", \"T3\", \"T4\", \"T8\", \"T6\", \"T7\"], 1)\n",
    "temp_data.loc[temp_data['TotalTime'] == temp_data['TotalTime'].max()]"
   ]
  },
  {
   "cell_type": "code",
   "execution_count": 69,
   "metadata": {},
   "outputs": [
    {
     "data": {
      "text/html": [
       "<div>\n",
       "<style scoped>\n",
       "    .dataframe tbody tr th:only-of-type {\n",
       "        vertical-align: middle;\n",
       "    }\n",
       "\n",
       "    .dataframe tbody tr th {\n",
       "        vertical-align: top;\n",
       "    }\n",
       "\n",
       "    .dataframe thead th {\n",
       "        text-align: right;\n",
       "    }\n",
       "</style>\n",
       "<table border=\"1\" class=\"dataframe\">\n",
       "  <thead>\n",
       "    <tr style=\"text-align: right;\">\n",
       "      <th></th>\n",
       "      <th>T5</th>\n",
       "      <th>Date</th>\n",
       "      <th>Time</th>\n",
       "      <th>TotalTime</th>\n",
       "    </tr>\n",
       "  </thead>\n",
       "  <tbody>\n",
       "    <tr>\n",
       "      <th>0</th>\n",
       "      <td>4.131</td>\n",
       "      <td>12.12.2020</td>\n",
       "      <td>14:59:00</td>\n",
       "      <td>0</td>\n",
       "    </tr>\n",
       "  </tbody>\n",
       "</table>\n",
       "</div>"
      ],
      "text/plain": [
       "      T5        Date      Time TotalTime\n",
       "0  4.131  12.12.2020  14:59:00         0"
      ]
     },
     "execution_count": 69,
     "metadata": {},
     "output_type": "execute_result"
    }
   ],
   "source": [
    "temp_data.loc[temp_data['TotalTime'] == temp_data['TotalTime'].min()]"
   ]
  },
  {
   "cell_type": "code",
   "execution_count": 29,
   "metadata": {},
   "outputs": [],
   "source": [
    "x_data_volume = level_data[\"TotalTime\"]\n",
    "y_data_volume = level_data[\"Level, cm\"]"
   ]
  },
  {
   "cell_type": "code",
   "execution_count": 30,
   "metadata": {},
   "outputs": [
    {
     "data": {
      "text/plain": [
       "<matplotlib.legend.Legend at 0x7fd07c142470>"
      ]
     },
     "execution_count": 30,
     "metadata": {},
     "output_type": "execute_result"
    },
    {
     "data": {
      "image/png": "[encoded data removed]",
      "text/plain": [
       "<Figure size 3600x3600 with 1 Axes>"
      ]
     },
     "metadata": {
      "needs_background": "light"
     },
     "output_type": "display_data"
    }
   ],
   "source": [
    "plt.figure(figsize=(50, 50))\n",
    "ax = plt.subplot(3,3,1)\n",
    "ax.vlines(32000, y_data_volume.min(), y_data_volume.max(), color = 'r')\n",
    "ax.hlines(67.4, x_data_volume.min(), x_data_volume.max(), color = 'r')\n",
    "plt.plot(x_data_volume, y_data_volume, color=\"blue\", label=\"Volume\")\n",
    "plt.scatter(32000, 67.4, color=\"red\", label=\"Lambda-point\", s=30)\n",
    "plt.xlabel(\"Time, sec\")\n",
    "plt.ylabel(\"Volume, cm\")\n",
    "plt.grid(True)\n",
    "plt.legend()"
   ]
  },
  {
   "cell_type": "code",
   "execution_count": 31,
   "metadata": {},
   "outputs": [
    {
     "data": {
      "text/html": [
       "<div>\n",
       "<style scoped>\n",
       "    .dataframe tbody tr th:only-of-type {\n",
       "        vertical-align: middle;\n",
       "    }\n",
       "\n",
       "    .dataframe tbody tr th {\n",
       "        vertical-align: top;\n",
       "    }\n",
       "\n",
       "    .dataframe thead th {\n",
       "        text-align: right;\n",
       "    }\n",
       "</style>\n",
       "<table border=\"1\" class=\"dataframe\">\n",
       "  <thead>\n",
       "    <tr style=\"text-align: right;\">\n",
       "      <th></th>\n",
       "      <th>T5</th>\n",
       "      <th>Date</th>\n",
       "      <th>Time</th>\n",
       "      <th>TotalTime</th>\n",
       "    </tr>\n",
       "  </thead>\n",
       "  <tbody>\n",
       "    <tr>\n",
       "      <th>26562</th>\n",
       "      <td>2.15</td>\n",
       "      <td>12.12.2020</td>\n",
       "      <td>22:59:47</td>\n",
       "      <td>28847</td>\n",
       "    </tr>\n",
       "    <tr>\n",
       "      <th>26899</th>\n",
       "      <td>2.15</td>\n",
       "      <td>12.12.2020</td>\n",
       "      <td>23:05:53</td>\n",
       "      <td>29213</td>\n",
       "    </tr>\n",
       "    <tr>\n",
       "      <th>26909</th>\n",
       "      <td>2.15</td>\n",
       "      <td>12.12.2020</td>\n",
       "      <td>23:06:03</td>\n",
       "      <td>29223</td>\n",
       "    </tr>\n",
       "    <tr>\n",
       "      <th>26911</th>\n",
       "      <td>2.15</td>\n",
       "      <td>12.12.2020</td>\n",
       "      <td>23:06:06</td>\n",
       "      <td>29226</td>\n",
       "    </tr>\n",
       "    <tr>\n",
       "      <th>26913</th>\n",
       "      <td>2.15</td>\n",
       "      <td>12.12.2020</td>\n",
       "      <td>23:06:08</td>\n",
       "      <td>29228</td>\n",
       "    </tr>\n",
       "    <tr>\n",
       "      <th>...</th>\n",
       "      <td>...</td>\n",
       "      <td>...</td>\n",
       "      <td>...</td>\n",
       "      <td>...</td>\n",
       "    </tr>\n",
       "    <tr>\n",
       "      <th>38161</th>\n",
       "      <td>2.15</td>\n",
       "      <td>13.12.2020</td>\n",
       "      <td>2:29:47</td>\n",
       "      <td>41447</td>\n",
       "    </tr>\n",
       "    <tr>\n",
       "      <th>38583</th>\n",
       "      <td>2.15</td>\n",
       "      <td>13.12.2020</td>\n",
       "      <td>2:37:25</td>\n",
       "      <td>41905</td>\n",
       "    </tr>\n",
       "    <tr>\n",
       "      <th>38615</th>\n",
       "      <td>2.15</td>\n",
       "      <td>13.12.2020</td>\n",
       "      <td>2:38:00</td>\n",
       "      <td>41940</td>\n",
       "    </tr>\n",
       "    <tr>\n",
       "      <th>38705</th>\n",
       "      <td>2.15</td>\n",
       "      <td>13.12.2020</td>\n",
       "      <td>2:39:38</td>\n",
       "      <td>42038</td>\n",
       "    </tr>\n",
       "    <tr>\n",
       "      <th>38730</th>\n",
       "      <td>2.15</td>\n",
       "      <td>13.12.2020</td>\n",
       "      <td>2:40:05</td>\n",
       "      <td>42065</td>\n",
       "    </tr>\n",
       "  </tbody>\n",
       "</table>\n",
       "<p>143 rows × 4 columns</p>\n",
       "</div>"
      ],
      "text/plain": [
       "         T5        Date      Time TotalTime\n",
       "26562  2.15  12.12.2020  22:59:47     28847\n",
       "26899  2.15  12.12.2020  23:05:53     29213\n",
       "26909  2.15  12.12.2020  23:06:03     29223\n",
       "26911  2.15  12.12.2020  23:06:06     29226\n",
       "26913  2.15  12.12.2020  23:06:08     29228\n",
       "...     ...         ...       ...       ...\n",
       "38161  2.15  13.12.2020   2:29:47     41447\n",
       "38583  2.15  13.12.2020   2:37:25     41905\n",
       "38615  2.15  13.12.2020   2:38:00     41940\n",
       "38705  2.15  13.12.2020   2:39:38     42038\n",
       "38730  2.15  13.12.2020   2:40:05     42065\n",
       "\n",
       "[143 rows x 4 columns]"
      ]
     },
     "execution_count": 31,
     "metadata": {},
     "output_type": "execute_result"
    }
   ],
   "source": [
    "temp_data.loc[temp_data['T5'] == 2.15]"
   ]
  },
  {
   "cell_type": "code",
   "execution_count": 32,
   "metadata": {},
   "outputs": [
    {
     "data": {
      "text/html": [
       "<div>\n",
       "<style scoped>\n",
       "    .dataframe tbody tr th:only-of-type {\n",
       "        vertical-align: middle;\n",
       "    }\n",
       "\n",
       "    .dataframe tbody tr th {\n",
       "        vertical-align: top;\n",
       "    }\n",
       "\n",
       "    .dataframe thead th {\n",
       "        text-align: right;\n",
       "    }\n",
       "</style>\n",
       "<table border=\"1\" class=\"dataframe\">\n",
       "  <thead>\n",
       "    <tr style=\"text-align: right;\">\n",
       "      <th></th>\n",
       "      <th>Level, cm</th>\n",
       "      <th>Date</th>\n",
       "      <th>Time</th>\n",
       "      <th>TotalTime</th>\n",
       "    </tr>\n",
       "  </thead>\n",
       "  <tbody>\n",
       "    <tr>\n",
       "      <th>31990</th>\n",
       "      <td>67.4</td>\n",
       "      <td>12.12.2020</td>\n",
       "      <td>23:52:23</td>\n",
       "      <td>32000</td>\n",
       "    </tr>\n",
       "  </tbody>\n",
       "</table>\n",
       "</div>"
      ],
      "text/plain": [
       "       Level, cm        Date      Time TotalTime\n",
       "31990       67.4  12.12.2020  23:52:23     32000"
      ]
     },
     "execution_count": 32,
     "metadata": {},
     "output_type": "execute_result"
    }
   ],
   "source": [
    "level_data.loc[level_data['TotalTime'] == 32000]"
   ]
  },
  {
   "cell_type": "code",
   "execution_count": 33,
   "metadata": {},
   "outputs": [
    {
     "data": {
      "text/html": [
       "<div>\n",
       "<style scoped>\n",
       "    .dataframe tbody tr th:only-of-type {\n",
       "        vertical-align: middle;\n",
       "    }\n",
       "\n",
       "    .dataframe tbody tr th {\n",
       "        vertical-align: top;\n",
       "    }\n",
       "\n",
       "    .dataframe thead th {\n",
       "        text-align: right;\n",
       "    }\n",
       "</style>\n",
       "<table border=\"1\" class=\"dataframe\">\n",
       "  <thead>\n",
       "    <tr style=\"text-align: right;\">\n",
       "      <th></th>\n",
       "      <th>Level, cm</th>\n",
       "      <th>Date</th>\n",
       "      <th>Time</th>\n",
       "      <th>TotalTime</th>\n",
       "    </tr>\n",
       "  </thead>\n",
       "  <tbody>\n",
       "    <tr>\n",
       "      <th>62397</th>\n",
       "      <td>63.5</td>\n",
       "      <td>13.12.2020</td>\n",
       "      <td>8:19:18</td>\n",
       "      <td>62415</td>\n",
       "    </tr>\n",
       "  </tbody>\n",
       "</table>\n",
       "</div>"
      ],
      "text/plain": [
       "       Level, cm        Date     Time TotalTime\n",
       "62397       63.5  13.12.2020  8:19:18     62415"
      ]
     },
     "execution_count": 33,
     "metadata": {},
     "output_type": "execute_result"
    }
   ],
   "source": [
    "level_data.loc[level_data['TotalTime'] == level_data['TotalTime'].max()]"
   ]
  },
  {
   "cell_type": "code",
   "execution_count": 34,
   "metadata": {},
   "outputs": [
    {
     "data": {
      "text/html": [
       "<div>\n",
       "<style scoped>\n",
       "    .dataframe tbody tr th:only-of-type {\n",
       "        vertical-align: middle;\n",
       "    }\n",
       "\n",
       "    .dataframe tbody tr th {\n",
       "        vertical-align: top;\n",
       "    }\n",
       "\n",
       "    .dataframe thead th {\n",
       "        text-align: right;\n",
       "    }\n",
       "</style>\n",
       "<table border=\"1\" class=\"dataframe\">\n",
       "  <thead>\n",
       "    <tr style=\"text-align: right;\">\n",
       "      <th></th>\n",
       "      <th>Level, cm</th>\n",
       "      <th>Date</th>\n",
       "      <th>Time</th>\n",
       "      <th>TotalTime</th>\n",
       "    </tr>\n",
       "  </thead>\n",
       "  <tbody>\n",
       "    <tr>\n",
       "      <th>0</th>\n",
       "      <td>117.6</td>\n",
       "      <td>12.12.2020</td>\n",
       "      <td>14:59:03</td>\n",
       "      <td>0</td>\n",
       "    </tr>\n",
       "  </tbody>\n",
       "</table>\n",
       "</div>"
      ],
      "text/plain": [
       "   Level, cm        Date      Time TotalTime\n",
       "0      117.6  12.12.2020  14:59:03         0"
      ]
     },
     "execution_count": 34,
     "metadata": {},
     "output_type": "execute_result"
    }
   ],
   "source": [
    "level_data.loc[level_data['TotalTime'] == level_data['TotalTime'].min()]"
   ]
  },
  {
   "cell_type": "code",
   "execution_count": null,
   "metadata": {},
   "outputs": [],
   "source": []
  }
 ],
 "metadata": {
  "kernelspec": {
   "display_name": "Python 3",
   "language": "python",
   "name": "python3"
  },
  "language_info": {
   "codemirror_mode": {
    "name": "ipython",
    "version": 3
   },
   "file_extension": ".py",
   "mimetype": "text/x-python",
   "name": "python",
   "nbconvert_exporter": "python",
   "pygments_lexer": "ipython3",
   "version": "3.6.9"
  }
 },
 "nbformat": 4,
 "nbformat_minor": 4
}

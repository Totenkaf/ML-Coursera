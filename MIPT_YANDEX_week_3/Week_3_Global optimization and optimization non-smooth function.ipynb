{
 "cells": [
  {
   "cell_type": "markdown",
   "metadata": {},
   "source": [
    "Данное задание основано на материалах секции, посвященной оптимизационным задачам и методам их решения. Вам понадобится компьютер с установленным интерпретатором Python и подключенными библиотеками NumPy, SciPy и Matplotlib.\n",
    "\n",
    "Вы научитесь:\n",
    "применять библиотеку SciPy для минимизации функций\n",
    "делать выбор между градиентными и неградиентными методами оптимизации, исходя из особенностей задачи и ваших пожеланий к итоговому решению\n"
   ]
  },
  {
   "cell_type": "markdown",
   "metadata": {},
   "source": [
    "Введение\n",
    "В этом задании вы научитесь решать задачи оптимизации с помощью библиотеки SciPy. Сначала вы решите задачу поиска минимума функции с помощью одного из градиентных методов оптимизации, затем увидите отличия в работе градиентного метода и одного из методов глобальной оптимизации, а в заключение – найдете глобальный минимум негладкой функции, т.е. функции, у которой не всегда определен градиент.\n",
    "\n",
    "Понимание задачи глобальной оптимизации и отличий градиентных методов, от методов, не использующих градиент, очень полезно в задачах анализа данных, в частности, для подбора параметров алгоритмов."
   ]
  },
  {
   "cell_type": "markdown",
   "metadata": {},
   "source": [
    "# Part 1. Smooth function minimization"
   ]
  },
  {
   "cell_type": "markdown",
   "metadata": {},
   "source": [
    "1.Рассмотрим все ту же функцию из задания по линейной алгебре: f(x) = sin(x / 5) * exp(x / 10) + 5 * exp(-x / 2), но теперь уже на промежутке [1, 30]"
   ]
  },
  {
   "cell_type": "code",
   "execution_count": 73,
   "metadata": {},
   "outputs": [],
   "source": [
    "import numpy as np\n",
    "import scipy as sp\n",
    "%matplotlib inline\n",
    "from matplotlib import pylab as plt"
   ]
  },
  {
   "cell_type": "code",
   "execution_count": 74,
   "metadata": {},
   "outputs": [],
   "source": [
    "#Define the function\n",
    "def f(x):\n",
    "    return (np.sin(x / 5.0) * np.exp(x / 10.0) + 5 * np.exp(-x / 2.0))"
   ]
  },
  {
   "cell_type": "code",
   "execution_count": 75,
   "metadata": {},
   "outputs": [
    {
     "data": {
      "image/png": "[encoded data removed]",
      "text/plain": [
       "<Figure size 432x288 with 1 Axes>"
      ]
     },
     "metadata": {
      "needs_background": "light"
     },
     "output_type": "display_data"
    }
   ],
   "source": [
    "#Зададим непрерывную последовательность чисел при помощи numpy.linspace()\n",
    "x = np.linspace(1, 30)\n",
    "y = f(x)\n",
    "\n",
    "#Построение графика функции и его отображение matplotlib.pylab.plot()\n",
    "plt.plot(x, y)\n",
    "plt.show()"
   ]
  },
  {
   "cell_type": "markdown",
   "metadata": {},
   "source": [
    "2.В первом задании будем искать минимум этой функции на заданном промежутке с помощью scipy.optimize. Разумеется, в дальнейшем вы будете использовать методы оптимизации для более сложных функций, а f(x) мы рассмотрим как удобный учебный пример."
   ]
  },
  {
   "cell_type": "markdown",
   "metadata": {},
   "source": [
    "3.Напишите на Питоне функцию, вычисляющую значение f(x) по известному x. Будьте внимательны: не забывайте про то, что по умолчанию в питоне целые числа делятся нацело, и о том, что функции sin и exp нужно импортировать из модуля math."
   ]
  },
  {
   "cell_type": "markdown",
   "metadata": {},
   "source": [
    "# I. Minimize method (scipy.optimize.minimize())"
   ]
  },
  {
   "cell_type": "code",
   "execution_count": 115,
   "metadata": {
    "scrolled": true
   },
   "outputs": [
    {
     "name": "stdout",
     "output_type": "stream",
     "text": [
      "Enter the start condition : 2\n",
      "Minimum x = 4.14\n",
      "f(x = min_value) = 1.75\n"
     ]
    }
   ],
   "source": [
    "#Start condition\n",
    "x0 = int(input(\"Enter the start condition : \"))\n",
    "\n",
    "#Minimum value, NELDER_MID method as default method\n",
    "\n",
    "min_value = sp.optimize.minimize(f, x0)\n",
    "print('Minimum x =', *np.round((min_value.x), decimals=2))\n",
    "print('f(x = min_value) =', np.round(min_value.fun, decimals=2))"
   ]
  },
  {
   "cell_type": "markdown",
   "metadata": {},
   "source": [
    "# II. BFGS method (scipy.optimize.minimize(method= 'BFGS'))"
   ]
  },
  {
   "cell_type": "code",
   "execution_count": 116,
   "metadata": {},
   "outputs": [
    {
     "name": "stdout",
     "output_type": "stream",
     "text": [
      "Enter the start condition : 2\n",
      "      fun: 1.7452682903449388\n",
      " hess_inv: array([[5.98752437]])\n",
      "      jac: array([-2.07126141e-06])\n",
      "  message: 'Optimization terminated successfully.'\n",
      "     nfev: 14\n",
      "      nit: 6\n",
      "     njev: 7\n",
      "   status: 0\n",
      "  success: True\n",
      "        x: array([4.13627618]) \n",
      "\n",
      "Minimum x = 4.14\n",
      "f(x = min_value) = 1.75\n"
     ]
    }
   ],
   "source": [
    "#Start condition\n",
    "x0 = int(input(\"Enter the start condition : \"))\n",
    "\n",
    "\n",
    "min_value = sp.optimize.minimize(f, x0, method='BFGS')\n",
    "print(min_value, '\\n')\n",
    "print('Minimum x =', *np.round((min_value.x), decimals=2))\n",
    "print('f(x = min_value) =', np.round(min_value.fun, decimals=2))"
   ]
  },
  {
   "cell_type": "code",
   "execution_count": 117,
   "metadata": {},
   "outputs": [],
   "source": [
    "#Открытие файла на запись\n",
    "with open(\"result_part_1.txt\", 'w') as file:\n",
    "    file.write(str(np.round(min_value.fun, decimals=2)) + ' ')"
   ]
  },
  {
   "cell_type": "code",
   "execution_count": 118,
   "metadata": {},
   "outputs": [
    {
     "name": "stdout",
     "output_type": "stream",
     "text": [
      "Enter the start condition : 30\n",
      "      fun: -11.898894665981285\n",
      " hess_inv: array([[1.67932484]])\n",
      "      jac: array([2.38418579e-07])\n",
      "  message: 'Optimization terminated successfully.'\n",
      "     nfev: 14\n",
      "      nit: 6\n",
      "     njev: 7\n",
      "   status: 0\n",
      "  success: True\n",
      "        x: array([25.88019339]) \n",
      "\n",
      "Minimum x = 25.88\n",
      "f(x = min_value) = -11.9\n"
     ]
    }
   ],
   "source": [
    "#Start condition\n",
    "x0 = int(input(\"Enter the start condition : \"))\n",
    "\n",
    "\n",
    "min_value = sp.optimize.minimize(f, x0, method='BFGS')\n",
    "print(min_value, '\\n')\n",
    "\n",
    "print('Minimum x =', *np.round((min_value.x), decimals=2))\n",
    "print('f(x = min_value) =', np.round(min_value.fun, decimals=2))"
   ]
  },
  {
   "cell_type": "code",
   "execution_count": 119,
   "metadata": {},
   "outputs": [],
   "source": [
    "#Открытие файла на дозапись\n",
    "with open(\"result_part_1.txt\", 'a') as file:\n",
    "    file.write(str(np.round(min_value.fun, decimals=2)))"
   ]
  },
  {
   "cell_type": "markdown",
   "metadata": {},
   "source": [
    "# Part 2. Smooth function global minimization"
   ]
  },
  {
   "cell_type": "markdown",
   "metadata": {},
   "source": [
    "Теперь попробуем применить к той же функции f(x) метод глобальной оптимизации — дифференциальную эволюцию.\n",
    "Изучите документацию и примеры использования функции scipy.optimize.differential_evolution.\n",
    "Обратите внимание, что границы значений аргументов функции представляют собой список кортежей (list, в который помещены объекты типа tuple). Даже если у вас функция одного аргумента, возьмите границы его значений в квадратные скобки, чтобы передавать в этом параметре список из одного кортежа, т.к. в реализации scipy.optimize.differential_evolution длина этого списка используется чтобы определить количество аргументов функции."
   ]
  },
  {
   "cell_type": "markdown",
   "metadata": {},
   "source": [
    "# I. Evolution method (scipy.optimize.differential_evolution())"
   ]
  },
  {
   "cell_type": "code",
   "execution_count": 131,
   "metadata": {},
   "outputs": [
    {
     "name": "stdout",
     "output_type": "stream",
     "text": [
      "1 30\n",
      "(1, 30)\n",
      "     fun: array([-11.89889467])\n",
      "     jac: array([1.42108535e-06])\n",
      " message: 'Optimization terminated successfully.'\n",
      "    nfev: 98\n",
      "     nit: 5\n",
      " success: True\n",
      "       x: array([25.88019506]) \n",
      "\n",
      "Minimum x = 25.88\n",
      "f(x = min_value) = -11.9\n"
     ]
    }
   ],
   "source": [
    "#Start condition\n",
    "from scipy.optimize import differential_evolution\n",
    "x0 = tuple(map(int, input().split()))\n",
    "print(x0)\n",
    "\n",
    "min_value = optimize.differential_evolution(f, [x0])\n",
    "print(min_value, '\\n')\n",
    "print('Minimum x =', *np.round((min_value.x), decimals=2))\n",
    "print('f(x = min_value) =', *np.round(min_value.fun, decimals=2))"
   ]
  },
  {
   "cell_type": "code",
   "execution_count": 132,
   "metadata": {},
   "outputs": [],
   "source": [
    "#Открытие файла на запись\n",
    "with open(\"result_part_2.txt\", 'w') as file:\n",
    "    file.write(str(*np.round(min_value.fun, decimals=2)) + ' ')"
   ]
  },
  {
   "cell_type": "markdown",
   "metadata": {},
   "source": [
    "# Part 3. Non-smooth function global minimization"
   ]
  },
  {
   "cell_type": "code",
   "execution_count": 122,
   "metadata": {},
   "outputs": [],
   "source": [
    "#Define the new function, ring to mind like int use @@np.int_@@\n",
    "def h(x):\n",
    "    return np.int_((np.sin(x / 5.0) * np.exp(x / 10.0) + 5 * np.exp(-x / 2.0)))"
   ]
  },
  {
   "cell_type": "code",
   "execution_count": 123,
   "metadata": {},
   "outputs": [
    {
     "data": {
      "image/png": "[encoded data removed]",
      "text/plain": [
       "<Figure size 432x288 with 1 Axes>"
      ]
     },
     "metadata": {
      "needs_background": "light"
     },
     "output_type": "display_data"
    }
   ],
   "source": [
    "#Зададим непрерывную последовательность чисел при помощи numpy.linspace()\n",
    "x = np.linspace(1, 30)\n",
    "y = h(x)\n",
    "\n",
    "#Построение графика функции и его отображение matplotlib.pylab.plot()\n",
    "plt.plot(x, y)\n",
    "plt.show()"
   ]
  },
  {
   "cell_type": "markdown",
   "metadata": {},
   "source": [
    "# I. BFGS method (scipy.optimize.minimize(method= 'BFGS'))"
   ]
  },
  {
   "cell_type": "code",
   "execution_count": 124,
   "metadata": {},
   "outputs": [
    {
     "name": "stdout",
     "output_type": "stream",
     "text": [
      "Enter the start condition : 30\n",
      "\n",
      "\n",
      "      fun: -5\n",
      " hess_inv: array([[1]])\n",
      "      jac: array([0.])\n",
      "  message: 'Optimization terminated successfully.'\n",
      "     nfev: 2\n",
      "      nit: 0\n",
      "     njev: 1\n",
      "   status: 0\n",
      "  success: True\n",
      "        x: array([30.]) \n",
      "\n",
      "Minimum x = 30.0\n",
      "f(x = min_value) = -5\n"
     ]
    }
   ],
   "source": [
    "#Start condition\n",
    "x0 = int(input(\"Enter the start condition : \"))\n",
    "print('\\n')\n",
    "\n",
    "min_value = sp.optimize.minimize(h, x0, method='BFGS')\n",
    "print(min_value, '\\n')\n",
    "print('Minimum x =', *np.round((min_value.x), decimals=2))\n",
    "print('f(x = min_value) =', np.round(min_value.fun, decimals=2))"
   ]
  },
  {
   "cell_type": "code",
   "execution_count": 125,
   "metadata": {},
   "outputs": [],
   "source": [
    "#Открытие файла на запись\n",
    "with open(\"result_part_3.txt\", 'w') as file:\n",
    "    file.write(str(np.round(min_value.fun, decimals=2)) + ' ')"
   ]
  },
  {
   "cell_type": "markdown",
   "metadata": {},
   "source": [
    "# Evolution method (scipy.optimize.differential_evolution())"
   ]
  },
  {
   "cell_type": "code",
   "execution_count": 127,
   "metadata": {},
   "outputs": [
    {
     "name": "stdout",
     "output_type": "stream",
     "text": [
      "1 30\n",
      "(1, 30)\n",
      "     fun: -11.0\n",
      " message: 'Optimization terminated successfully.'\n",
      "    nfev: 92\n",
      "     nit: 5\n",
      " success: True\n",
      "       x: array([24.03291112]) \n",
      "\n",
      "Minimum x = 24.03\n",
      "f(x = min_value) = -11.0\n"
     ]
    }
   ],
   "source": [
    "#Start condition\n",
    "from scipy.optimize import differential_evolution\n",
    "x0 = tuple(map(int, input().split()))\n",
    "print(x0)\n",
    "\n",
    "min_value = optimize.differential_evolution(h, [x0])\n",
    "print(min_value, '\\n')\n",
    "print('Minimum x =', *np.round((min_value.x), decimals=2))\n",
    "print('f(x = min_value) =', np.round(min_value.fun, decimals=2))"
   ]
  },
  {
   "cell_type": "code",
   "execution_count": 128,
   "metadata": {},
   "outputs": [],
   "source": [
    "#Открытие файла на дозапись\n",
    "with open(\"result_part_3.txt\", 'a') as file:\n",
    "    file.write(str(np.round(min_value.fun, decimals=2)))"
   ]
  },
  {
   "cell_type": "code",
   "execution_count": null,
   "metadata": {},
   "outputs": [],
   "source": []
  }
 ],
 "metadata": {
  "kernelspec": {
   "display_name": "Python 3",
   "language": "python",
   "name": "python3"
  },
  "language_info": {
   "codemirror_mode": {
    "name": "ipython",
    "version": 3
   },
   "file_extension": ".py",
   "mimetype": "text/x-python",
   "name": "python",
   "nbconvert_exporter": "python",
   "pygments_lexer": "ipython3",
   "version": "3.6.9"
  }
 },
 "nbformat": 4,
 "nbformat_minor": 4
}

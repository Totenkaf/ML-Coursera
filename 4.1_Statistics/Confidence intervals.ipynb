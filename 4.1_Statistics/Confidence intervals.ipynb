{
 "cells": [
  {
   "cell_type": "markdown",
   "id": "charming-module",
   "metadata": {},
   "source": [
    "# __Task 1__"
   ]
  },
  {
   "cell_type": "markdown",
   "id": "eligible-network",
   "metadata": {},
   "source": [
    "Давайте уточним правило трёх сигм. Утверждение: 99.7% вероятностной массы случайной величины $X\\sim N\\left(\\mu,\\sigma^2\\right)$ лежит в интервале $\\mu\\pm c \\cdot \\sigma$. Чему равно точное значение константы c? Округлите ответ до четырёх знаков после десятичной точки. "
   ]
  },
  {
   "cell_type": "code",
   "execution_count": 1,
   "id": "catholic-intersection",
   "metadata": {},
   "outputs": [
    {
     "name": "stdout",
     "output_type": "stream",
     "text": [
      "2.9677\n"
     ]
    }
   ],
   "source": [
    "import scipy.stats\n",
    "import numpy as np\n",
    "print(round(scipy.stats.norm.ppf(0.9985),4))"
   ]
  },
  {
   "cell_type": "code",
   "execution_count": 2,
   "id": "immediate-pencil",
   "metadata": {},
   "outputs": [],
   "source": [
    "scipy.stats.norm.ppf?"
   ]
  },
  {
   "cell_type": "markdown",
   "id": "contemporary-startup",
   "metadata": {},
   "source": [
    "# __Task 2__"
   ]
  },
  {
   "cell_type": "markdown",
   "id": "diverse-symposium",
   "metadata": {},
   "source": [
    "Пусть $X\\sim N\\left(\\mu, \\sigma^2\\right)$. Какое распределение имеет величина $\\frac{\\bar{X}_n-\\mu}{S_n/\\sqrt{n}}$"
   ]
  },
  {
   "cell_type": "markdown",
   "id": "developmental-mapping",
   "metadata": {},
   "source": [
    "Стьюдента"
   ]
  },
  {
   "cell_type": "markdown",
   "id": "robust-guatemala",
   "metadata": {},
   "source": [
    "# __Task 5__"
   ]
  },
  {
   "cell_type": "markdown",
   "id": "handled-terrorist",
   "metadata": {},
   "source": [
    "В пятилетнем рандомизированном исследовании Гарвардской медицинской школы 11037 испытуемых через день принимали аспирин, а ещё 11034 — плацебо. Исследование было слепым, то есть, испытуемые не знали, что именно они принимают.\n",
    "\n",
    "За 5 лет инфаркт случился у 104 испытуемых, принимавших аспирин, и у 189 принимавших плацебо. \n",
    "\n",
    "Оцените, насколько вероятность инфаркта снижается при приёме аспирина. Округлите ответ до четырёх знаков после десятичной точки."
   ]
  },
  {
   "cell_type": "markdown",
   "id": "lesbian-accreditation",
   "metadata": {},
   "source": [
    "### Отметим, что все пациенты, участвовашие в эксперименте не знают друг о друге, таким образом события являются независимыми.\n",
    "Чтобы выяснить, какая из долей лучше, требуется рассчитать доверительный интервал на разность двух этих долей.\n",
    "Будем сравнивать с первой долей"
   ]
  },
  {
   "cell_type": "code",
   "execution_count": 26,
   "id": "black-astrology",
   "metadata": {},
   "outputs": [
    {
     "name": "stdout",
     "output_type": "stream",
     "text": [
      "0.00771\n"
     ]
    }
   ],
   "source": [
    "# количество, принимавших аспирин\n",
    "n_1 = 11037\n",
    "# количество, принимавших плацебо\n",
    "n_2 = 11034\n",
    "# количество умерших, принимавших аспирин\n",
    "k_1 = 104\n",
    "# количество умерших, принимавших плацебо\n",
    "k_2 = 189\n",
    "\n",
    "# доля(вероятность) умереть при этом принимать аспирин\n",
    "p_1 = k_1 / n_1\n",
    "# доля(вероятность) умереть при этом принимать плацебо\n",
    "p_2 = k_2 / n_2\n",
    "p_1,p_2\n",
    "print(round((p_2 - p_1),5))"
   ]
  },
  {
   "cell_type": "markdown",
   "id": "aquatic-cathedral",
   "metadata": {},
   "source": [
    "# __Task 6__"
   ]
  },
  {
   "cell_type": "markdown",
   "id": "residential-colony",
   "metadata": {},
   "source": [
    "Постройте теперь 95% доверительный интервал для снижения вероятности инфаркта при приёме аспирина. Чему равна его верхняя граница? Округлите ответ до четырёх знаков после десятичной точки.  "
   ]
  },
  {
   "cell_type": "code",
   "execution_count": 21,
   "id": "annual-opera",
   "metadata": {},
   "outputs": [],
   "source": [
    "def proportions_confint_diff_ind(n_1, k_1, n_2, k_2, alpha = 0.05):    \n",
    "    z = scipy.stats.norm.ppf(1 - alpha / 2.)\n",
    "    \n",
    "    p1 = float(k_1) / n_1\n",
    "    p2 = float(k_2) / n_2\n",
    "    \n",
    "    left_boundary = (p1 - p2) - z * np.sqrt(p1 * (1 - p1)/ n_1 + p2 * (1 - p2)/ n_2)\n",
    "    right_boundary = (p1 - p2) + z * np.sqrt(p1 * (1 - p1)/ n_1 + p2 * (1 - p2)/ n_2)\n",
    "    \n",
    "    return (round(left_boundary,5), round(right_boundary,5))"
   ]
  },
  {
   "cell_type": "code",
   "execution_count": 22,
   "id": "cleared-buddy",
   "metadata": {},
   "outputs": [
    {
     "name": "stdout",
     "output_type": "stream",
     "text": [
      "confidence interval: [-0.010720, -0.004690]\n"
     ]
    }
   ],
   "source": [
    "print(\"confidence interval: [%f, %f]\" % proportions_confint_diff_ind(n_1, k_1, n_2, k_2))"
   ]
  },
  {
   "cell_type": "markdown",
   "id": "configured-appointment",
   "metadata": {},
   "source": [
    "# __Task 7__"
   ]
  },
  {
   "cell_type": "markdown",
   "id": "affecting-external",
   "metadata": {},
   "source": [
    "Продолжим анализировать данные эксперимента Гарвардской медицинской школы. \n",
    "\n",
    "Для бернуллиевских случайных величин $X\\sim Ber(p)X∼Ber(p)$ часто вычисляют величину $\\frac{p}{1-p}$, которая называется шансами (odds). Чтобы оценить шансы по выборке, вместо p нужно подставить $\\hat{p}$\n",
    "Например, шансы инфаркта в контрольной группе, принимавшей плацебо, можно оценить как \n",
    "$\\frac{\\frac{189}{11034}}{1-\\frac{189}{11034}} = \\frac{189}{11034-189}\\approx 0.0174$\n",
    "\n",
    "\n",
    "Оцените, во сколько раз понижаются шансы инфаркта при регулярном приёме аспирина. Округлите ответ до четырёх знаков после десятичной точки. "
   ]
  },
  {
   "cell_type": "code",
   "execution_count": 34,
   "id": "biblical-handbook",
   "metadata": {},
   "outputs": [
    {
     "name": "stdout",
     "output_type": "stream",
     "text": [
      "0.009512485136741973 0.017427385892116183\n",
      "1.8321\n"
     ]
    }
   ],
   "source": [
    "odds1 = p_1 / (1 - p_1)\n",
    "odds2 = p_2 / (1 - p_2)\n",
    "print(odds1, odds2)\n",
    "print(round((odds2 / odds1), 4))"
   ]
  },
  {
   "cell_type": "markdown",
   "id": "neither-india",
   "metadata": {},
   "source": [
    "# __Task 8__"
   ]
  },
  {
   "cell_type": "markdown",
   "id": "parliamentary-press",
   "metadata": {},
   "source": [
    "Вопрос 8\n",
    "Величина, которую вы оценили в предыдущем вопросе, называется отношением шансов. Постройте для отношения шансов 95% доверительный интервал с помощью бутстрепа. Чему равна его нижняя граница? Округлите ответ до 4 знаков после десятичной точки.\n",
    "\n",
    "Чтобы получить в точности такой же доверительный интервал, как у нас:\n",
    "\n",
    "составьте векторы исходов в контрольной и тестовой выборках так, чтобы в начале шли все единицы, а потом все нули;\n",
    "установите random seed=0;\n",
    "сделайте по 1000 псевдовыборок из каждой группы пациентов с помощью функции get_bootstrap_samples."
   ]
  },
  {
   "cell_type": "code",
   "execution_count": 49,
   "id": "published-comparison",
   "metadata": {},
   "outputs": [],
   "source": [
    "np.random.randint?"
   ]
  },
  {
   "cell_type": "code",
   "execution_count": 35,
   "id": "equivalent-nerve",
   "metadata": {},
   "outputs": [],
   "source": [
    "def get_bootstrap_samples(data, n_samples):\n",
    "    indices = np.random.randint(0, len(data), (n_samples, len(data)))\n",
    "    samples = data[indices]\n",
    "    return samples"
   ]
  },
  {
   "cell_type": "code",
   "execution_count": 36,
   "id": "radio-piece",
   "metadata": {},
   "outputs": [],
   "source": [
    "def stat_intervals(stat, alpha):\n",
    "    boundaries = np.percentile(stat, [100 * alpha / 2., 100 * (1 - alpha / 2.)])\n",
    "    return boundaries"
   ]
  },
  {
   "cell_type": "code",
   "execution_count": 37,
   "id": "cloudy-battlefield",
   "metadata": {},
   "outputs": [],
   "source": [
    "def get_p(k,n):\n",
    "    return float(k)/n"
   ]
  },
  {
   "cell_type": "code",
   "execution_count": 38,
   "id": "informative-expression",
   "metadata": {},
   "outputs": [],
   "source": [
    "def get_odds(p):\n",
    "    return p/(1-p)"
   ]
  },
  {
   "cell_type": "code",
   "execution_count": 39,
   "id": "usual-prior",
   "metadata": {},
   "outputs": [],
   "source": [
    "def get_chances_relation(sample1, sample2):\n",
    "    return get_odds(get_p(sum(sample2), len(sample2)))/get_odds(get_p(sum(sample1), len(sample1)))"
   ]
  },
  {
   "cell_type": "code",
   "execution_count": 41,
   "id": "electrical-innocent",
   "metadata": {},
   "outputs": [],
   "source": [
    "data1 = np.zeros(n_1)\n",
    "data1[:k_1] = 1\n",
    "data2 = np.zeros(n_2)\n",
    "data2[:k_2] = 1"
   ]
  },
  {
   "cell_type": "code",
   "execution_count": 43,
   "id": "tired-render",
   "metadata": {},
   "outputs": [],
   "source": [
    "np.random.seed(0)\n",
    "samples1 = get_bootstrap_samples(data1, 1000)\n",
    "samples2 = get_bootstrap_samples(data2, 1000)\n",
    "rel_scores = []\n",
    "for i in range(1000):\n",
    "    rel_scores.append(get_chances_relation(samples1[i], samples2[i]))"
   ]
  },
  {
   "cell_type": "code",
   "execution_count": 45,
   "id": "incomplete-circuit",
   "metadata": {},
   "outputs": [
    {
     "data": {
      "text/plain": [
       "array([[0., 0., 0., ..., 0., 0., 0.],\n",
       "       [0., 0., 0., ..., 0., 0., 0.],\n",
       "       [0., 0., 0., ..., 0., 0., 0.],\n",
       "       ...,\n",
       "       [0., 0., 0., ..., 0., 0., 0.],\n",
       "       [0., 0., 0., ..., 0., 0., 0.],\n",
       "       [0., 0., 0., ..., 0., 0., 0.]])"
      ]
     },
     "execution_count": 45,
     "metadata": {},
     "output_type": "execute_result"
    }
   ],
   "source": [
    "samples1"
   ]
  },
  {
   "cell_type": "code",
   "execution_count": 46,
   "id": "communist-cradle",
   "metadata": {},
   "outputs": [
    {
     "data": {
      "text/plain": [
       "array([[0., 0., 1., ..., 0., 0., 0.],\n",
       "       [0., 0., 0., ..., 0., 0., 0.],\n",
       "       [1., 0., 0., ..., 0., 0., 0.],\n",
       "       ...,\n",
       "       [0., 0., 0., ..., 0., 0., 0.],\n",
       "       [0., 0., 0., ..., 0., 0., 0.],\n",
       "       [0., 0., 0., ..., 0., 0., 0.]])"
      ]
     },
     "execution_count": 46,
     "metadata": {},
     "output_type": "execute_result"
    }
   ],
   "source": [
    "samples2"
   ]
  },
  {
   "cell_type": "code",
   "execution_count": 44,
   "id": "initial-george",
   "metadata": {},
   "outputs": [
    {
     "name": "stdout",
     "output_type": "stream",
     "text": [
      "95% confidence interval: [1.44419465 2.34321168]\n"
     ]
    }
   ],
   "source": [
    "print(\"95% confidence interval:\",  stat_intervals(rel_scores, 0.05))"
   ]
  },
  {
   "cell_type": "code",
   "execution_count": null,
   "id": "public-wichita",
   "metadata": {},
   "outputs": [],
   "source": []
  }
 ],
 "metadata": {
  "kernelspec": {
   "display_name": "Python 3",
   "language": "python",
   "name": "python3"
  },
  "language_info": {
   "codemirror_mode": {
    "name": "ipython",
    "version": 3
   },
   "file_extension": ".py",
   "mimetype": "text/x-python",
   "name": "python",
   "nbconvert_exporter": "python",
   "pygments_lexer": "ipython3",
   "version": "3.8.5"
  }
 },
 "nbformat": 4,
 "nbformat_minor": 5
}

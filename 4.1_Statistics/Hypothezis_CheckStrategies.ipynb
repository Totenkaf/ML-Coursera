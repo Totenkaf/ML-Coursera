{
 "cells": [
  {
   "cell_type": "code",
   "execution_count": 1,
   "id": "beginning-rough",
   "metadata": {},
   "outputs": [],
   "source": [
    "from __future__ import division\n",
    "import numpy as np\n",
    "import pandas as pd\n",
    "from scipy import stats\n",
    "import matplotlib.pyplot as plt\n",
    "import seaborn as sns\n",
    "%matplotlib inline\n",
    "\n",
    "from IPython.core.interactiveshell import InteractiveShell\n",
    "InteractiveShell.ast_node_interactivity = \"all\""
   ]
  },
  {
   "cell_type": "markdown",
   "id": "manufactured-version",
   "metadata": {},
   "source": [
    "# __Task #1__"
   ]
  },
  {
   "cell_type": "markdown",
   "id": "convenient-delivery",
   "metadata": {},
   "source": [
    "По данным опроса, 75% работников ресторанов утверждают, что испытывают на работе существенный стресс, оказывающий негативное влияние на их личную жизнь. Крупная ресторанная сеть опрашивает 100 своих работников, чтобы выяснить, отличается ли уровень стресса работников в их ресторанах от среднего. 67 из 100 работников отметили высокий уровень стресса. \n",
    "\n",
    "Посчитайте достигаемый уровень значимости, округлите ответ до четырёх знаков после десятичной точки."
   ]
  },
  {
   "cell_type": "code",
   "execution_count": 2,
   "id": "roman-duration",
   "metadata": {},
   "outputs": [],
   "source": [
    "n = 100\n",
    "prob = 0.75\n",
    "\n",
    "F_H0 = stats.binom(n, prob)"
   ]
  },
  {
   "cell_type": "code",
   "execution_count": 6,
   "id": "elegant-marine",
   "metadata": {},
   "outputs": [],
   "source": [
    "stats.binom?"
   ]
  },
  {
   "cell_type": "code",
   "execution_count": 8,
   "id": "suffering-chancellor",
   "metadata": {},
   "outputs": [
    {
     "data": {
      "text/plain": [
       "<BarContainer object of 101 artists>"
      ]
     },
     "execution_count": 8,
     "metadata": {},
     "output_type": "execute_result"
    },
    {
     "data": {
      "text/plain": [
       "(60.0, 90.0)"
      ]
     },
     "execution_count": 8,
     "metadata": {},
     "output_type": "execute_result"
    },
    {
     "data": {
      "image/png": "[encoded data removed]",
      "text/plain": [
       "<Figure size 432x288 with 1 Axes>"
      ]
     },
     "metadata": {
      "needs_background": "light"
     },
     "output_type": "display_data"
    }
   ],
   "source": [
    "x = np.linspace(0,100,101)\n",
    "\n",
    "plt.bar(x, F_H0.pmf(x), align = 'center')\n",
    "plt.xlim(60, 90) \n",
    "plt.show()"
   ]
  },
  {
   "cell_type": "code",
   "execution_count": 4,
   "id": "pursuant-train",
   "metadata": {},
   "outputs": [
    {
     "name": "stdout",
     "output_type": "stream",
     "text": [
      "p-value: 0.0822\n"
     ]
    }
   ],
   "source": [
    "print('p-value: %.4f' % stats.binom_test(67, 100, prob))"
   ]
  },
  {
   "cell_type": "code",
   "execution_count": 9,
   "id": "alert-refund",
   "metadata": {},
   "outputs": [],
   "source": [
    "stats.binom_test?"
   ]
  },
  {
   "cell_type": "markdown",
   "id": "hidden-karaoke",
   "metadata": {},
   "source": [
    "# __Task #2__"
   ]
  },
  {
   "cell_type": "markdown",
   "id": "noticed-parts",
   "metadata": {},
   "source": [
    "Представим теперь, что в другой ресторанной сети только 22 из 50 работников испытывают существенный стресс. Гипотеза о том, что 22/50 соответствует 75% по всей популяции, методом, который вы использовали в предыдущей задаче, отвергается. Чем это может объясняться? Выберите все возможные варианты./"
   ]
  },
  {
   "cell_type": "code",
   "execution_count": 13,
   "id": "dirty-detail",
   "metadata": {},
   "outputs": [
    {
     "name": "stdout",
     "output_type": "stream",
     "text": [
      "p-value: 0.0000\n"
     ]
    }
   ],
   "source": [
    "print('p-value: %.4f' % stats.binom_test(22, 50, prob))"
   ]
  },
  {
   "cell_type": "markdown",
   "id": "descending-officer",
   "metadata": {},
   "source": [
    "# __Task #3__"
   ]
  },
  {
   "cell_type": "markdown",
   "id": "recovered-webmaster",
   "metadata": {},
   "source": [
    "he Wage Tract — заповедник в округе Тома, Джорджия, США, деревья в котором не затронуты деятельностью человека со времён первых поселенцев. Для участка заповедника размером 200х200 м имеется информация о координатах сосен (sn — координата в направлении север-юг, we — в направлении запад-восток, обе от 0 до 200).\n",
    "\n",
    "Проверим, можно ли пространственное распределение сосен считать равномерным, или они растут кластерами.\n",
    "\n",
    "Загрузите данные, поделите участок на 5х5 одинаковых квадратов размера 40x40 м, посчитайте количество сосен в каждом квадрате (чтобы получить такой же результат, как у нас, используйте функцию scipy.stats.binned_statistic_2d).\n",
    "\n",
    "Если сосны действительно растут равномерно, какое среднее ожидаемое количество сосен в каждом квадрате? В правильном ответе два знака после десятичной точки."
   ]
  },
  {
   "cell_type": "code",
   "execution_count": 16,
   "id": "rational-space",
   "metadata": {},
   "outputs": [
    {
     "data": {
      "text/html": [
       "<div>\n",
       "<style scoped>\n",
       "    .dataframe tbody tr th:only-of-type {\n",
       "        vertical-align: middle;\n",
       "    }\n",
       "\n",
       "    .dataframe tbody tr th {\n",
       "        vertical-align: top;\n",
       "    }\n",
       "\n",
       "    .dataframe thead th {\n",
       "        text-align: right;\n",
       "    }\n",
       "</style>\n",
       "<table border=\"1\" class=\"dataframe\">\n",
       "  <thead>\n",
       "    <tr style=\"text-align: right;\">\n",
       "      <th></th>\n",
       "      <th>sn</th>\n",
       "      <th>we</th>\n",
       "    </tr>\n",
       "  </thead>\n",
       "  <tbody>\n",
       "    <tr>\n",
       "      <th>0</th>\n",
       "      <td>200.0</td>\n",
       "      <td>8.8</td>\n",
       "    </tr>\n",
       "    <tr>\n",
       "      <th>1</th>\n",
       "      <td>199.3</td>\n",
       "      <td>10.0</td>\n",
       "    </tr>\n",
       "    <tr>\n",
       "      <th>2</th>\n",
       "      <td>193.6</td>\n",
       "      <td>22.4</td>\n",
       "    </tr>\n",
       "    <tr>\n",
       "      <th>3</th>\n",
       "      <td>167.7</td>\n",
       "      <td>35.6</td>\n",
       "    </tr>\n",
       "    <tr>\n",
       "      <th>4</th>\n",
       "      <td>183.9</td>\n",
       "      <td>45.4</td>\n",
       "    </tr>\n",
       "    <tr>\n",
       "      <th>...</th>\n",
       "      <td>...</td>\n",
       "      <td>...</td>\n",
       "    </tr>\n",
       "    <tr>\n",
       "      <th>579</th>\n",
       "      <td>169.1</td>\n",
       "      <td>160.0</td>\n",
       "    </tr>\n",
       "    <tr>\n",
       "      <th>580</th>\n",
       "      <td>162.5</td>\n",
       "      <td>157.3</td>\n",
       "    </tr>\n",
       "    <tr>\n",
       "      <th>581</th>\n",
       "      <td>156.7</td>\n",
       "      <td>155.3</td>\n",
       "    </tr>\n",
       "    <tr>\n",
       "      <th>582</th>\n",
       "      <td>154.1</td>\n",
       "      <td>150.8</td>\n",
       "    </tr>\n",
       "    <tr>\n",
       "      <th>583</th>\n",
       "      <td>87.7</td>\n",
       "      <td>200.0</td>\n",
       "    </tr>\n",
       "  </tbody>\n",
       "</table>\n",
       "<p>584 rows × 2 columns</p>\n",
       "</div>"
      ],
      "text/plain": [
       "        sn     we\n",
       "0    200.0    8.8\n",
       "1    199.3   10.0\n",
       "2    193.6   22.4\n",
       "3    167.7   35.6\n",
       "4    183.9   45.4\n",
       "..     ...    ...\n",
       "579  169.1  160.0\n",
       "580  162.5  157.3\n",
       "581  156.7  155.3\n",
       "582  154.1  150.8\n",
       "583   87.7  200.0\n",
       "\n",
       "[584 rows x 2 columns]"
      ]
     },
     "execution_count": 16,
     "metadata": {},
     "output_type": "execute_result"
    }
   ],
   "source": [
    "data = pd.read_csv(\"pines.txt\", delimiter = '\\t')\n",
    "data"
   ]
  },
  {
   "cell_type": "code",
   "execution_count": 18,
   "id": "sacred-escape",
   "metadata": {},
   "outputs": [
    {
     "name": "stdout",
     "output_type": "stream",
     "text": [
      "<class 'pandas.core.frame.DataFrame'>\n",
      "RangeIndex: 584 entries, 0 to 583\n",
      "Data columns (total 2 columns):\n",
      " #   Column  Non-Null Count  Dtype  \n",
      "---  ------  --------------  -----  \n",
      " 0   sn      584 non-null    float64\n",
      " 1   we      584 non-null    float64\n",
      "dtypes: float64(2)\n",
      "memory usage: 9.2 KB\n"
     ]
    }
   ],
   "source": [
    "data.info()"
   ]
  },
  {
   "cell_type": "code",
   "execution_count": 17,
   "id": "patent-occurrence",
   "metadata": {},
   "outputs": [
    {
     "data": {
      "text/html": [
       "<div>\n",
       "<style scoped>\n",
       "    .dataframe tbody tr th:only-of-type {\n",
       "        vertical-align: middle;\n",
       "    }\n",
       "\n",
       "    .dataframe tbody tr th {\n",
       "        vertical-align: top;\n",
       "    }\n",
       "\n",
       "    .dataframe thead th {\n",
       "        text-align: right;\n",
       "    }\n",
       "</style>\n",
       "<table border=\"1\" class=\"dataframe\">\n",
       "  <thead>\n",
       "    <tr style=\"text-align: right;\">\n",
       "      <th></th>\n",
       "      <th>sn</th>\n",
       "      <th>we</th>\n",
       "    </tr>\n",
       "  </thead>\n",
       "  <tbody>\n",
       "    <tr>\n",
       "      <th>count</th>\n",
       "      <td>584.000000</td>\n",
       "      <td>584.000000</td>\n",
       "    </tr>\n",
       "    <tr>\n",
       "      <th>mean</th>\n",
       "      <td>98.735274</td>\n",
       "      <td>113.829281</td>\n",
       "    </tr>\n",
       "    <tr>\n",
       "      <th>std</th>\n",
       "      <td>56.523154</td>\n",
       "      <td>49.810725</td>\n",
       "    </tr>\n",
       "    <tr>\n",
       "      <th>min</th>\n",
       "      <td>0.000000</td>\n",
       "      <td>0.000000</td>\n",
       "    </tr>\n",
       "    <tr>\n",
       "      <th>25%</th>\n",
       "      <td>52.050000</td>\n",
       "      <td>79.125000</td>\n",
       "    </tr>\n",
       "    <tr>\n",
       "      <th>50%</th>\n",
       "      <td>101.450000</td>\n",
       "      <td>121.900000</td>\n",
       "    </tr>\n",
       "    <tr>\n",
       "      <th>75%</th>\n",
       "      <td>149.400000</td>\n",
       "      <td>149.725000</td>\n",
       "    </tr>\n",
       "    <tr>\n",
       "      <th>max</th>\n",
       "      <td>200.000000</td>\n",
       "      <td>200.000000</td>\n",
       "    </tr>\n",
       "  </tbody>\n",
       "</table>\n",
       "</div>"
      ],
      "text/plain": [
       "               sn          we\n",
       "count  584.000000  584.000000\n",
       "mean    98.735274  113.829281\n",
       "std     56.523154   49.810725\n",
       "min      0.000000    0.000000\n",
       "25%     52.050000   79.125000\n",
       "50%    101.450000  121.900000\n",
       "75%    149.400000  149.725000\n",
       "max    200.000000  200.000000"
      ]
     },
     "execution_count": 17,
     "metadata": {},
     "output_type": "execute_result"
    }
   ],
   "source": [
    "data.describe()"
   ]
  },
  {
   "cell_type": "code",
   "execution_count": 21,
   "id": "dominant-village",
   "metadata": {},
   "outputs": [
    {
     "data": {
      "image/png": "[encoded data removed]",
      "text/plain": [
       "<Figure size 576x576 with 6 Axes>"
      ]
     },
     "metadata": {
      "needs_background": "light"
     },
     "output_type": "display_data"
    }
   ],
   "source": [
    "sns.pairplot(data, height = 4);"
   ]
  },
  {
   "cell_type": "code",
   "execution_count": 22,
   "id": "inappropriate-treasurer",
   "metadata": {},
   "outputs": [],
   "source": [
    "stats.binned_statistic_2d?"
   ]
  },
  {
   "cell_type": "code",
   "execution_count": 27,
   "id": "hungry-immune",
   "metadata": {},
   "outputs": [
    {
     "name": "stdout",
     "output_type": "stream",
     "text": [
      "BinnedStatistic2dResult(statistic=array([[18., 26., 29., 25., 20.],\n",
      "       [14., 12., 22., 34., 25.],\n",
      "       [12., 24., 15., 50., 37.],\n",
      "       [ 8., 19., 31., 50.,  7.],\n",
      "       [ 7.,  8., 37., 27., 27.]]), x_edge=array([  0.,  40.,  80., 120., 160., 200.]), y_edge=array([  0.,  40.,  80., 120., 160., 200.]), binnumber=array([36, 36, 36, 36, 37, 37, 37, 37, 36, 36, 36, 29, 30, 29, 30, 29, 29,\n",
      "       29, 29, 29, 22, 22, 22, 22, 22, 29, 30, 30, 23, 23, 22,  8,  8,  8,\n",
      "        8,  8,  8,  8, 15, 15,  8, 15, 15,  9,  9,  9,  9,  9,  9,  9,  9,\n",
      "        8,  8,  9,  9,  9,  8,  8,  8,  8,  9,  9, 16, 16, 17, 16, 17, 17,\n",
      "       17,  9,  9,  9,  9, 10, 10, 10, 10, 10, 10, 17, 17, 10, 10, 10, 10,\n",
      "       10, 10, 10, 24, 24, 23, 23, 23, 23, 24, 23, 23, 23, 23, 23, 23, 23,\n",
      "       23, 23, 23, 30, 23, 23, 23, 23, 30, 30, 23, 23, 30, 30, 31, 30, 30,\n",
      "       30, 22, 22, 22, 15, 22, 22, 22, 15, 15, 16, 16, 15, 15, 15, 15, 15,\n",
      "       15, 15, 38, 38, 38, 38, 38, 38, 38, 38, 38, 38, 38, 38,  8,  8,  8,\n",
      "        8,  9,  9, 10, 10, 10,  9,  9,  9,  9, 10,  9,  9,  9, 10, 39, 39,\n",
      "       39, 39, 39, 39, 39, 38, 38, 39, 38, 39, 24, 17, 17, 17, 17, 17, 17,\n",
      "       17, 17, 16, 16, 16, 16, 16, 16, 16, 23, 23, 32, 32, 32, 32, 32, 31,\n",
      "       31, 32, 32, 32, 31, 32, 30, 30, 30, 31, 31, 31, 31, 31, 31, 31, 31,\n",
      "       38, 38, 38, 38, 38, 38, 38, 25, 25, 25, 25, 32, 32, 32, 25, 25, 32,\n",
      "       32, 32, 38, 38, 38, 38, 38, 38, 38, 38, 38, 38, 38, 38, 38, 31, 31,\n",
      "       31, 31, 31, 37, 31, 31, 30, 30, 30, 37, 30, 37, 37, 38, 32, 32, 38,\n",
      "       31, 31, 31, 31, 32, 32, 39, 39, 39, 39, 32, 39, 39, 39, 32, 39, 39,\n",
      "       32, 32, 32, 32, 32, 32, 32, 32, 32, 32, 32, 32, 32, 31, 31, 24, 31,\n",
      "       31, 31, 31, 24, 24, 24, 25, 25, 25, 25, 25, 25, 24, 24, 25, 24, 25,\n",
      "       25, 25, 25, 25, 25, 25, 25, 25, 25, 25, 32, 32, 32, 25, 25, 18, 18,\n",
      "       18, 18, 18, 18, 18, 18, 25, 25, 25, 25, 25, 25, 25, 24, 24, 24, 25,\n",
      "       24, 25, 17, 17, 17, 17, 18, 32, 32, 39, 39, 39, 39, 39, 39, 18, 18,\n",
      "       18, 18, 18, 18, 18, 18, 18, 18, 17, 18, 11, 18, 11, 11, 11, 11, 17,\n",
      "       10, 10, 32, 32, 32, 32, 32, 31, 31, 32, 11, 12, 12, 11, 12, 12, 12,\n",
      "       12, 12, 12, 12, 12, 19, 12, 12, 12, 12, 12, 12, 12, 12, 25, 25, 25,\n",
      "       25, 25, 25, 25, 25, 26, 26, 26, 25, 26, 26, 26, 26, 25, 19, 19, 19,\n",
      "       19, 26, 19, 19, 26, 19, 19, 25, 18, 17, 18, 18, 17, 18, 18, 18, 18,\n",
      "       32, 33, 40, 40, 40, 40, 40, 40, 40, 40, 40, 40, 40, 40, 40, 40, 40,\n",
      "       40, 40, 40, 40, 10, 10, 10, 10, 10, 10, 11, 11, 11, 10, 10, 10, 11,\n",
      "       11, 11, 11, 11, 11, 11, 11, 11, 11, 11, 12, 12, 11, 11, 11, 18, 11,\n",
      "       19, 19, 19, 19, 19, 19, 19, 18, 19, 19, 19, 19, 19, 19, 19, 19, 26,\n",
      "       19, 26, 26, 26, 26, 26, 26, 26, 26, 25, 26, 26, 26, 18, 18, 18, 18,\n",
      "       25, 25, 26, 25, 26, 26, 26, 26, 26, 26, 26, 26, 26, 26, 26, 26, 26,\n",
      "       33, 33, 33, 26, 33, 32, 32, 33, 33, 40, 40, 40, 40, 40, 40, 39, 39,\n",
      "       40, 40, 39, 32, 32, 26]))\n",
      "584\n"
     ]
    }
   ],
   "source": [
    "sn_num, we_num = 5, 5\n",
    "\n",
    "trees_bins = stats.binned_statistic_2d(data.sn, data.we, None, statistic='count', bins=[sn_num, we_num])\n",
    "print(trees_bins)\n",
    "print(len(trees_bins.binnumber))"
   ]
  },
  {
   "cell_type": "code",
   "execution_count": 26,
   "id": "transparent-plaintiff",
   "metadata": {},
   "outputs": [
    {
     "data": {
      "text/plain": [
       "array([[18., 26., 29., 25., 20.],\n",
       "       [14., 12., 22., 34., 25.],\n",
       "       [12., 24., 15., 50., 37.],\n",
       "       [ 8., 19., 31., 50.,  7.],\n",
       "       [ 7.,  8., 37., 27., 27.]])"
      ]
     },
     "execution_count": 26,
     "metadata": {},
     "output_type": "execute_result"
    },
    {
     "data": {
      "text/plain": [
       "array([  0.,  40.,  80., 120., 160., 200.])"
      ]
     },
     "execution_count": 26,
     "metadata": {},
     "output_type": "execute_result"
    },
    {
     "data": {
      "text/plain": [
       "array([  0.,  40.,  80., 120., 160., 200.])"
      ]
     },
     "execution_count": 26,
     "metadata": {},
     "output_type": "execute_result"
    }
   ],
   "source": [
    "trees_squares_num = trees_bins.statistic\n",
    "trees_squares_num\n",
    "trees_bins.x_edge\n",
    "trees_bins.y_edge"
   ]
  },
  {
   "cell_type": "code",
   "execution_count": 28,
   "id": "settled-mason",
   "metadata": {},
   "outputs": [
    {
     "name": "stdout",
     "output_type": "stream",
     "text": [
      "23.36\n"
     ]
    }
   ],
   "source": [
    "mean_trees_num = np.sum(trees_squares_num) / 25\n",
    "print(mean_trees_num)"
   ]
  },
  {
   "cell_type": "markdown",
   "id": "accredited-detective",
   "metadata": {},
   "source": [
    "# __Task #4,5__"
   ]
  },
  {
   "cell_type": "markdown",
   "id": "after-compression",
   "metadata": {},
   "source": [
    "Чтобы сравнить распределение сосен с равномерным, посчитайте значение статистики хи-квадрат для полученных 5х5 квадратов. Округлите ответ до двух знаков после десятичной точки."
   ]
  },
  {
   "cell_type": "code",
   "execution_count": 32,
   "id": "excellent-botswana",
   "metadata": {},
   "outputs": [],
   "source": [
    "trees_squares_num.flatten?"
   ]
  },
  {
   "cell_type": "code",
   "execution_count": 33,
   "id": "integrated-wagner",
   "metadata": {},
   "outputs": [],
   "source": [
    "stats.chisquare?"
   ]
  },
  {
   "cell_type": "code",
   "execution_count": 29,
   "id": "measured-singles",
   "metadata": {},
   "outputs": [
    {
     "data": {
      "text/plain": [
       "Power_divergenceResult(statistic=150.58904109589042, pvalue=2.574669774967279e-20)"
      ]
     },
     "execution_count": 29,
     "metadata": {},
     "output_type": "execute_result"
    }
   ],
   "source": [
    "stats.chisquare(trees_squares_num.flatten(), ddof = 0)"
   ]
  },
  {
   "cell_type": "markdown",
   "id": "adopted-plumbing",
   "metadata": {},
   "source": [
    "Достигаемый уровень значимости меньше установленного уровня значимости в 0,05, а значит гипотеза о том, что распределение носит равномерный характер - отвергается"
   ]
  },
  {
   "cell_type": "code",
   "execution_count": null,
   "id": "general-proportion",
   "metadata": {},
   "outputs": [],
   "source": []
  }
 ],
 "metadata": {
  "kernelspec": {
   "display_name": "Python 3",
   "language": "python",
   "name": "python3"
  },
  "language_info": {
   "codemirror_mode": {
    "name": "ipython",
    "version": 3
   },
   "file_extension": ".py",
   "mimetype": "text/x-python",
   "name": "python",
   "nbconvert_exporter": "python",
   "pygments_lexer": "ipython3",
   "version": "3.8.5"
  }
 },
 "nbformat": 4,
 "nbformat_minor": 5
}

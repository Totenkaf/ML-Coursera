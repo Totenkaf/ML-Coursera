{
 "cells": [
  {
   "cell_type": "markdown",
   "metadata": {
    "id": "0VGX6mZvgQO5"
   },
   "source": [
    "Sklearn - крутой инструмент для работы с основными методами ML, который содержит в себе всё необходимо для всех этапов построения модели.\n",
    "\n",
    "\n",
    "\n",
    "\n",
    "Как работать c классическими ML задачами в Sklearn:\n",
    "1. Загружаем/создаём выборку  \n",
    "2. Предобрабатываем\n",
    "3. Обучаем модель: fit()\n",
    "4. Запускаем на тесте: predict()\n",
    "5. Оцениваем качество\n",
    "\n",
    "\n",
    "Основные функции для обучения с учителем: \n",
    "\n",
    "* model.predict(X_test) - предсказать значения целевой переменной\n",
    "\n",
    "* model.predict_proba() - выдать «степень уверенности» в ответе (вероятность) – для некоторых моделей\n",
    "\n",
    "* model.decision_function() решающая функция – для некоторых моделей\n",
    "\n",
    "* model.score() - в большинстве моделей встроены методы оценки их качества работы\n",
    "\n",
    "* model.transform() - для отбора признаков (feature\n",
    "selection) «сжимает» обучающую матрицу. Для регрессионных моделей и классификаторов (linear, RF и т.п.) выделяет наиболее информативные признаки"
   ]
  },
  {
   "cell_type": "code",
   "execution_count": 1,
   "metadata": {
    "colab": {
     "base_uri": "https://localhost:8080/",
     "height": 260
    },
    "id": "AMvHekCXnhVi",
    "outputId": "60d927eb-988f-4547-c762-19159ba370a8"
   },
   "outputs": [
    {
     "name": "stdout",
     "output_type": "stream",
     "text": [
      "Collecting scikit-learn\n",
      "\u001b[?25l  Downloading https://files.pythonhosted.org/packages/5c/a1/273def87037a7fb010512bbc5901c31cfddfca8080bc63b42b26e3cc55b3/scikit_learn-0.23.2-cp36-cp36m-manylinux1_x86_64.whl (6.8MB)\n",
      "\u001b[K     |████████████████████████████████| 6.8MB 4.4MB/s \n",
      "\u001b[?25hRequirement already satisfied, skipping upgrade: scipy>=0.19.1 in /usr/local/lib/python3.6/dist-packages (from scikit-learn) (1.4.1)\n",
      "Requirement already satisfied, skipping upgrade: joblib>=0.11 in /usr/local/lib/python3.6/dist-packages (from scikit-learn) (0.16.0)\n",
      "Collecting threadpoolctl>=2.0.0\n",
      "  Downloading https://files.pythonhosted.org/packages/f7/12/ec3f2e203afa394a149911729357aa48affc59c20e2c1c8297a60f33f133/threadpoolctl-2.1.0-py3-none-any.whl\n",
      "Requirement already satisfied, skipping upgrade: numpy>=1.13.3 in /usr/local/lib/python3.6/dist-packages (from scikit-learn) (1.18.5)\n",
      "Installing collected packages: threadpoolctl, scikit-learn\n",
      "  Found existing installation: scikit-learn 0.22.2.post1\n",
      "    Uninstalling scikit-learn-0.22.2.post1:\n",
      "      Successfully uninstalled scikit-learn-0.22.2.post1\n",
      "Successfully installed scikit-learn-0.23.2 threadpoolctl-2.1.0\n"
     ]
    }
   ],
   "source": [
    "#Установим последнюю версию Sklearn\n",
    "!pip install -U scikit-learn"
   ]
  },
  {
   "cell_type": "code",
   "execution_count": 3,
   "metadata": {
    "colab": {
     "base_uri": "https://localhost:8080/",
     "height": 343
    },
    "id": "7XRu23rrn5xd",
    "outputId": "2b41a180-5b82-48a9-ebcc-d4b57b36d43a"
   },
   "outputs": [
    {
     "name": "stdout",
     "output_type": "stream",
     "text": [
      "\n",
      "System:\n",
      "    python: 3.6.9 (default, Jul 17 2020, 12:50:27)  [GCC 8.4.0]\n",
      "executable: /usr/bin/python3\n",
      "   machine: Linux-4.19.112+-x86_64-with-Ubuntu-18.04-bionic\n",
      "\n",
      "Python dependencies:\n",
      "          pip: 19.3.1\n",
      "   setuptools: 50.3.0\n",
      "      sklearn: 0.23.2\n",
      "        numpy: 1.18.5\n",
      "        scipy: 1.4.1\n",
      "       Cython: 0.29.21\n",
      "       pandas: 1.1.2\n",
      "   matplotlib: 3.2.2\n",
      "       joblib: 0.16.0\n",
      "threadpoolctl: 2.1.0\n",
      "\n",
      "Built with OpenMP: True\n"
     ]
    }
   ],
   "source": [
    "import sklearn\n",
    "sklearn.show_versions()"
   ]
  },
  {
   "cell_type": "markdown",
   "metadata": {
    "id": "jsETX0Cwrt47"
   },
   "source": [
    "# Загрузка данных из sklearn\n",
    "\n"
   ]
  },
  {
   "cell_type": "markdown",
   "metadata": {
    "id": "aZvh_Yug4X_D"
   },
   "source": [
    "Данные из датасета Калифорнийского университета в Ирвайн “Breast Cancer Wisconsin” (рак груди, Висконсин).   \n",
    "Характеристики - свойства клеточных ядер новообразования (например, строение), таргет - злокачественное или доброкачественное новообразование."
   ]
  },
  {
   "cell_type": "code",
   "execution_count": 44,
   "metadata": {
    "id": "eT8hIAv6jlfn"
   },
   "outputs": [],
   "source": [
    "from sklearn.datasets import load_breast_cancer\n",
    "import pandas as pd\n",
    "\n",
    "import matplotlib.pyplot as plt"
   ]
  },
  {
   "cell_type": "code",
   "execution_count": 5,
   "metadata": {
    "id": "3d7RCveUmu3n"
   },
   "outputs": [],
   "source": [
    "random_state = 42\n",
    "X, y = load_breast_cancer(return_X_y=True, as_frame = True)"
   ]
  },
  {
   "cell_type": "code",
   "execution_count": 6,
   "metadata": {
    "colab": {
     "base_uri": "https://localhost:8080/",
     "height": 257
    },
    "id": "i3RM4_IPn3K5",
    "outputId": "6c64fd01-a9cf-4282-bf7f-ccffeaa135b6"
   },
   "outputs": [
    {
     "data": {
      "text/html": [
       "<div>\n",
       "<style scoped>\n",
       "    .dataframe tbody tr th:only-of-type {\n",
       "        vertical-align: middle;\n",
       "    }\n",
       "\n",
       "    .dataframe tbody tr th {\n",
       "        vertical-align: top;\n",
       "    }\n",
       "\n",
       "    .dataframe thead th {\n",
       "        text-align: right;\n",
       "    }\n",
       "</style>\n",
       "<table border=\"1\" class=\"dataframe\">\n",
       "  <thead>\n",
       "    <tr style=\"text-align: right;\">\n",
       "      <th></th>\n",
       "      <th>mean radius</th>\n",
       "      <th>mean texture</th>\n",
       "      <th>mean perimeter</th>\n",
       "      <th>mean area</th>\n",
       "      <th>mean smoothness</th>\n",
       "      <th>mean compactness</th>\n",
       "      <th>mean concavity</th>\n",
       "      <th>mean concave points</th>\n",
       "      <th>mean symmetry</th>\n",
       "      <th>mean fractal dimension</th>\n",
       "      <th>radius error</th>\n",
       "      <th>texture error</th>\n",
       "      <th>perimeter error</th>\n",
       "      <th>area error</th>\n",
       "      <th>smoothness error</th>\n",
       "      <th>compactness error</th>\n",
       "      <th>concavity error</th>\n",
       "      <th>concave points error</th>\n",
       "      <th>symmetry error</th>\n",
       "      <th>fractal dimension error</th>\n",
       "      <th>worst radius</th>\n",
       "      <th>worst texture</th>\n",
       "      <th>worst perimeter</th>\n",
       "      <th>worst area</th>\n",
       "      <th>worst smoothness</th>\n",
       "      <th>worst compactness</th>\n",
       "      <th>worst concavity</th>\n",
       "      <th>worst concave points</th>\n",
       "      <th>worst symmetry</th>\n",
       "      <th>worst fractal dimension</th>\n",
       "    </tr>\n",
       "  </thead>\n",
       "  <tbody>\n",
       "    <tr>\n",
       "      <th>0</th>\n",
       "      <td>17.99</td>\n",
       "      <td>10.38</td>\n",
       "      <td>122.80</td>\n",
       "      <td>1001.0</td>\n",
       "      <td>0.11840</td>\n",
       "      <td>0.27760</td>\n",
       "      <td>0.3001</td>\n",
       "      <td>0.14710</td>\n",
       "      <td>0.2419</td>\n",
       "      <td>0.07871</td>\n",
       "      <td>1.0950</td>\n",
       "      <td>0.9053</td>\n",
       "      <td>8.589</td>\n",
       "      <td>153.40</td>\n",
       "      <td>0.006399</td>\n",
       "      <td>0.04904</td>\n",
       "      <td>0.05373</td>\n",
       "      <td>0.01587</td>\n",
       "      <td>0.03003</td>\n",
       "      <td>0.006193</td>\n",
       "      <td>25.38</td>\n",
       "      <td>17.33</td>\n",
       "      <td>184.60</td>\n",
       "      <td>2019.0</td>\n",
       "      <td>0.1622</td>\n",
       "      <td>0.6656</td>\n",
       "      <td>0.7119</td>\n",
       "      <td>0.2654</td>\n",
       "      <td>0.4601</td>\n",
       "      <td>0.11890</td>\n",
       "    </tr>\n",
       "    <tr>\n",
       "      <th>1</th>\n",
       "      <td>20.57</td>\n",
       "      <td>17.77</td>\n",
       "      <td>132.90</td>\n",
       "      <td>1326.0</td>\n",
       "      <td>0.08474</td>\n",
       "      <td>0.07864</td>\n",
       "      <td>0.0869</td>\n",
       "      <td>0.07017</td>\n",
       "      <td>0.1812</td>\n",
       "      <td>0.05667</td>\n",
       "      <td>0.5435</td>\n",
       "      <td>0.7339</td>\n",
       "      <td>3.398</td>\n",
       "      <td>74.08</td>\n",
       "      <td>0.005225</td>\n",
       "      <td>0.01308</td>\n",
       "      <td>0.01860</td>\n",
       "      <td>0.01340</td>\n",
       "      <td>0.01389</td>\n",
       "      <td>0.003532</td>\n",
       "      <td>24.99</td>\n",
       "      <td>23.41</td>\n",
       "      <td>158.80</td>\n",
       "      <td>1956.0</td>\n",
       "      <td>0.1238</td>\n",
       "      <td>0.1866</td>\n",
       "      <td>0.2416</td>\n",
       "      <td>0.1860</td>\n",
       "      <td>0.2750</td>\n",
       "      <td>0.08902</td>\n",
       "    </tr>\n",
       "    <tr>\n",
       "      <th>2</th>\n",
       "      <td>19.69</td>\n",
       "      <td>21.25</td>\n",
       "      <td>130.00</td>\n",
       "      <td>1203.0</td>\n",
       "      <td>0.10960</td>\n",
       "      <td>0.15990</td>\n",
       "      <td>0.1974</td>\n",
       "      <td>0.12790</td>\n",
       "      <td>0.2069</td>\n",
       "      <td>0.05999</td>\n",
       "      <td>0.7456</td>\n",
       "      <td>0.7869</td>\n",
       "      <td>4.585</td>\n",
       "      <td>94.03</td>\n",
       "      <td>0.006150</td>\n",
       "      <td>0.04006</td>\n",
       "      <td>0.03832</td>\n",
       "      <td>0.02058</td>\n",
       "      <td>0.02250</td>\n",
       "      <td>0.004571</td>\n",
       "      <td>23.57</td>\n",
       "      <td>25.53</td>\n",
       "      <td>152.50</td>\n",
       "      <td>1709.0</td>\n",
       "      <td>0.1444</td>\n",
       "      <td>0.4245</td>\n",
       "      <td>0.4504</td>\n",
       "      <td>0.2430</td>\n",
       "      <td>0.3613</td>\n",
       "      <td>0.08758</td>\n",
       "    </tr>\n",
       "    <tr>\n",
       "      <th>3</th>\n",
       "      <td>11.42</td>\n",
       "      <td>20.38</td>\n",
       "      <td>77.58</td>\n",
       "      <td>386.1</td>\n",
       "      <td>0.14250</td>\n",
       "      <td>0.28390</td>\n",
       "      <td>0.2414</td>\n",
       "      <td>0.10520</td>\n",
       "      <td>0.2597</td>\n",
       "      <td>0.09744</td>\n",
       "      <td>0.4956</td>\n",
       "      <td>1.1560</td>\n",
       "      <td>3.445</td>\n",
       "      <td>27.23</td>\n",
       "      <td>0.009110</td>\n",
       "      <td>0.07458</td>\n",
       "      <td>0.05661</td>\n",
       "      <td>0.01867</td>\n",
       "      <td>0.05963</td>\n",
       "      <td>0.009208</td>\n",
       "      <td>14.91</td>\n",
       "      <td>26.50</td>\n",
       "      <td>98.87</td>\n",
       "      <td>567.7</td>\n",
       "      <td>0.2098</td>\n",
       "      <td>0.8663</td>\n",
       "      <td>0.6869</td>\n",
       "      <td>0.2575</td>\n",
       "      <td>0.6638</td>\n",
       "      <td>0.17300</td>\n",
       "    </tr>\n",
       "    <tr>\n",
       "      <th>4</th>\n",
       "      <td>20.29</td>\n",
       "      <td>14.34</td>\n",
       "      <td>135.10</td>\n",
       "      <td>1297.0</td>\n",
       "      <td>0.10030</td>\n",
       "      <td>0.13280</td>\n",
       "      <td>0.1980</td>\n",
       "      <td>0.10430</td>\n",
       "      <td>0.1809</td>\n",
       "      <td>0.05883</td>\n",
       "      <td>0.7572</td>\n",
       "      <td>0.7813</td>\n",
       "      <td>5.438</td>\n",
       "      <td>94.44</td>\n",
       "      <td>0.011490</td>\n",
       "      <td>0.02461</td>\n",
       "      <td>0.05688</td>\n",
       "      <td>0.01885</td>\n",
       "      <td>0.01756</td>\n",
       "      <td>0.005115</td>\n",
       "      <td>22.54</td>\n",
       "      <td>16.67</td>\n",
       "      <td>152.20</td>\n",
       "      <td>1575.0</td>\n",
       "      <td>0.1374</td>\n",
       "      <td>0.2050</td>\n",
       "      <td>0.4000</td>\n",
       "      <td>0.1625</td>\n",
       "      <td>0.2364</td>\n",
       "      <td>0.07678</td>\n",
       "    </tr>\n",
       "  </tbody>\n",
       "</table>\n",
       "</div>"
      ],
      "text/plain": [
       "   mean radius  mean texture  ...  worst symmetry  worst fractal dimension\n",
       "0        17.99         10.38  ...          0.4601                  0.11890\n",
       "1        20.57         17.77  ...          0.2750                  0.08902\n",
       "2        19.69         21.25  ...          0.3613                  0.08758\n",
       "3        11.42         20.38  ...          0.6638                  0.17300\n",
       "4        20.29         14.34  ...          0.2364                  0.07678\n",
       "\n",
       "[5 rows x 30 columns]"
      ]
     },
     "execution_count": 6,
     "metadata": {
      "tags": []
     },
     "output_type": "execute_result"
    }
   ],
   "source": [
    "X.head()"
   ]
  },
  {
   "cell_type": "code",
   "execution_count": 7,
   "metadata": {
    "colab": {
     "base_uri": "https://localhost:8080/",
     "height": 68
    },
    "id": "Ir6z3w5tm8oL",
    "outputId": "3af4e63c-de19-4d21-a85f-ac9db18233a8"
   },
   "outputs": [
    {
     "data": {
      "text/plain": [
       "1    357\n",
       "0    212\n",
       "Name: target, dtype: int64"
      ]
     },
     "execution_count": 7,
     "metadata": {
      "tags": []
     },
     "output_type": "execute_result"
    }
   ],
   "source": [
    "y.value_counts()"
   ]
  },
  {
   "cell_type": "code",
   "execution_count": 8,
   "metadata": {
    "id": "ejObTnffm0xu"
   },
   "outputs": [],
   "source": [
    "from sklearn.model_selection import train_test_split\n",
    "\n",
    "#Разобьем выборку на train-test:\n",
    "\n",
    "X_train, X_test, y_train, y_test = \\\n",
    "    train_test_split(X, y, test_size=0.4, random_state=23)"
   ]
  },
  {
   "cell_type": "code",
   "execution_count": 9,
   "metadata": {
    "colab": {
     "base_uri": "https://localhost:8080/",
     "height": 34
    },
    "id": "4MXrWKsOoafr",
    "outputId": "2d731368-41a1-4138-d3e8-de663d4a9d19"
   },
   "outputs": [
    {
     "data": {
      "text/plain": [
       "(341, 30)"
      ]
     },
     "execution_count": 9,
     "metadata": {
      "tags": []
     },
     "output_type": "execute_result"
    }
   ],
   "source": [
    "X_train.shape"
   ]
  },
  {
   "cell_type": "code",
   "execution_count": 10,
   "metadata": {
    "colab": {
     "base_uri": "https://localhost:8080/",
     "height": 34
    },
    "id": "ffaKbkDJocVA",
    "outputId": "a99df97f-7fd6-4a62-8dfd-7589387ce571"
   },
   "outputs": [
    {
     "data": {
      "text/plain": [
       "(228, 30)"
      ]
     },
     "execution_count": 10,
     "metadata": {
      "tags": []
     },
     "output_type": "execute_result"
    }
   ],
   "source": [
    "X_test.shape"
   ]
  },
  {
   "cell_type": "markdown",
   "metadata": {
    "id": "bMJCLnjPr5QR"
   },
   "source": [
    "# Применение модели и оценка качества\n",
    "\n"
   ]
  },
  {
   "cell_type": "markdown",
   "metadata": {
    "id": "Pzr1Abr9tCj3"
   },
   "source": [
    "### Наивный Байес\n"
   ]
  },
  {
   "cell_type": "markdown",
   "metadata": {
    "id": "lbs-kQiNt2GT"
   },
   "source": [
    "https://scikit-learn.org/stable/modules/classes.html?highlight=naive%20bayes#module-sklearn.naive_bayes\n",
    "\n"
   ]
  },
  {
   "cell_type": "code",
   "execution_count": 11,
   "metadata": {
    "colab": {
     "base_uri": "https://localhost:8080/",
     "height": 205
    },
    "id": "KLfGVYJNtwZG",
    "outputId": "3813aa67-d92e-4feb-d310-09c0af8fd390"
   },
   "outputs": [
    {
     "data": {
      "text/plain": [
       "array([1, 1, 1, 1, 1, 1, 1, 1, 1, 1, 1, 1, 1, 1, 1, 1, 1, 1, 1, 1, 1, 1,\n",
       "       1, 1, 1, 1, 1, 1, 1, 1, 1, 1, 1, 1, 1, 1, 1, 1, 1, 1, 1, 1, 1, 1,\n",
       "       1, 1, 1, 1, 1, 1, 1, 1, 1, 1, 1, 1, 1, 1, 1, 1, 1, 1, 1, 1, 1, 1,\n",
       "       1, 1, 1, 1, 1, 1, 1, 1, 1, 1, 1, 1, 1, 1, 1, 1, 1, 1, 1, 1, 1, 1,\n",
       "       1, 1, 1, 1, 1, 1, 1, 1, 1, 1, 1, 1, 1, 1, 1, 1, 1, 1, 1, 1, 1, 1,\n",
       "       1, 1, 1, 1, 1, 1, 1, 1, 1, 1, 1, 1, 1, 1, 1, 1, 1, 1, 1, 1, 1, 1,\n",
       "       1, 1, 1, 1, 1, 1, 1, 1, 1, 1, 1, 1, 1, 1, 1, 1, 1, 1, 1, 1, 1, 1,\n",
       "       1, 1, 1, 1, 1, 1, 1, 1, 1, 1, 1, 1, 1, 1, 1, 1, 1, 1, 1, 1, 1, 1,\n",
       "       1, 1, 1, 1, 1, 1, 1, 1, 1, 1, 1, 1, 1, 1, 1, 1, 1, 1, 1, 1, 1, 1,\n",
       "       1, 1, 1, 1, 1, 1, 1, 1, 1, 1, 1, 1, 1, 1, 1, 1, 1, 1, 1, 1, 1, 1,\n",
       "       1, 1, 1, 1, 1, 1, 1, 1])"
      ]
     },
     "execution_count": 11,
     "metadata": {
      "tags": []
     },
     "output_type": "execute_result"
    }
   ],
   "source": [
    "from sklearn.naive_bayes import  BernoulliNB\n",
    "\n",
    "classifier = BernoulliNB()\n",
    "classifier.fit(X_train, y_train)\n",
    "prediction = classifier.predict(X_test)\n",
    "\n",
    "prediction"
   ]
  },
  {
   "cell_type": "code",
   "execution_count": 11,
   "metadata": {
    "id": "xYCndmIgtwlc"
   },
   "outputs": [],
   "source": []
  },
  {
   "cell_type": "code",
   "execution_count": 12,
   "metadata": {
    "id": "GnWOb5aitBRz"
   },
   "outputs": [],
   "source": [
    "from sklearn.naive_bayes import  MultinomialNB\n",
    "\n",
    "classifier = MultinomialNB()\n",
    "classifier.fit(X_train, y_train)\n",
    "prediction = classifier.predict(X_test)"
   ]
  },
  {
   "cell_type": "code",
   "execution_count": 13,
   "metadata": {
    "colab": {
     "base_uri": "https://localhost:8080/",
     "height": 205
    },
    "id": "YZq2jDQltRnc",
    "outputId": "b8650af4-ac95-44f9-a227-5c5c93a0235a"
   },
   "outputs": [
    {
     "data": {
      "text/plain": [
       "array([1, 1, 0, 1, 0, 0, 0, 1, 1, 0, 0, 1, 1, 1, 1, 1, 1, 1, 0, 1, 1, 1,\n",
       "       0, 1, 1, 1, 1, 1, 1, 1, 0, 0, 0, 1, 1, 1, 1, 1, 1, 1, 1, 1, 1, 0,\n",
       "       1, 1, 1, 1, 1, 1, 0, 1, 0, 1, 0, 0, 1, 0, 1, 1, 1, 0, 0, 1, 1, 1,\n",
       "       1, 1, 1, 0, 0, 0, 0, 1, 1, 1, 0, 1, 1, 1, 1, 0, 1, 1, 1, 0, 1, 0,\n",
       "       0, 0, 0, 0, 1, 1, 1, 0, 0, 1, 1, 1, 0, 1, 1, 1, 1, 0, 1, 1, 1, 0,\n",
       "       1, 1, 1, 0, 1, 0, 1, 1, 1, 1, 1, 1, 1, 1, 1, 1, 1, 1, 1, 1, 0, 1,\n",
       "       1, 1, 1, 1, 1, 0, 0, 1, 0, 1, 0, 1, 0, 1, 0, 0, 1, 0, 1, 1, 1, 0,\n",
       "       0, 0, 1, 1, 1, 1, 1, 1, 0, 0, 1, 1, 0, 0, 1, 0, 1, 1, 1, 1, 1, 0,\n",
       "       1, 1, 1, 1, 0, 1, 0, 1, 0, 0, 1, 1, 1, 1, 1, 1, 1, 1, 1, 1, 1, 1,\n",
       "       0, 0, 1, 1, 1, 0, 0, 1, 1, 0, 1, 1, 1, 1, 1, 1, 0, 1, 1, 1, 1, 1,\n",
       "       0, 0, 1, 1, 1, 1, 1, 0])"
      ]
     },
     "execution_count": 13,
     "metadata": {
      "tags": []
     },
     "output_type": "execute_result"
    }
   ],
   "source": [
    "prediction"
   ]
  },
  {
   "cell_type": "code",
   "execution_count": 14,
   "metadata": {
    "colab": {
     "base_uri": "https://localhost:8080/",
     "height": 35
    },
    "id": "eY-9USpuuTdw",
    "outputId": "6a2606a9-dcba-4eab-eb56-a051252f5726"
   },
   "outputs": [
    {
     "name": "stdout",
     "output_type": "stream",
     "text": [
      "0.8859649122807017\n"
     ]
    }
   ],
   "source": [
    "import numpy as np\n",
    "\n",
    "print (np.mean(prediction == y_test))"
   ]
  },
  {
   "cell_type": "code",
   "execution_count": 15,
   "metadata": {
    "colab": {
     "base_uri": "https://localhost:8080/",
     "height": 1000
    },
    "id": "zq0VxPn_zX3K",
    "outputId": "67065baa-e223-4864-869c-4e072a4be5c7"
   },
   "outputs": [
    {
     "data": {
      "text/html": [
       "<div>\n",
       "<style scoped>\n",
       "    .dataframe tbody tr th:only-of-type {\n",
       "        vertical-align: middle;\n",
       "    }\n",
       "\n",
       "    .dataframe tbody tr th {\n",
       "        vertical-align: top;\n",
       "    }\n",
       "\n",
       "    .dataframe thead th {\n",
       "        text-align: right;\n",
       "    }\n",
       "</style>\n",
       "<table border=\"1\" class=\"dataframe\">\n",
       "  <thead>\n",
       "    <tr style=\"text-align: right;\">\n",
       "      <th></th>\n",
       "      <th>mean radius</th>\n",
       "      <th>mean texture</th>\n",
       "      <th>mean perimeter</th>\n",
       "      <th>mean area</th>\n",
       "      <th>mean smoothness</th>\n",
       "      <th>mean compactness</th>\n",
       "      <th>mean concavity</th>\n",
       "      <th>mean concave points</th>\n",
       "      <th>mean symmetry</th>\n",
       "      <th>mean fractal dimension</th>\n",
       "      <th>radius error</th>\n",
       "      <th>texture error</th>\n",
       "      <th>perimeter error</th>\n",
       "      <th>area error</th>\n",
       "      <th>smoothness error</th>\n",
       "      <th>compactness error</th>\n",
       "      <th>concavity error</th>\n",
       "      <th>concave points error</th>\n",
       "      <th>symmetry error</th>\n",
       "      <th>fractal dimension error</th>\n",
       "      <th>worst radius</th>\n",
       "      <th>worst texture</th>\n",
       "      <th>worst perimeter</th>\n",
       "      <th>worst area</th>\n",
       "      <th>worst smoothness</th>\n",
       "      <th>worst compactness</th>\n",
       "      <th>worst concavity</th>\n",
       "      <th>worst concave points</th>\n",
       "      <th>worst symmetry</th>\n",
       "      <th>worst fractal dimension</th>\n",
       "    </tr>\n",
       "  </thead>\n",
       "  <tbody>\n",
       "    <tr>\n",
       "      <th>mean radius</th>\n",
       "      <td>1.000000</td>\n",
       "      <td>0.313414</td>\n",
       "      <td>0.997739</td>\n",
       "      <td>0.988277</td>\n",
       "      <td>0.180125</td>\n",
       "      <td>0.496875</td>\n",
       "      <td>0.639650</td>\n",
       "      <td>0.812091</td>\n",
       "      <td>0.162510</td>\n",
       "      <td>-0.316048</td>\n",
       "      <td>0.665878</td>\n",
       "      <td>-0.106067</td>\n",
       "      <td>0.648462</td>\n",
       "      <td>0.731915</td>\n",
       "      <td>-0.274607</td>\n",
       "      <td>0.150289</td>\n",
       "      <td>0.102461</td>\n",
       "      <td>0.292472</td>\n",
       "      <td>-0.117996</td>\n",
       "      <td>-0.054039</td>\n",
       "      <td>0.967075</td>\n",
       "      <td>0.306259</td>\n",
       "      <td>0.962138</td>\n",
       "      <td>0.940198</td>\n",
       "      <td>0.162500</td>\n",
       "      <td>0.412318</td>\n",
       "      <td>0.479665</td>\n",
       "      <td>0.732191</td>\n",
       "      <td>0.178547</td>\n",
       "      <td>0.039627</td>\n",
       "    </tr>\n",
       "    <tr>\n",
       "      <th>mean texture</th>\n",
       "      <td>0.313414</td>\n",
       "      <td>1.000000</td>\n",
       "      <td>0.320371</td>\n",
       "      <td>0.302289</td>\n",
       "      <td>-0.023077</td>\n",
       "      <td>0.251194</td>\n",
       "      <td>0.287972</td>\n",
       "      <td>0.291045</td>\n",
       "      <td>0.086058</td>\n",
       "      <td>-0.061339</td>\n",
       "      <td>0.229949</td>\n",
       "      <td>0.334062</td>\n",
       "      <td>0.232811</td>\n",
       "      <td>0.215624</td>\n",
       "      <td>-0.079610</td>\n",
       "      <td>0.148605</td>\n",
       "      <td>0.074756</td>\n",
       "      <td>0.101426</td>\n",
       "      <td>-0.003749</td>\n",
       "      <td>0.017877</td>\n",
       "      <td>0.352429</td>\n",
       "      <td>0.915066</td>\n",
       "      <td>0.358428</td>\n",
       "      <td>0.336059</td>\n",
       "      <td>0.094181</td>\n",
       "      <td>0.300358</td>\n",
       "      <td>0.293012</td>\n",
       "      <td>0.303690</td>\n",
       "      <td>0.140133</td>\n",
       "      <td>0.149769</td>\n",
       "    </tr>\n",
       "    <tr>\n",
       "      <th>mean perimeter</th>\n",
       "      <td>0.997739</td>\n",
       "      <td>0.320371</td>\n",
       "      <td>1.000000</td>\n",
       "      <td>0.986421</td>\n",
       "      <td>0.216634</td>\n",
       "      <td>0.549481</td>\n",
       "      <td>0.680124</td>\n",
       "      <td>0.841209</td>\n",
       "      <td>0.198263</td>\n",
       "      <td>-0.265070</td>\n",
       "      <td>0.677539</td>\n",
       "      <td>-0.098046</td>\n",
       "      <td>0.668204</td>\n",
       "      <td>0.738262</td>\n",
       "      <td>-0.255695</td>\n",
       "      <td>0.196994</td>\n",
       "      <td>0.135526</td>\n",
       "      <td>0.324582</td>\n",
       "      <td>-0.088996</td>\n",
       "      <td>-0.017936</td>\n",
       "      <td>0.966646</td>\n",
       "      <td>0.312272</td>\n",
       "      <td>0.967488</td>\n",
       "      <td>0.939158</td>\n",
       "      <td>0.192659</td>\n",
       "      <td>0.455868</td>\n",
       "      <td>0.517688</td>\n",
       "      <td>0.759234</td>\n",
       "      <td>0.208025</td>\n",
       "      <td>0.083808</td>\n",
       "    </tr>\n",
       "    <tr>\n",
       "      <th>mean area</th>\n",
       "      <td>0.988277</td>\n",
       "      <td>0.302289</td>\n",
       "      <td>0.986421</td>\n",
       "      <td>1.000000</td>\n",
       "      <td>0.175679</td>\n",
       "      <td>0.481212</td>\n",
       "      <td>0.645668</td>\n",
       "      <td>0.810906</td>\n",
       "      <td>0.152974</td>\n",
       "      <td>-0.297750</td>\n",
       "      <td>0.718199</td>\n",
       "      <td>-0.080647</td>\n",
       "      <td>0.698803</td>\n",
       "      <td>0.789860</td>\n",
       "      <td>-0.220041</td>\n",
       "      <td>0.148474</td>\n",
       "      <td>0.115729</td>\n",
       "      <td>0.286246</td>\n",
       "      <td>-0.083054</td>\n",
       "      <td>-0.036792</td>\n",
       "      <td>0.957926</td>\n",
       "      <td>0.290579</td>\n",
       "      <td>0.952339</td>\n",
       "      <td>0.952093</td>\n",
       "      <td>0.152133</td>\n",
       "      <td>0.381378</td>\n",
       "      <td>0.460977</td>\n",
       "      <td>0.705946</td>\n",
       "      <td>0.151810</td>\n",
       "      <td>0.026593</td>\n",
       "    </tr>\n",
       "    <tr>\n",
       "      <th>mean smoothness</th>\n",
       "      <td>0.180125</td>\n",
       "      <td>-0.023077</td>\n",
       "      <td>0.216634</td>\n",
       "      <td>0.175679</td>\n",
       "      <td>1.000000</td>\n",
       "      <td>0.654003</td>\n",
       "      <td>0.528209</td>\n",
       "      <td>0.566791</td>\n",
       "      <td>0.573256</td>\n",
       "      <td>0.572753</td>\n",
       "      <td>0.280801</td>\n",
       "      <td>0.036328</td>\n",
       "      <td>0.274610</td>\n",
       "      <td>0.227734</td>\n",
       "      <td>0.311632</td>\n",
       "      <td>0.285365</td>\n",
       "      <td>0.232419</td>\n",
       "      <td>0.383123</td>\n",
       "      <td>0.170079</td>\n",
       "      <td>0.256145</td>\n",
       "      <td>0.212301</td>\n",
       "      <td>0.032680</td>\n",
       "      <td>0.236368</td>\n",
       "      <td>0.193961</td>\n",
       "      <td>0.794336</td>\n",
       "      <td>0.462645</td>\n",
       "      <td>0.433272</td>\n",
       "      <td>0.519841</td>\n",
       "      <td>0.396849</td>\n",
       "      <td>0.497136</td>\n",
       "    </tr>\n",
       "    <tr>\n",
       "      <th>mean compactness</th>\n",
       "      <td>0.496875</td>\n",
       "      <td>0.251194</td>\n",
       "      <td>0.549481</td>\n",
       "      <td>0.481212</td>\n",
       "      <td>0.654003</td>\n",
       "      <td>1.000000</td>\n",
       "      <td>0.876140</td>\n",
       "      <td>0.824713</td>\n",
       "      <td>0.613464</td>\n",
       "      <td>0.566966</td>\n",
       "      <td>0.478491</td>\n",
       "      <td>0.007917</td>\n",
       "      <td>0.533860</td>\n",
       "      <td>0.425530</td>\n",
       "      <td>0.096693</td>\n",
       "      <td>0.724504</td>\n",
       "      <td>0.516339</td>\n",
       "      <td>0.611336</td>\n",
       "      <td>0.269293</td>\n",
       "      <td>0.483765</td>\n",
       "      <td>0.528955</td>\n",
       "      <td>0.251821</td>\n",
       "      <td>0.586342</td>\n",
       "      <td>0.495136</td>\n",
       "      <td>0.568212</td>\n",
       "      <td>0.866487</td>\n",
       "      <td>0.800784</td>\n",
       "      <td>0.807528</td>\n",
       "      <td>0.560134</td>\n",
       "      <td>0.700613</td>\n",
       "    </tr>\n",
       "    <tr>\n",
       "      <th>mean concavity</th>\n",
       "      <td>0.639650</td>\n",
       "      <td>0.287972</td>\n",
       "      <td>0.680124</td>\n",
       "      <td>0.645668</td>\n",
       "      <td>0.528209</td>\n",
       "      <td>0.876140</td>\n",
       "      <td>1.000000</td>\n",
       "      <td>0.905636</td>\n",
       "      <td>0.530630</td>\n",
       "      <td>0.375602</td>\n",
       "      <td>0.602534</td>\n",
       "      <td>0.036293</td>\n",
       "      <td>0.624768</td>\n",
       "      <td>0.573333</td>\n",
       "      <td>0.060641</td>\n",
       "      <td>0.648317</td>\n",
       "      <td>0.667192</td>\n",
       "      <td>0.658620</td>\n",
       "      <td>0.215730</td>\n",
       "      <td>0.461550</td>\n",
       "      <td>0.651735</td>\n",
       "      <td>0.283973</td>\n",
       "      <td>0.693769</td>\n",
       "      <td>0.634035</td>\n",
       "      <td>0.467624</td>\n",
       "      <td>0.752701</td>\n",
       "      <td>0.877913</td>\n",
       "      <td>0.849941</td>\n",
       "      <td>0.459680</td>\n",
       "      <td>0.560190</td>\n",
       "    </tr>\n",
       "    <tr>\n",
       "      <th>mean concave points</th>\n",
       "      <td>0.812091</td>\n",
       "      <td>0.291045</td>\n",
       "      <td>0.841209</td>\n",
       "      <td>0.810906</td>\n",
       "      <td>0.566791</td>\n",
       "      <td>0.824713</td>\n",
       "      <td>0.905636</td>\n",
       "      <td>1.000000</td>\n",
       "      <td>0.474983</td>\n",
       "      <td>0.176454</td>\n",
       "      <td>0.675822</td>\n",
       "      <td>-0.002941</td>\n",
       "      <td>0.682956</td>\n",
       "      <td>0.669178</td>\n",
       "      <td>-0.010198</td>\n",
       "      <td>0.454698</td>\n",
       "      <td>0.370579</td>\n",
       "      <td>0.559909</td>\n",
       "      <td>0.103676</td>\n",
       "      <td>0.253483</td>\n",
       "      <td>0.815463</td>\n",
       "      <td>0.294178</td>\n",
       "      <td>0.842276</td>\n",
       "      <td>0.792560</td>\n",
       "      <td>0.479293</td>\n",
       "      <td>0.664669</td>\n",
       "      <td>0.721102</td>\n",
       "      <td>0.901625</td>\n",
       "      <td>0.400204</td>\n",
       "      <td>0.401271</td>\n",
       "    </tr>\n",
       "    <tr>\n",
       "      <th>mean symmetry</th>\n",
       "      <td>0.162510</td>\n",
       "      <td>0.086058</td>\n",
       "      <td>0.198263</td>\n",
       "      <td>0.152974</td>\n",
       "      <td>0.573256</td>\n",
       "      <td>0.613464</td>\n",
       "      <td>0.530630</td>\n",
       "      <td>0.474983</td>\n",
       "      <td>1.000000</td>\n",
       "      <td>0.485782</td>\n",
       "      <td>0.297061</td>\n",
       "      <td>0.069351</td>\n",
       "      <td>0.301990</td>\n",
       "      <td>0.198874</td>\n",
       "      <td>0.163161</td>\n",
       "      <td>0.434156</td>\n",
       "      <td>0.376684</td>\n",
       "      <td>0.432762</td>\n",
       "      <td>0.446339</td>\n",
       "      <td>0.347117</td>\n",
       "      <td>0.198689</td>\n",
       "      <td>0.079817</td>\n",
       "      <td>0.231470</td>\n",
       "      <td>0.176115</td>\n",
       "      <td>0.426137</td>\n",
       "      <td>0.475795</td>\n",
       "      <td>0.456915</td>\n",
       "      <td>0.442664</td>\n",
       "      <td>0.686373</td>\n",
       "      <td>0.446497</td>\n",
       "    </tr>\n",
       "    <tr>\n",
       "      <th>mean fractal dimension</th>\n",
       "      <td>-0.316048</td>\n",
       "      <td>-0.061339</td>\n",
       "      <td>-0.265070</td>\n",
       "      <td>-0.297750</td>\n",
       "      <td>0.572753</td>\n",
       "      <td>0.566966</td>\n",
       "      <td>0.375602</td>\n",
       "      <td>0.176454</td>\n",
       "      <td>0.485782</td>\n",
       "      <td>1.000000</td>\n",
       "      <td>0.004696</td>\n",
       "      <td>0.160341</td>\n",
       "      <td>0.056008</td>\n",
       "      <td>-0.104353</td>\n",
       "      <td>0.409588</td>\n",
       "      <td>0.596212</td>\n",
       "      <td>0.494223</td>\n",
       "      <td>0.413838</td>\n",
       "      <td>0.397046</td>\n",
       "      <td>0.685115</td>\n",
       "      <td>-0.260479</td>\n",
       "      <td>-0.060808</td>\n",
       "      <td>-0.211103</td>\n",
       "      <td>-0.250894</td>\n",
       "      <td>0.456634</td>\n",
       "      <td>0.451233</td>\n",
       "      <td>0.374795</td>\n",
       "      <td>0.183716</td>\n",
       "      <td>0.358745</td>\n",
       "      <td>0.741674</td>\n",
       "    </tr>\n",
       "    <tr>\n",
       "      <th>radius error</th>\n",
       "      <td>0.665878</td>\n",
       "      <td>0.229949</td>\n",
       "      <td>0.677539</td>\n",
       "      <td>0.718199</td>\n",
       "      <td>0.280801</td>\n",
       "      <td>0.478491</td>\n",
       "      <td>0.602534</td>\n",
       "      <td>0.675822</td>\n",
       "      <td>0.297061</td>\n",
       "      <td>0.004696</td>\n",
       "      <td>1.000000</td>\n",
       "      <td>0.181393</td>\n",
       "      <td>0.963112</td>\n",
       "      <td>0.959507</td>\n",
       "      <td>0.141580</td>\n",
       "      <td>0.322011</td>\n",
       "      <td>0.281282</td>\n",
       "      <td>0.435555</td>\n",
       "      <td>0.276794</td>\n",
       "      <td>0.249133</td>\n",
       "      <td>0.692697</td>\n",
       "      <td>0.165391</td>\n",
       "      <td>0.695351</td>\n",
       "      <td>0.723111</td>\n",
       "      <td>0.131219</td>\n",
       "      <td>0.275076</td>\n",
       "      <td>0.340263</td>\n",
       "      <td>0.497898</td>\n",
       "      <td>0.097418</td>\n",
       "      <td>0.072913</td>\n",
       "    </tr>\n",
       "    <tr>\n",
       "      <th>texture error</th>\n",
       "      <td>-0.106067</td>\n",
       "      <td>0.334062</td>\n",
       "      <td>-0.098046</td>\n",
       "      <td>-0.080647</td>\n",
       "      <td>0.036328</td>\n",
       "      <td>0.007917</td>\n",
       "      <td>0.036293</td>\n",
       "      <td>-0.002941</td>\n",
       "      <td>0.069351</td>\n",
       "      <td>0.160341</td>\n",
       "      <td>0.181393</td>\n",
       "      <td>1.000000</td>\n",
       "      <td>0.206616</td>\n",
       "      <td>0.083583</td>\n",
       "      <td>0.304074</td>\n",
       "      <td>0.179121</td>\n",
       "      <td>0.154108</td>\n",
       "      <td>0.226519</td>\n",
       "      <td>0.379634</td>\n",
       "      <td>0.241823</td>\n",
       "      <td>-0.123631</td>\n",
       "      <td>0.357155</td>\n",
       "      <td>-0.116156</td>\n",
       "      <td>-0.098471</td>\n",
       "      <td>-0.135099</td>\n",
       "      <td>-0.133201</td>\n",
       "      <td>-0.106573</td>\n",
       "      <td>-0.149075</td>\n",
       "      <td>-0.188372</td>\n",
       "      <td>-0.079672</td>\n",
       "    </tr>\n",
       "    <tr>\n",
       "      <th>perimeter error</th>\n",
       "      <td>0.648462</td>\n",
       "      <td>0.232811</td>\n",
       "      <td>0.668204</td>\n",
       "      <td>0.698803</td>\n",
       "      <td>0.274610</td>\n",
       "      <td>0.533860</td>\n",
       "      <td>0.624768</td>\n",
       "      <td>0.682956</td>\n",
       "      <td>0.301990</td>\n",
       "      <td>0.056008</td>\n",
       "      <td>0.963112</td>\n",
       "      <td>0.206616</td>\n",
       "      <td>1.000000</td>\n",
       "      <td>0.934537</td>\n",
       "      <td>0.135840</td>\n",
       "      <td>0.397671</td>\n",
       "      <td>0.306723</td>\n",
       "      <td>0.486891</td>\n",
       "      <td>0.330222</td>\n",
       "      <td>0.265330</td>\n",
       "      <td>0.656061</td>\n",
       "      <td>0.163435</td>\n",
       "      <td>0.682357</td>\n",
       "      <td>0.680801</td>\n",
       "      <td>0.108095</td>\n",
       "      <td>0.325698</td>\n",
       "      <td>0.367854</td>\n",
       "      <td>0.509701</td>\n",
       "      <td>0.108805</td>\n",
       "      <td>0.107135</td>\n",
       "    </tr>\n",
       "    <tr>\n",
       "      <th>area error</th>\n",
       "      <td>0.731915</td>\n",
       "      <td>0.215624</td>\n",
       "      <td>0.738262</td>\n",
       "      <td>0.789860</td>\n",
       "      <td>0.227734</td>\n",
       "      <td>0.425530</td>\n",
       "      <td>0.573333</td>\n",
       "      <td>0.669178</td>\n",
       "      <td>0.198874</td>\n",
       "      <td>-0.104353</td>\n",
       "      <td>0.959507</td>\n",
       "      <td>0.083583</td>\n",
       "      <td>0.934537</td>\n",
       "      <td>1.000000</td>\n",
       "      <td>0.044720</td>\n",
       "      <td>0.219202</td>\n",
       "      <td>0.195143</td>\n",
       "      <td>0.327848</td>\n",
       "      <td>0.169898</td>\n",
       "      <td>0.120051</td>\n",
       "      <td>0.741239</td>\n",
       "      <td>0.172525</td>\n",
       "      <td>0.740519</td>\n",
       "      <td>0.781115</td>\n",
       "      <td>0.116508</td>\n",
       "      <td>0.257542</td>\n",
       "      <td>0.328849</td>\n",
       "      <td>0.505867</td>\n",
       "      <td>0.069386</td>\n",
       "      <td>0.027868</td>\n",
       "    </tr>\n",
       "    <tr>\n",
       "      <th>smoothness error</th>\n",
       "      <td>-0.274607</td>\n",
       "      <td>-0.079610</td>\n",
       "      <td>-0.255695</td>\n",
       "      <td>-0.220041</td>\n",
       "      <td>0.311632</td>\n",
       "      <td>0.096693</td>\n",
       "      <td>0.060641</td>\n",
       "      <td>-0.010198</td>\n",
       "      <td>0.163161</td>\n",
       "      <td>0.409588</td>\n",
       "      <td>0.141580</td>\n",
       "      <td>0.304074</td>\n",
       "      <td>0.135840</td>\n",
       "      <td>0.044720</td>\n",
       "      <td>1.000000</td>\n",
       "      <td>0.293449</td>\n",
       "      <td>0.217535</td>\n",
       "      <td>0.328999</td>\n",
       "      <td>0.405821</td>\n",
       "      <td>0.375387</td>\n",
       "      <td>-0.279997</td>\n",
       "      <td>-0.153931</td>\n",
       "      <td>-0.270441</td>\n",
       "      <td>-0.234459</td>\n",
       "      <td>0.280552</td>\n",
       "      <td>-0.086249</td>\n",
       "      <td>-0.084880</td>\n",
       "      <td>-0.129880</td>\n",
       "      <td>-0.122415</td>\n",
       "      <td>0.079116</td>\n",
       "    </tr>\n",
       "    <tr>\n",
       "      <th>compactness error</th>\n",
       "      <td>0.150289</td>\n",
       "      <td>0.148605</td>\n",
       "      <td>0.196994</td>\n",
       "      <td>0.148474</td>\n",
       "      <td>0.285365</td>\n",
       "      <td>0.724504</td>\n",
       "      <td>0.648317</td>\n",
       "      <td>0.454698</td>\n",
       "      <td>0.434156</td>\n",
       "      <td>0.596212</td>\n",
       "      <td>0.322011</td>\n",
       "      <td>0.179121</td>\n",
       "      <td>0.397671</td>\n",
       "      <td>0.219202</td>\n",
       "      <td>0.293449</td>\n",
       "      <td>1.000000</td>\n",
       "      <td>0.763891</td>\n",
       "      <td>0.768917</td>\n",
       "      <td>0.433987</td>\n",
       "      <td>0.804613</td>\n",
       "      <td>0.156979</td>\n",
       "      <td>0.088121</td>\n",
       "      <td>0.216751</td>\n",
       "      <td>0.143346</td>\n",
       "      <td>0.188889</td>\n",
       "      <td>0.661026</td>\n",
       "      <td>0.620727</td>\n",
       "      <td>0.464932</td>\n",
       "      <td>0.309284</td>\n",
       "      <td>0.600357</td>\n",
       "    </tr>\n",
       "    <tr>\n",
       "      <th>concavity error</th>\n",
       "      <td>0.102461</td>\n",
       "      <td>0.074756</td>\n",
       "      <td>0.135526</td>\n",
       "      <td>0.115729</td>\n",
       "      <td>0.232419</td>\n",
       "      <td>0.516339</td>\n",
       "      <td>0.667192</td>\n",
       "      <td>0.370579</td>\n",
       "      <td>0.376684</td>\n",
       "      <td>0.494223</td>\n",
       "      <td>0.281282</td>\n",
       "      <td>0.154108</td>\n",
       "      <td>0.306723</td>\n",
       "      <td>0.195143</td>\n",
       "      <td>0.217535</td>\n",
       "      <td>0.763891</td>\n",
       "      <td>1.000000</td>\n",
       "      <td>0.777458</td>\n",
       "      <td>0.339054</td>\n",
       "      <td>0.731091</td>\n",
       "      <td>0.104634</td>\n",
       "      <td>0.037054</td>\n",
       "      <td>0.142850</td>\n",
       "      <td>0.105568</td>\n",
       "      <td>0.146716</td>\n",
       "      <td>0.436974</td>\n",
       "      <td>0.642297</td>\n",
       "      <td>0.396351</td>\n",
       "      <td>0.231618</td>\n",
       "      <td>0.445704</td>\n",
       "    </tr>\n",
       "    <tr>\n",
       "      <th>concave points error</th>\n",
       "      <td>0.292472</td>\n",
       "      <td>0.101426</td>\n",
       "      <td>0.324582</td>\n",
       "      <td>0.286246</td>\n",
       "      <td>0.383123</td>\n",
       "      <td>0.611336</td>\n",
       "      <td>0.658620</td>\n",
       "      <td>0.559909</td>\n",
       "      <td>0.432762</td>\n",
       "      <td>0.413838</td>\n",
       "      <td>0.435555</td>\n",
       "      <td>0.226519</td>\n",
       "      <td>0.486891</td>\n",
       "      <td>0.327848</td>\n",
       "      <td>0.328999</td>\n",
       "      <td>0.768917</td>\n",
       "      <td>0.777458</td>\n",
       "      <td>1.000000</td>\n",
       "      <td>0.362272</td>\n",
       "      <td>0.665979</td>\n",
       "      <td>0.271477</td>\n",
       "      <td>0.030091</td>\n",
       "      <td>0.308869</td>\n",
       "      <td>0.254668</td>\n",
       "      <td>0.209885</td>\n",
       "      <td>0.420307</td>\n",
       "      <td>0.519724</td>\n",
       "      <td>0.553704</td>\n",
       "      <td>0.161278</td>\n",
       "      <td>0.342277</td>\n",
       "    </tr>\n",
       "    <tr>\n",
       "      <th>symmetry error</th>\n",
       "      <td>-0.117996</td>\n",
       "      <td>-0.003749</td>\n",
       "      <td>-0.088996</td>\n",
       "      <td>-0.083054</td>\n",
       "      <td>0.170079</td>\n",
       "      <td>0.269293</td>\n",
       "      <td>0.215730</td>\n",
       "      <td>0.103676</td>\n",
       "      <td>0.446339</td>\n",
       "      <td>0.397046</td>\n",
       "      <td>0.276794</td>\n",
       "      <td>0.379634</td>\n",
       "      <td>0.330222</td>\n",
       "      <td>0.169898</td>\n",
       "      <td>0.405821</td>\n",
       "      <td>0.433987</td>\n",
       "      <td>0.339054</td>\n",
       "      <td>0.362272</td>\n",
       "      <td>1.000000</td>\n",
       "      <td>0.399502</td>\n",
       "      <td>-0.146326</td>\n",
       "      <td>-0.122493</td>\n",
       "      <td>-0.114183</td>\n",
       "      <td>-0.129860</td>\n",
       "      <td>-0.056714</td>\n",
       "      <td>0.075403</td>\n",
       "      <td>0.054338</td>\n",
       "      <td>-0.037361</td>\n",
       "      <td>0.350994</td>\n",
       "      <td>0.096561</td>\n",
       "    </tr>\n",
       "    <tr>\n",
       "      <th>fractal dimension error</th>\n",
       "      <td>-0.054039</td>\n",
       "      <td>0.017877</td>\n",
       "      <td>-0.017936</td>\n",
       "      <td>-0.036792</td>\n",
       "      <td>0.256145</td>\n",
       "      <td>0.483765</td>\n",
       "      <td>0.461550</td>\n",
       "      <td>0.253483</td>\n",
       "      <td>0.347117</td>\n",
       "      <td>0.685115</td>\n",
       "      <td>0.249133</td>\n",
       "      <td>0.241823</td>\n",
       "      <td>0.265330</td>\n",
       "      <td>0.120051</td>\n",
       "      <td>0.375387</td>\n",
       "      <td>0.804613</td>\n",
       "      <td>0.731091</td>\n",
       "      <td>0.665979</td>\n",
       "      <td>0.399502</td>\n",
       "      <td>1.000000</td>\n",
       "      <td>-0.047592</td>\n",
       "      <td>-0.049854</td>\n",
       "      <td>-0.011380</td>\n",
       "      <td>-0.039321</td>\n",
       "      <td>0.123410</td>\n",
       "      <td>0.360439</td>\n",
       "      <td>0.379007</td>\n",
       "      <td>0.217302</td>\n",
       "      <td>0.132725</td>\n",
       "      <td>0.551988</td>\n",
       "    </tr>\n",
       "    <tr>\n",
       "      <th>worst radius</th>\n",
       "      <td>0.967075</td>\n",
       "      <td>0.352429</td>\n",
       "      <td>0.966646</td>\n",
       "      <td>0.957926</td>\n",
       "      <td>0.212301</td>\n",
       "      <td>0.528955</td>\n",
       "      <td>0.651735</td>\n",
       "      <td>0.815463</td>\n",
       "      <td>0.198689</td>\n",
       "      <td>-0.260479</td>\n",
       "      <td>0.692697</td>\n",
       "      <td>-0.123631</td>\n",
       "      <td>0.656061</td>\n",
       "      <td>0.741239</td>\n",
       "      <td>-0.279997</td>\n",
       "      <td>0.156979</td>\n",
       "      <td>0.104634</td>\n",
       "      <td>0.271477</td>\n",
       "      <td>-0.146326</td>\n",
       "      <td>-0.047592</td>\n",
       "      <td>1.000000</td>\n",
       "      <td>0.377886</td>\n",
       "      <td>0.992841</td>\n",
       "      <td>0.985765</td>\n",
       "      <td>0.254623</td>\n",
       "      <td>0.482171</td>\n",
       "      <td>0.532974</td>\n",
       "      <td>0.776043</td>\n",
       "      <td>0.265843</td>\n",
       "      <td>0.129909</td>\n",
       "    </tr>\n",
       "    <tr>\n",
       "      <th>worst texture</th>\n",
       "      <td>0.306259</td>\n",
       "      <td>0.915066</td>\n",
       "      <td>0.312272</td>\n",
       "      <td>0.290579</td>\n",
       "      <td>0.032680</td>\n",
       "      <td>0.251821</td>\n",
       "      <td>0.283973</td>\n",
       "      <td>0.294178</td>\n",
       "      <td>0.079817</td>\n",
       "      <td>-0.060808</td>\n",
       "      <td>0.165391</td>\n",
       "      <td>0.357155</td>\n",
       "      <td>0.163435</td>\n",
       "      <td>0.172525</td>\n",
       "      <td>-0.153931</td>\n",
       "      <td>0.088121</td>\n",
       "      <td>0.037054</td>\n",
       "      <td>0.030091</td>\n",
       "      <td>-0.122493</td>\n",
       "      <td>-0.049854</td>\n",
       "      <td>0.377886</td>\n",
       "      <td>1.000000</td>\n",
       "      <td>0.382400</td>\n",
       "      <td>0.361742</td>\n",
       "      <td>0.237962</td>\n",
       "      <td>0.362988</td>\n",
       "      <td>0.355028</td>\n",
       "      <td>0.367884</td>\n",
       "      <td>0.236978</td>\n",
       "      <td>0.225141</td>\n",
       "    </tr>\n",
       "    <tr>\n",
       "      <th>worst perimeter</th>\n",
       "      <td>0.962138</td>\n",
       "      <td>0.358428</td>\n",
       "      <td>0.967488</td>\n",
       "      <td>0.952339</td>\n",
       "      <td>0.236368</td>\n",
       "      <td>0.586342</td>\n",
       "      <td>0.693769</td>\n",
       "      <td>0.842276</td>\n",
       "      <td>0.231470</td>\n",
       "      <td>-0.211103</td>\n",
       "      <td>0.695351</td>\n",
       "      <td>-0.116156</td>\n",
       "      <td>0.682357</td>\n",
       "      <td>0.740519</td>\n",
       "      <td>-0.270441</td>\n",
       "      <td>0.216751</td>\n",
       "      <td>0.142850</td>\n",
       "      <td>0.308869</td>\n",
       "      <td>-0.114183</td>\n",
       "      <td>-0.011380</td>\n",
       "      <td>0.992841</td>\n",
       "      <td>0.382400</td>\n",
       "      <td>1.000000</td>\n",
       "      <td>0.976507</td>\n",
       "      <td>0.272165</td>\n",
       "      <td>0.537580</td>\n",
       "      <td>0.578383</td>\n",
       "      <td>0.804263</td>\n",
       "      <td>0.296103</td>\n",
       "      <td>0.175907</td>\n",
       "    </tr>\n",
       "    <tr>\n",
       "      <th>worst area</th>\n",
       "      <td>0.940198</td>\n",
       "      <td>0.336059</td>\n",
       "      <td>0.939158</td>\n",
       "      <td>0.952093</td>\n",
       "      <td>0.193961</td>\n",
       "      <td>0.495136</td>\n",
       "      <td>0.634035</td>\n",
       "      <td>0.792560</td>\n",
       "      <td>0.176115</td>\n",
       "      <td>-0.250894</td>\n",
       "      <td>0.723111</td>\n",
       "      <td>-0.098471</td>\n",
       "      <td>0.680801</td>\n",
       "      <td>0.781115</td>\n",
       "      <td>-0.234459</td>\n",
       "      <td>0.143346</td>\n",
       "      <td>0.105568</td>\n",
       "      <td>0.254668</td>\n",
       "      <td>-0.129860</td>\n",
       "      <td>-0.039321</td>\n",
       "      <td>0.985765</td>\n",
       "      <td>0.361742</td>\n",
       "      <td>0.976507</td>\n",
       "      <td>1.000000</td>\n",
       "      <td>0.233634</td>\n",
       "      <td>0.437092</td>\n",
       "      <td>0.497048</td>\n",
       "      <td>0.733492</td>\n",
       "      <td>0.224449</td>\n",
       "      <td>0.105665</td>\n",
       "    </tr>\n",
       "    <tr>\n",
       "      <th>worst smoothness</th>\n",
       "      <td>0.162500</td>\n",
       "      <td>0.094181</td>\n",
       "      <td>0.192659</td>\n",
       "      <td>0.152133</td>\n",
       "      <td>0.794336</td>\n",
       "      <td>0.568212</td>\n",
       "      <td>0.467624</td>\n",
       "      <td>0.479293</td>\n",
       "      <td>0.426137</td>\n",
       "      <td>0.456634</td>\n",
       "      <td>0.131219</td>\n",
       "      <td>-0.135099</td>\n",
       "      <td>0.108095</td>\n",
       "      <td>0.116508</td>\n",
       "      <td>0.280552</td>\n",
       "      <td>0.188889</td>\n",
       "      <td>0.146716</td>\n",
       "      <td>0.209885</td>\n",
       "      <td>-0.056714</td>\n",
       "      <td>0.123410</td>\n",
       "      <td>0.254623</td>\n",
       "      <td>0.237962</td>\n",
       "      <td>0.272165</td>\n",
       "      <td>0.233634</td>\n",
       "      <td>1.000000</td>\n",
       "      <td>0.574095</td>\n",
       "      <td>0.536547</td>\n",
       "      <td>0.591128</td>\n",
       "      <td>0.529543</td>\n",
       "      <td>0.617710</td>\n",
       "    </tr>\n",
       "    <tr>\n",
       "      <th>worst compactness</th>\n",
       "      <td>0.412318</td>\n",
       "      <td>0.300358</td>\n",
       "      <td>0.455868</td>\n",
       "      <td>0.381378</td>\n",
       "      <td>0.462645</td>\n",
       "      <td>0.866487</td>\n",
       "      <td>0.752701</td>\n",
       "      <td>0.664669</td>\n",
       "      <td>0.475795</td>\n",
       "      <td>0.451233</td>\n",
       "      <td>0.275076</td>\n",
       "      <td>-0.133201</td>\n",
       "      <td>0.325698</td>\n",
       "      <td>0.257542</td>\n",
       "      <td>-0.086249</td>\n",
       "      <td>0.661026</td>\n",
       "      <td>0.436974</td>\n",
       "      <td>0.420307</td>\n",
       "      <td>0.075403</td>\n",
       "      <td>0.360439</td>\n",
       "      <td>0.482171</td>\n",
       "      <td>0.362988</td>\n",
       "      <td>0.537580</td>\n",
       "      <td>0.437092</td>\n",
       "      <td>0.574095</td>\n",
       "      <td>1.000000</td>\n",
       "      <td>0.884474</td>\n",
       "      <td>0.799926</td>\n",
       "      <td>0.660247</td>\n",
       "      <td>0.828089</td>\n",
       "    </tr>\n",
       "    <tr>\n",
       "      <th>worst concavity</th>\n",
       "      <td>0.479665</td>\n",
       "      <td>0.293012</td>\n",
       "      <td>0.517688</td>\n",
       "      <td>0.460977</td>\n",
       "      <td>0.433272</td>\n",
       "      <td>0.800784</td>\n",
       "      <td>0.877913</td>\n",
       "      <td>0.721102</td>\n",
       "      <td>0.456915</td>\n",
       "      <td>0.374795</td>\n",
       "      <td>0.340263</td>\n",
       "      <td>-0.106573</td>\n",
       "      <td>0.367854</td>\n",
       "      <td>0.328849</td>\n",
       "      <td>-0.084880</td>\n",
       "      <td>0.620727</td>\n",
       "      <td>0.642297</td>\n",
       "      <td>0.519724</td>\n",
       "      <td>0.054338</td>\n",
       "      <td>0.379007</td>\n",
       "      <td>0.532974</td>\n",
       "      <td>0.355028</td>\n",
       "      <td>0.578383</td>\n",
       "      <td>0.497048</td>\n",
       "      <td>0.536547</td>\n",
       "      <td>0.884474</td>\n",
       "      <td>1.000000</td>\n",
       "      <td>0.839103</td>\n",
       "      <td>0.583816</td>\n",
       "      <td>0.728925</td>\n",
       "    </tr>\n",
       "    <tr>\n",
       "      <th>worst concave points</th>\n",
       "      <td>0.732191</td>\n",
       "      <td>0.303690</td>\n",
       "      <td>0.759234</td>\n",
       "      <td>0.705946</td>\n",
       "      <td>0.519841</td>\n",
       "      <td>0.807528</td>\n",
       "      <td>0.849941</td>\n",
       "      <td>0.901625</td>\n",
       "      <td>0.442664</td>\n",
       "      <td>0.183716</td>\n",
       "      <td>0.497898</td>\n",
       "      <td>-0.149075</td>\n",
       "      <td>0.509701</td>\n",
       "      <td>0.505867</td>\n",
       "      <td>-0.129880</td>\n",
       "      <td>0.464932</td>\n",
       "      <td>0.396351</td>\n",
       "      <td>0.553704</td>\n",
       "      <td>-0.037361</td>\n",
       "      <td>0.217302</td>\n",
       "      <td>0.776043</td>\n",
       "      <td>0.367884</td>\n",
       "      <td>0.804263</td>\n",
       "      <td>0.733492</td>\n",
       "      <td>0.591128</td>\n",
       "      <td>0.799926</td>\n",
       "      <td>0.839103</td>\n",
       "      <td>1.000000</td>\n",
       "      <td>0.537103</td>\n",
       "      <td>0.552653</td>\n",
       "    </tr>\n",
       "    <tr>\n",
       "      <th>worst symmetry</th>\n",
       "      <td>0.178547</td>\n",
       "      <td>0.140133</td>\n",
       "      <td>0.208025</td>\n",
       "      <td>0.151810</td>\n",
       "      <td>0.396849</td>\n",
       "      <td>0.560134</td>\n",
       "      <td>0.459680</td>\n",
       "      <td>0.400204</td>\n",
       "      <td>0.686373</td>\n",
       "      <td>0.358745</td>\n",
       "      <td>0.097418</td>\n",
       "      <td>-0.188372</td>\n",
       "      <td>0.108805</td>\n",
       "      <td>0.069386</td>\n",
       "      <td>-0.122415</td>\n",
       "      <td>0.309284</td>\n",
       "      <td>0.231618</td>\n",
       "      <td>0.161278</td>\n",
       "      <td>0.350994</td>\n",
       "      <td>0.132725</td>\n",
       "      <td>0.265843</td>\n",
       "      <td>0.236978</td>\n",
       "      <td>0.296103</td>\n",
       "      <td>0.224449</td>\n",
       "      <td>0.529543</td>\n",
       "      <td>0.660247</td>\n",
       "      <td>0.583816</td>\n",
       "      <td>0.537103</td>\n",
       "      <td>1.000000</td>\n",
       "      <td>0.590703</td>\n",
       "    </tr>\n",
       "    <tr>\n",
       "      <th>worst fractal dimension</th>\n",
       "      <td>0.039627</td>\n",
       "      <td>0.149769</td>\n",
       "      <td>0.083808</td>\n",
       "      <td>0.026593</td>\n",
       "      <td>0.497136</td>\n",
       "      <td>0.700613</td>\n",
       "      <td>0.560190</td>\n",
       "      <td>0.401271</td>\n",
       "      <td>0.446497</td>\n",
       "      <td>0.741674</td>\n",
       "      <td>0.072913</td>\n",
       "      <td>-0.079672</td>\n",
       "      <td>0.107135</td>\n",
       "      <td>0.027868</td>\n",
       "      <td>0.079116</td>\n",
       "      <td>0.600357</td>\n",
       "      <td>0.445704</td>\n",
       "      <td>0.342277</td>\n",
       "      <td>0.096561</td>\n",
       "      <td>0.551988</td>\n",
       "      <td>0.129909</td>\n",
       "      <td>0.225141</td>\n",
       "      <td>0.175907</td>\n",
       "      <td>0.105665</td>\n",
       "      <td>0.617710</td>\n",
       "      <td>0.828089</td>\n",
       "      <td>0.728925</td>\n",
       "      <td>0.552653</td>\n",
       "      <td>0.590703</td>\n",
       "      <td>1.000000</td>\n",
       "    </tr>\n",
       "  </tbody>\n",
       "</table>\n",
       "</div>"
      ],
      "text/plain": [
       "                         mean radius  ...  worst fractal dimension\n",
       "mean radius                 1.000000  ...                 0.039627\n",
       "mean texture                0.313414  ...                 0.149769\n",
       "mean perimeter              0.997739  ...                 0.083808\n",
       "mean area                   0.988277  ...                 0.026593\n",
       "mean smoothness             0.180125  ...                 0.497136\n",
       "mean compactness            0.496875  ...                 0.700613\n",
       "mean concavity              0.639650  ...                 0.560190\n",
       "mean concave points         0.812091  ...                 0.401271\n",
       "mean symmetry               0.162510  ...                 0.446497\n",
       "mean fractal dimension     -0.316048  ...                 0.741674\n",
       "radius error                0.665878  ...                 0.072913\n",
       "texture error              -0.106067  ...                -0.079672\n",
       "perimeter error             0.648462  ...                 0.107135\n",
       "area error                  0.731915  ...                 0.027868\n",
       "smoothness error           -0.274607  ...                 0.079116\n",
       "compactness error           0.150289  ...                 0.600357\n",
       "concavity error             0.102461  ...                 0.445704\n",
       "concave points error        0.292472  ...                 0.342277\n",
       "symmetry error             -0.117996  ...                 0.096561\n",
       "fractal dimension error    -0.054039  ...                 0.551988\n",
       "worst radius                0.967075  ...                 0.129909\n",
       "worst texture               0.306259  ...                 0.225141\n",
       "worst perimeter             0.962138  ...                 0.175907\n",
       "worst area                  0.940198  ...                 0.105665\n",
       "worst smoothness            0.162500  ...                 0.617710\n",
       "worst compactness           0.412318  ...                 0.828089\n",
       "worst concavity             0.479665  ...                 0.728925\n",
       "worst concave points        0.732191  ...                 0.552653\n",
       "worst symmetry              0.178547  ...                 0.590703\n",
       "worst fractal dimension     0.039627  ...                 1.000000\n",
       "\n",
       "[30 rows x 30 columns]"
      ]
     },
     "execution_count": 15,
     "metadata": {
      "tags": []
     },
     "output_type": "execute_result"
    }
   ],
   "source": [
    "X_train.corr()"
   ]
  },
  {
   "cell_type": "code",
   "execution_count": 17,
   "metadata": {
    "id": "G--RQjeWz7GL"
   },
   "outputs": [],
   "source": [
    "X_train = X_train.drop('mean concave points', axis = 1)\n",
    "X_test = X_test.drop('mean concave points', axis = 1)"
   ]
  },
  {
   "cell_type": "code",
   "execution_count": 19,
   "metadata": {
    "id": "4YjtdPla0Vc3"
   },
   "outputs": [],
   "source": [
    "X_train = X_train.drop('worst perimeter', axis = 1)\n",
    "X_test = X_test.drop('worst perimeter', axis = 1)"
   ]
  },
  {
   "cell_type": "code",
   "execution_count": 20,
   "metadata": {
    "colab": {
     "base_uri": "https://localhost:8080/",
     "height": 34
    },
    "id": "qlu9B2zD0Iir",
    "outputId": "0953c6f6-0eb5-44cc-ed2d-2684cc234ee0"
   },
   "outputs": [
    {
     "name": "stdout",
     "output_type": "stream",
     "text": [
      "0.8947368421052632\n"
     ]
    }
   ],
   "source": [
    "from sklearn.naive_bayes import  MultinomialNB\n",
    "\n",
    "classifier = MultinomialNB()\n",
    "classifier.fit(X_train, y_train)\n",
    "prediction = classifier.predict(X_test)\n",
    "\n",
    "print (np.mean(prediction == y_test))"
   ]
  },
  {
   "cell_type": "code",
   "execution_count": 22,
   "metadata": {
    "colab": {
     "base_uri": "https://localhost:8080/",
     "height": 69
    },
    "id": "oyAoWzP40j_0",
    "outputId": "a2583753-8e01-4faa-baf7-b0f54cfba99b"
   },
   "outputs": [
    {
     "name": "stdout",
     "output_type": "stream",
     "text": [
      "0.8947368421052632\n",
      "CPU times: user 5.13 ms, sys: 7 µs, total: 5.14 ms\n",
      "Wall time: 4.52 ms\n"
     ]
    }
   ],
   "source": [
    "%%time\n",
    "\n",
    "classifier = MultinomialNB()\n",
    "classifier.fit(X_train, y_train)\n",
    "prediction = classifier.predict(X_test)\n",
    "\n",
    "print (np.mean(prediction == y_test))"
   ]
  },
  {
   "cell_type": "markdown",
   "metadata": {
    "id": "xBhSWZbFvHeb"
   },
   "source": [
    "Посмотреть какие параметры можно тюнить можно здесь:\n",
    "\n",
    "\n",
    "*   https://scikit-learn.org/stable/modules/naive_bayes.html#naive-bayes\n",
    "*   https://scikit-learn.org/stable/modules/generated/sklearn.naive_bayes.MultinomialNB.html?highlight=multinomialnb#sklearn.naive_bayes.MultinomialNB\n",
    "\n"
   ]
  },
  {
   "cell_type": "markdown",
   "metadata": {
    "id": "GqQmi4k61jm_"
   },
   "source": [
    "## Ближайшие соседи\n"
   ]
  },
  {
   "cell_type": "markdown",
   "metadata": {
    "id": "Aubw1dhU1y8r"
   },
   "source": [
    "https://scikit-learn.org/stable/modules/generated/sklearn.neighbors.KNeighborsClassifier.html"
   ]
  },
  {
   "cell_type": "code",
   "execution_count": 39,
   "metadata": {
    "colab": {
     "base_uri": "https://localhost:8080/",
     "height": 52
    },
    "id": "v5nRKGGg1moV",
    "outputId": "52c94cdb-b9d5-4a1d-e97f-c650ccea7a71"
   },
   "outputs": [
    {
     "name": "stdout",
     "output_type": "stream",
     "text": [
      "CPU times: user 35.4 ms, sys: 2.29 ms, total: 37.7 ms\n",
      "Wall time: 38.2 ms\n"
     ]
    }
   ],
   "source": [
    "%%time\n",
    "from sklearn.neighbors import KNeighborsClassifier\n",
    "\n",
    "neigh = KNeighborsClassifier(n_neighbors=1)\n",
    "neigh.fit(X_train, y_train)\n",
    "\n",
    "prediction = neigh.predict(X_test)"
   ]
  },
  {
   "cell_type": "code",
   "execution_count": 40,
   "metadata": {
    "colab": {
     "base_uri": "https://localhost:8080/",
     "height": 35
    },
    "id": "nIMxnFzL2XHm",
    "outputId": "f529c004-1bc3-4ed7-97b7-921a257a63f6"
   },
   "outputs": [
    {
     "name": "stdout",
     "output_type": "stream",
     "text": [
      "0.9035087719298246\n"
     ]
    }
   ],
   "source": [
    "print (np.mean(prediction == y_test))"
   ]
  },
  {
   "cell_type": "code",
   "execution_count": 41,
   "metadata": {
    "colab": {
     "base_uri": "https://localhost:8080/",
     "height": 69
    },
    "id": "co3eLsG_2Z3u",
    "outputId": "4d90b7c8-b752-40ca-b9b5-62bbc2c36128"
   },
   "outputs": [
    {
     "name": "stdout",
     "output_type": "stream",
     "text": [
      "0.9035087719298246\n",
      "CPU times: user 13.4 ms, sys: 1.06 ms, total: 14.4 ms\n",
      "Wall time: 17.2 ms\n"
     ]
    }
   ],
   "source": [
    "%%time\n",
    "neigh = KNeighborsClassifier(n_neighbors=5)\n",
    "neigh.fit(X_train, y_train)\n",
    "\n",
    "prediction = neigh.predict(X_test)\n",
    "\n",
    "print (np.mean(prediction == y_test))"
   ]
  },
  {
   "cell_type": "code",
   "execution_count": 42,
   "metadata": {
    "colab": {
     "base_uri": "https://localhost:8080/",
     "height": 52
    },
    "id": "CfqUuLY22n1T",
    "outputId": "ec7753db-45dc-4c8a-9b01-f75fe728314f"
   },
   "outputs": [
    {
     "name": "stdout",
     "output_type": "stream",
     "text": [
      "CPU times: user 299 ms, sys: 0 ns, total: 299 ms\n",
      "Wall time: 298 ms\n"
     ]
    }
   ],
   "source": [
    "#Так и тянет сделать цикл\n",
    "%%time\n",
    "\n",
    "n_nb = range(1, 30)\n",
    "res = []\n",
    "\n",
    "for i in n_nb: \n",
    "  neigh = KNeighborsClassifier(n_neighbors=i)\n",
    "  neigh.fit(X_train, y_train)\n",
    "\n",
    "  prediction = neigh.predict(X_test)\n",
    "\n",
    "  res.append((np.mean(prediction == y_test)))"
   ]
  },
  {
   "cell_type": "code",
   "execution_count": 45,
   "metadata": {
    "colab": {
     "base_uri": "https://localhost:8080/",
     "height": 296
    },
    "id": "J5kpfKZ525wm",
    "outputId": "305abc04-3785-4ac4-c113-d7dc4c1d047e"
   },
   "outputs": [
    {
     "data": {
      "image/png": "[encoded data removed]",
      "text/plain": [
       "<Figure size 432x288 with 1 Axes>"
      ]
     },
     "metadata": {
      "needs_background": "light",
      "tags": []
     },
     "output_type": "display_data"
    }
   ],
   "source": [
    "plt.plot(n_nb, res)\n",
    "plt.xlabel(\"n_neighbors\")\n",
    "plt.ylabel(\"score\")\n",
    "plt.title(\"Score on KNeighborsClassifier\")\n",
    "plt.show()"
   ]
  },
  {
   "cell_type": "markdown",
   "metadata": {
    "id": "mQOzUopjs-wH"
   },
   "source": [
    "### Логистическая регрессия с помощью sklearn\n",
    "\n",
    "\n",
    "\n"
   ]
  },
  {
   "cell_type": "code",
   "execution_count": null,
   "metadata": {
    "id": "CWkZFyf3ohO1"
   },
   "outputs": [],
   "source": [
    "#Попробум применить логистическую регресиию:\n",
    "from sklearn.linear_model import LogisticRegression\n",
    "\n",
    "classifier = LogisticRegression(penalty =  'l2', max_iter = 5000)\n",
    "classifier.fit(X_train, y_train)\n",
    "prediction = classifier.predict(X_test)"
   ]
  },
  {
   "cell_type": "code",
   "execution_count": null,
   "metadata": {
    "colab": {
     "base_uri": "https://localhost:8080/",
     "height": 35
    },
    "id": "FeeyoO5JpeG5",
    "outputId": "900c6f29-c5e0-4fe5-a571-edf50b0cc83d"
   },
   "outputs": [
    {
     "data": {
      "text/plain": [
       "array([1, 0, 0, 1, 0, 0, 0, 1, 1, 0])"
      ]
     },
     "execution_count": 59,
     "metadata": {
      "tags": []
     },
     "output_type": "execute_result"
    }
   ],
   "source": [
    "prediction[:10]"
   ]
  },
  {
   "cell_type": "code",
   "execution_count": null,
   "metadata": {
    "colab": {
     "base_uri": "https://localhost:8080/",
     "height": 52
    },
    "id": "WUA7KO6IpvMS",
    "outputId": "9b513786-695c-4525-cf90-96acf8c66ad2"
   },
   "outputs": [
    {
     "name": "stdout",
     "output_type": "stream",
     "text": [
      "0.9298245614035088\n",
      "0.9298245614035088\n"
     ]
    }
   ],
   "source": [
    "import numpy as np\n",
    "\n",
    "print (np.mean(prediction == y_test))\n",
    "print (classifier.score(X_test, y_test)) "
   ]
  },
  {
   "cell_type": "code",
   "execution_count": null,
   "metadata": {
    "colab": {
     "base_uri": "https://localhost:8080/",
     "height": 52
    },
    "id": "r1Z9lcW3qKIs",
    "outputId": "affd064b-4e81-43f0-c61f-449d0cbc5081"
   },
   "outputs": [
    {
     "name": "stdout",
     "output_type": "stream",
     "text": [
      "[[ 76  11]\n",
      " [  5 136]]\n"
     ]
    }
   ],
   "source": [
    "from sklearn.metrics import confusion_matrix\n",
    "print (confusion_matrix(y_test, prediction))"
   ]
  },
  {
   "cell_type": "code",
   "execution_count": null,
   "metadata": {
    "colab": {
     "base_uri": "https://localhost:8080/",
     "height": 279
    },
    "id": "o5rGQfcGrKVV",
    "outputId": "2b656782-88da-4baf-8569-7fa048b9334e"
   },
   "outputs": [
    {
     "data": {
      "image/png": "[encoded data removed]",
      "text/plain": [
       "<Figure size 432x288 with 2 Axes>"
      ]
     },
     "metadata": {
      "needs_background": "light",
      "tags": []
     },
     "output_type": "display_data"
    }
   ],
   "source": [
    "import matplotlib.pyplot as plt\n",
    "from sklearn.metrics import plot_confusion_matrix\n",
    "\n",
    "plot_confusion_matrix(classifier, X_test, y_test) \n",
    "plt.show()"
   ]
  },
  {
   "cell_type": "code",
   "execution_count": null,
   "metadata": {
    "colab": {
     "base_uri": "https://localhost:8080/",
     "height": 173
    },
    "id": "Fxh52-LrqDm4",
    "outputId": "24dc1839-f1c9-442b-dd88-4f88c0cd42f5"
   },
   "outputs": [
    {
     "name": "stdout",
     "output_type": "stream",
     "text": [
      "              precision    recall  f1-score   support\n",
      "\n",
      "           0       0.94      0.87      0.90        87\n",
      "           1       0.93      0.96      0.94       141\n",
      "\n",
      "    accuracy                           0.93       228\n",
      "   macro avg       0.93      0.92      0.92       228\n",
      "weighted avg       0.93      0.93      0.93       228\n",
      "\n"
     ]
    }
   ],
   "source": [
    "from sklearn.metrics import classification_report\n",
    "print(classification_report(y_test, prediction))"
   ]
  },
  {
   "cell_type": "code",
   "execution_count": null,
   "metadata": {
    "colab": {
     "base_uri": "https://localhost:8080/",
     "height": 191
    },
    "id": "F7aGUUtdvbeD",
    "outputId": "9c7c3f9f-2cb6-43fa-e9d4-8d038b56556d"
   },
   "outputs": [
    {
     "data": {
      "text/plain": [
       "array([[ 9.93732326e-01,  2.00426605e-01, -3.13458278e-01,\n",
       "         3.69834731e-02, -1.19265880e-01, -2.18973616e-01,\n",
       "        -3.64293561e-01, -1.91877960e-01, -1.45834676e-01,\n",
       "        -3.24548135e-02, -1.07791852e-01,  5.88087717e-01,\n",
       "         1.48799013e-01, -4.43407454e-02, -9.82227523e-03,\n",
       "         6.82584277e-03, -2.04695999e-02, -2.08305475e-02,\n",
       "        -2.28785452e-02,  4.47316170e-04,  1.99967289e-01,\n",
       "        -4.14231171e-01, -1.47594631e-01, -2.47934763e-02,\n",
       "        -2.16308770e-01, -5.38226192e-01, -8.59948171e-01,\n",
       "        -3.70281985e-01, -3.53880620e-01, -7.34547065e-02]])"
      ]
     },
     "execution_count": 64,
     "metadata": {
      "tags": []
     },
     "output_type": "execute_result"
    }
   ],
   "source": [
    "classifier.coef_"
   ]
  },
  {
   "cell_type": "code",
   "execution_count": null,
   "metadata": {
    "colab": {
     "base_uri": "https://localhost:8080/",
     "height": 165
    },
    "id": "hEvHErvpv4ZI",
    "outputId": "cdb3ad8f-f208-4b55-c600-8e935aeb740e"
   },
   "outputs": [
    {
     "data": {
      "text/html": [
       "<div>\n",
       "<style scoped>\n",
       "    .dataframe tbody tr th:only-of-type {\n",
       "        vertical-align: middle;\n",
       "    }\n",
       "\n",
       "    .dataframe tbody tr th {\n",
       "        vertical-align: top;\n",
       "    }\n",
       "\n",
       "    .dataframe thead th {\n",
       "        text-align: right;\n",
       "    }\n",
       "</style>\n",
       "<table border=\"1\" class=\"dataframe\">\n",
       "  <thead>\n",
       "    <tr style=\"text-align: right;\">\n",
       "      <th></th>\n",
       "      <th>0</th>\n",
       "      <th>1</th>\n",
       "      <th>2</th>\n",
       "      <th>3</th>\n",
       "      <th>4</th>\n",
       "      <th>5</th>\n",
       "      <th>6</th>\n",
       "      <th>7</th>\n",
       "      <th>8</th>\n",
       "      <th>9</th>\n",
       "      <th>10</th>\n",
       "      <th>11</th>\n",
       "      <th>12</th>\n",
       "      <th>13</th>\n",
       "      <th>14</th>\n",
       "      <th>15</th>\n",
       "      <th>16</th>\n",
       "      <th>17</th>\n",
       "      <th>18</th>\n",
       "      <th>19</th>\n",
       "      <th>20</th>\n",
       "      <th>21</th>\n",
       "      <th>22</th>\n",
       "      <th>23</th>\n",
       "      <th>24</th>\n",
       "      <th>25</th>\n",
       "      <th>26</th>\n",
       "      <th>27</th>\n",
       "      <th>28</th>\n",
       "      <th>29</th>\n",
       "    </tr>\n",
       "  </thead>\n",
       "  <tbody>\n",
       "    <tr>\n",
       "      <th>0</th>\n",
       "      <td>mean radius</td>\n",
       "      <td>mean texture</td>\n",
       "      <td>mean perimeter</td>\n",
       "      <td>mean area</td>\n",
       "      <td>mean smoothness</td>\n",
       "      <td>mean compactness</td>\n",
       "      <td>mean concavity</td>\n",
       "      <td>mean concave points</td>\n",
       "      <td>mean symmetry</td>\n",
       "      <td>mean fractal dimension</td>\n",
       "      <td>radius error</td>\n",
       "      <td>texture error</td>\n",
       "      <td>perimeter error</td>\n",
       "      <td>area error</td>\n",
       "      <td>smoothness error</td>\n",
       "      <td>compactness error</td>\n",
       "      <td>concavity error</td>\n",
       "      <td>concave points error</td>\n",
       "      <td>symmetry error</td>\n",
       "      <td>fractal dimension error</td>\n",
       "      <td>worst radius</td>\n",
       "      <td>worst texture</td>\n",
       "      <td>worst perimeter</td>\n",
       "      <td>worst area</td>\n",
       "      <td>worst smoothness</td>\n",
       "      <td>worst compactness</td>\n",
       "      <td>worst concavity</td>\n",
       "      <td>worst concave points</td>\n",
       "      <td>worst symmetry</td>\n",
       "      <td>worst fractal dimension</td>\n",
       "    </tr>\n",
       "    <tr>\n",
       "      <th>1</th>\n",
       "      <td>0.993732</td>\n",
       "      <td>0.200427</td>\n",
       "      <td>-0.313458</td>\n",
       "      <td>0.0369835</td>\n",
       "      <td>-0.119266</td>\n",
       "      <td>-0.218974</td>\n",
       "      <td>-0.364294</td>\n",
       "      <td>-0.191878</td>\n",
       "      <td>-0.145835</td>\n",
       "      <td>-0.0324548</td>\n",
       "      <td>-0.107792</td>\n",
       "      <td>0.588088</td>\n",
       "      <td>0.148799</td>\n",
       "      <td>-0.0443407</td>\n",
       "      <td>-0.00982228</td>\n",
       "      <td>0.00682584</td>\n",
       "      <td>-0.0204696</td>\n",
       "      <td>-0.0208305</td>\n",
       "      <td>-0.0228785</td>\n",
       "      <td>0.000447316</td>\n",
       "      <td>0.199967</td>\n",
       "      <td>-0.414231</td>\n",
       "      <td>-0.147595</td>\n",
       "      <td>-0.0247935</td>\n",
       "      <td>-0.216309</td>\n",
       "      <td>-0.538226</td>\n",
       "      <td>-0.859948</td>\n",
       "      <td>-0.370282</td>\n",
       "      <td>-0.353881</td>\n",
       "      <td>-0.0734547</td>\n",
       "    </tr>\n",
       "  </tbody>\n",
       "</table>\n",
       "</div>"
      ],
      "text/plain": [
       "            0             1   ...              28                       29\n",
       "0  mean radius  mean texture  ...  worst symmetry  worst fractal dimension\n",
       "1     0.993732      0.200427  ...       -0.353881               -0.0734547\n",
       "\n",
       "[2 rows x 30 columns]"
      ]
     },
     "execution_count": 71,
     "metadata": {
      "tags": []
     },
     "output_type": "execute_result"
    }
   ],
   "source": [
    "pd.DataFrame(data = [X_train.columns, classifier.coef_[0]])"
   ]
  },
  {
   "cell_type": "code",
   "execution_count": null,
   "metadata": {
    "colab": {
     "base_uri": "https://localhost:8080/",
     "height": 35
    },
    "id": "yEBJ2tS-wRde",
    "outputId": "7af4e7e3-d9fe-4e3e-c64d-8d4098b410df"
   },
   "outputs": [
    {
     "data": {
      "text/plain": [
       "32.791184457589054"
      ]
     },
     "execution_count": 76,
     "metadata": {
      "tags": []
     },
     "output_type": "execute_result"
    }
   ],
   "source": [
    "classifier.intercept_[0]"
   ]
  },
  {
   "cell_type": "markdown",
   "metadata": {
    "id": "UTw_FhVs1bAr"
   },
   "source": [
    "### Логистическая регрессия с помощью StatsModels\n",
    "\n"
   ]
  },
  {
   "cell_type": "markdown",
   "metadata": {
    "id": "uoxjCAB-2FH5"
   },
   "source": [
    "https://www.statsmodels.org/stable/generated/statsmodels.discrete.discrete_model.Logit.html"
   ]
  },
  {
   "cell_type": "code",
   "execution_count": 24,
   "metadata": {
    "colab": {
     "base_uri": "https://localhost:8080/",
     "height": 52
    },
    "id": "8DQ2p1LU1fVc",
    "outputId": "297665a5-b2a9-4934-bf45-9e59e4bccc11"
   },
   "outputs": [
    {
     "name": "stderr",
     "output_type": "stream",
     "text": [
      "/usr/local/lib/python3.6/dist-packages/statsmodels/tools/_testing.py:19: FutureWarning: pandas.util.testing is deprecated. Use the functions in the public API at pandas.testing instead.\n",
      "  import pandas.util.testing as tm\n"
     ]
    }
   ],
   "source": [
    "import statsmodels.api as sm"
   ]
  },
  {
   "cell_type": "code",
   "execution_count": 32,
   "metadata": {
    "colab": {
     "base_uri": "https://localhost:8080/",
     "height": 281
    },
    "id": "0N_fo60Z1li6",
    "outputId": "a636fccd-1abf-423c-d2dd-27dcbbf075ea"
   },
   "outputs": [
    {
     "name": "stdout",
     "output_type": "stream",
     "text": [
      "Warning: Maximum number of iterations has been exceeded.\n",
      "         Current function value: 0.063159\n",
      "         Iterations: 35\n",
      "         Function evaluations: 50\n",
      "         Gradient evaluations: 41\n"
     ]
    },
    {
     "name": "stderr",
     "output_type": "stream",
     "text": [
      "/usr/local/lib/python3.6/dist-packages/statsmodels/discrete/discrete_model.py:1736: RuntimeWarning: overflow encountered in exp\n",
      "  return 1/(1+np.exp(-X))\n",
      "/usr/local/lib/python3.6/dist-packages/statsmodels/discrete/discrete_model.py:1789: RuntimeWarning: divide by zero encountered in log\n",
      "  return np.sum(np.log(self.cdf(q*np.dot(X,params))))\n",
      "/usr/local/lib/python3.6/dist-packages/statsmodels/discrete/discrete_model.py:1736: RuntimeWarning: overflow encountered in exp\n",
      "  return 1/(1+np.exp(-X))\n",
      "/usr/local/lib/python3.6/dist-packages/statsmodels/discrete/discrete_model.py:1789: RuntimeWarning: divide by zero encountered in log\n",
      "  return np.sum(np.log(self.cdf(q*np.dot(X,params))))\n",
      "/usr/local/lib/python3.6/dist-packages/statsmodels/base/model.py:512: ConvergenceWarning: Maximum Likelihood optimization failed to converge. Check mle_retvals\n",
      "  \"Check mle_retvals\", ConvergenceWarning)\n"
     ]
    }
   ],
   "source": [
    "model = sm.Logit(y_train, X_train)\n",
    "result = model.fit(method='bfgs')"
   ]
  },
  {
   "cell_type": "code",
   "execution_count": 33,
   "metadata": {
    "colab": {
     "base_uri": "https://localhost:8080/",
     "height": 520
    },
    "id": "rxaAp3cK2Bb8",
    "outputId": "0f7bcac7-a753-4d92-9672-ab9c36fdbb3c"
   },
   "outputs": [
    {
     "data": {
      "text/plain": [
       "mean radius                3.649339\n",
       "mean texture               0.273921\n",
       "mean perimeter            -0.429562\n",
       "mean area                  0.017200\n",
       "mean smoothness           -0.146689\n",
       "mean compactness          -0.644381\n",
       "mean concavity            -0.867740\n",
       "mean symmetry             -0.180355\n",
       "mean fractal dimension    -0.034259\n",
       "radius error              -0.065314\n",
       "texture error              1.490496\n",
       "perimeter error           -0.892121\n",
       "area error                -0.005050\n",
       "smoothness error          -0.006373\n",
       "compactness error         -0.094657\n",
       "concavity error           -0.120131\n",
       "concave points error      -0.042000\n",
       "symmetry error            -0.036270\n",
       "fractal dimension error   -0.009090\n",
       "worst radius               1.927877\n",
       "worst texture             -0.519849\n",
       "worst area                -0.052864\n",
       "worst smoothness          -0.260496\n",
       "worst compactness         -1.788845\n",
       "worst concavity           -2.275585\n",
       "worst concave points      -0.759247\n",
       "worst symmetry            -0.566553\n",
       "worst fractal dimension   -0.168322\n",
       "dtype: float64"
      ]
     },
     "execution_count": 33,
     "metadata": {
      "tags": []
     },
     "output_type": "execute_result"
    }
   ],
   "source": [
    "result.params"
   ]
  },
  {
   "cell_type": "code",
   "execution_count": 36,
   "metadata": {
    "colab": {
     "base_uri": "https://localhost:8080/",
     "height": 35
    },
    "id": "zF2V8PDx2VI0",
    "outputId": "8452734a-a4ef-4e97-ea4e-03edf4bf4964"
   },
   "outputs": [
    {
     "name": "stdout",
     "output_type": "stream",
     "text": [
      "0.9342105263157895\n"
     ]
    }
   ],
   "source": [
    "print (np.mean((result.predict(X_test) >= 0.5).astype(int).values == y_test))"
   ]
  },
  {
   "cell_type": "code",
   "execution_count": 37,
   "metadata": {
    "colab": {
     "base_uri": "https://localhost:8080/",
     "height": 869
    },
    "id": "W4dKLEuE2r5P",
    "outputId": "51ba5aa9-0a6a-42eb-9b02-68f9adabf38c"
   },
   "outputs": [
    {
     "data": {
      "text/html": [
       "<table class=\"simpletable\">\n",
       "<caption>Logit Regression Results</caption>\n",
       "<tr>\n",
       "  <th>Dep. Variable:</th>        <td>target</td>      <th>  No. Observations:  </th>  <td>   341</td>  \n",
       "</tr>\n",
       "<tr>\n",
       "  <th>Model:</th>                 <td>Logit</td>      <th>  Df Residuals:      </th>  <td>   313</td>  \n",
       "</tr>\n",
       "<tr>\n",
       "  <th>Method:</th>                 <td>MLE</td>       <th>  Df Model:          </th>  <td>    27</td>  \n",
       "</tr>\n",
       "<tr>\n",
       "  <th>Date:</th>            <td>Tue, 06 Oct 2020</td> <th>  Pseudo R-squ.:     </th>  <td>0.9039</td>  \n",
       "</tr>\n",
       "<tr>\n",
       "  <th>Time:</th>                <td>21:39:31</td>     <th>  Log-Likelihood:    </th> <td> -21.537</td> \n",
       "</tr>\n",
       "<tr>\n",
       "  <th>converged:</th>             <td>False</td>      <th>  LL-Null:           </th> <td> -224.07</td> \n",
       "</tr>\n",
       "<tr>\n",
       "  <th>Covariance Type:</th>     <td>nonrobust</td>    <th>  LLR p-value:       </th> <td>4.631e-69</td>\n",
       "</tr>\n",
       "</table>\n",
       "<table class=\"simpletable\">\n",
       "<tr>\n",
       "             <td></td>                <th>coef</th>     <th>std err</th>      <th>z</th>      <th>P>|z|</th>  <th>[0.025</th>    <th>0.975]</th>  \n",
       "</tr>\n",
       "<tr>\n",
       "  <th>mean radius</th>             <td>    3.6493</td> <td>   13.606</td> <td>    0.268</td> <td> 0.789</td> <td>  -23.017</td> <td>   30.316</td>\n",
       "</tr>\n",
       "<tr>\n",
       "  <th>mean texture</th>            <td>    0.2739</td> <td>    0.301</td> <td>    0.911</td> <td> 0.362</td> <td>   -0.316</td> <td>    0.863</td>\n",
       "</tr>\n",
       "<tr>\n",
       "  <th>mean perimeter</th>          <td>   -0.4296</td> <td>    1.761</td> <td>   -0.244</td> <td> 0.807</td> <td>   -3.881</td> <td>    3.022</td>\n",
       "</tr>\n",
       "<tr>\n",
       "  <th>mean area</th>               <td>    0.0172</td> <td>    0.045</td> <td>    0.384</td> <td> 0.701</td> <td>   -0.071</td> <td>    0.105</td>\n",
       "</tr>\n",
       "<tr>\n",
       "  <th>mean smoothness</th>         <td>   -0.1467</td> <td>  117.472</td> <td>   -0.001</td> <td> 0.999</td> <td> -230.388</td> <td>  230.094</td>\n",
       "</tr>\n",
       "<tr>\n",
       "  <th>mean compactness</th>        <td>   -0.6444</td> <td>   73.696</td> <td>   -0.009</td> <td> 0.993</td> <td> -145.087</td> <td>  143.798</td>\n",
       "</tr>\n",
       "<tr>\n",
       "  <th>mean concavity</th>          <td>   -0.8677</td> <td>   44.744</td> <td>   -0.019</td> <td> 0.985</td> <td>  -88.565</td> <td>   86.829</td>\n",
       "</tr>\n",
       "<tr>\n",
       "  <th>mean symmetry</th>           <td>   -0.1804</td> <td>   38.209</td> <td>   -0.005</td> <td> 0.996</td> <td>  -75.068</td> <td>   74.707</td>\n",
       "</tr>\n",
       "<tr>\n",
       "  <th>mean fractal dimension</th>  <td>   -0.0343</td> <td>  255.117</td> <td>   -0.000</td> <td> 1.000</td> <td> -500.055</td> <td>  499.986</td>\n",
       "</tr>\n",
       "<tr>\n",
       "  <th>radius error</th>            <td>   -0.0653</td> <td>   34.750</td> <td>   -0.002</td> <td> 0.999</td> <td>  -68.175</td> <td>   68.044</td>\n",
       "</tr>\n",
       "<tr>\n",
       "  <th>texture error</th>           <td>    1.4905</td> <td>    2.435</td> <td>    0.612</td> <td> 0.540</td> <td>   -3.281</td> <td>    6.262</td>\n",
       "</tr>\n",
       "<tr>\n",
       "  <th>perimeter error</th>         <td>   -0.8921</td> <td>    1.613</td> <td>   -0.553</td> <td> 0.580</td> <td>   -4.053</td> <td>    2.268</td>\n",
       "</tr>\n",
       "<tr>\n",
       "  <th>area error</th>              <td>   -0.0051</td> <td>    0.382</td> <td>   -0.013</td> <td> 0.989</td> <td>   -0.754</td> <td>    0.744</td>\n",
       "</tr>\n",
       "<tr>\n",
       "  <th>smoothness error</th>        <td>   -0.0064</td> <td>  561.508</td> <td>-1.13e-05</td> <td> 1.000</td> <td>-1100.542</td> <td> 1100.529</td>\n",
       "</tr>\n",
       "<tr>\n",
       "  <th>compactness error</th>       <td>   -0.0947</td> <td>  161.885</td> <td>   -0.001</td> <td> 1.000</td> <td> -317.384</td> <td>  317.195</td>\n",
       "</tr>\n",
       "<tr>\n",
       "  <th>concavity error</th>         <td>   -0.1201</td> <td>   66.655</td> <td>   -0.002</td> <td> 0.999</td> <td> -130.761</td> <td>  130.521</td>\n",
       "</tr>\n",
       "<tr>\n",
       "  <th>concave points error</th>    <td>   -0.0420</td> <td>  375.035</td> <td>   -0.000</td> <td> 1.000</td> <td> -735.097</td> <td>  735.013</td>\n",
       "</tr>\n",
       "<tr>\n",
       "  <th>symmetry error</th>          <td>   -0.0363</td> <td>  179.606</td> <td>   -0.000</td> <td> 1.000</td> <td> -352.057</td> <td>  351.984</td>\n",
       "</tr>\n",
       "<tr>\n",
       "  <th>fractal dimension error</th> <td>   -0.0091</td> <td>  649.196</td> <td> -1.4e-05</td> <td> 1.000</td> <td>-1272.410</td> <td> 1272.392</td>\n",
       "</tr>\n",
       "<tr>\n",
       "  <th>worst radius</th>            <td>    1.9279</td> <td>    3.596</td> <td>    0.536</td> <td> 0.592</td> <td>   -5.119</td> <td>    8.975</td>\n",
       "</tr>\n",
       "<tr>\n",
       "  <th>worst texture</th>           <td>   -0.5198</td> <td>    0.303</td> <td>   -1.716</td> <td> 0.086</td> <td>   -1.114</td> <td>    0.074</td>\n",
       "</tr>\n",
       "<tr>\n",
       "  <th>worst area</th>              <td>   -0.0529</td> <td>    0.039</td> <td>   -1.370</td> <td> 0.171</td> <td>   -0.129</td> <td>    0.023</td>\n",
       "</tr>\n",
       "<tr>\n",
       "  <th>worst smoothness</th>        <td>   -0.2605</td> <td>   82.917</td> <td>   -0.003</td> <td> 0.997</td> <td> -162.774</td> <td>  162.253</td>\n",
       "</tr>\n",
       "<tr>\n",
       "  <th>worst compactness</th>       <td>   -1.7888</td> <td>   27.184</td> <td>   -0.066</td> <td> 0.948</td> <td>  -55.069</td> <td>   51.492</td>\n",
       "</tr>\n",
       "<tr>\n",
       "  <th>worst concavity</th>         <td>   -2.2756</td> <td>   14.571</td> <td>   -0.156</td> <td> 0.876</td> <td>  -30.835</td> <td>   26.283</td>\n",
       "</tr>\n",
       "<tr>\n",
       "  <th>worst concave points</th>    <td>   -0.7592</td> <td>   36.849</td> <td>   -0.021</td> <td> 0.984</td> <td>  -72.982</td> <td>   71.464</td>\n",
       "</tr>\n",
       "<tr>\n",
       "  <th>worst symmetry</th>          <td>   -0.5666</td> <td>   31.067</td> <td>   -0.018</td> <td> 0.985</td> <td>  -61.457</td> <td>   60.324</td>\n",
       "</tr>\n",
       "<tr>\n",
       "  <th>worst fractal dimension</th> <td>   -0.1683</td> <td>  123.453</td> <td>   -0.001</td> <td> 0.999</td> <td> -242.132</td> <td>  241.796</td>\n",
       "</tr>\n",
       "</table><br/><br/>Possibly complete quasi-separation: A fraction 0.35 of observations can be<br/>perfectly predicted. This might indicate that there is complete<br/>quasi-separation. In this case some parameters will not be identified."
      ],
      "text/plain": [
       "<class 'statsmodels.iolib.summary.Summary'>\n",
       "\"\"\"\n",
       "                           Logit Regression Results                           \n",
       "==============================================================================\n",
       "Dep. Variable:                 target   No. Observations:                  341\n",
       "Model:                          Logit   Df Residuals:                      313\n",
       "Method:                           MLE   Df Model:                           27\n",
       "Date:                Tue, 06 Oct 2020   Pseudo R-squ.:                  0.9039\n",
       "Time:                        21:39:31   Log-Likelihood:                -21.537\n",
       "converged:                      False   LL-Null:                       -224.07\n",
       "Covariance Type:            nonrobust   LLR p-value:                 4.631e-69\n",
       "===========================================================================================\n",
       "                              coef    std err          z      P>|z|      [0.025      0.975]\n",
       "-------------------------------------------------------------------------------------------\n",
       "mean radius                 3.6493     13.606      0.268      0.789     -23.017      30.316\n",
       "mean texture                0.2739      0.301      0.911      0.362      -0.316       0.863\n",
       "mean perimeter             -0.4296      1.761     -0.244      0.807      -3.881       3.022\n",
       "mean area                   0.0172      0.045      0.384      0.701      -0.071       0.105\n",
       "mean smoothness            -0.1467    117.472     -0.001      0.999    -230.388     230.094\n",
       "mean compactness           -0.6444     73.696     -0.009      0.993    -145.087     143.798\n",
       "mean concavity             -0.8677     44.744     -0.019      0.985     -88.565      86.829\n",
       "mean symmetry              -0.1804     38.209     -0.005      0.996     -75.068      74.707\n",
       "mean fractal dimension     -0.0343    255.117     -0.000      1.000    -500.055     499.986\n",
       "radius error               -0.0653     34.750     -0.002      0.999     -68.175      68.044\n",
       "texture error               1.4905      2.435      0.612      0.540      -3.281       6.262\n",
       "perimeter error            -0.8921      1.613     -0.553      0.580      -4.053       2.268\n",
       "area error                 -0.0051      0.382     -0.013      0.989      -0.754       0.744\n",
       "smoothness error           -0.0064    561.508  -1.13e-05      1.000   -1100.542    1100.529\n",
       "compactness error          -0.0947    161.885     -0.001      1.000    -317.384     317.195\n",
       "concavity error            -0.1201     66.655     -0.002      0.999    -130.761     130.521\n",
       "concave points error       -0.0420    375.035     -0.000      1.000    -735.097     735.013\n",
       "symmetry error             -0.0363    179.606     -0.000      1.000    -352.057     351.984\n",
       "fractal dimension error    -0.0091    649.196   -1.4e-05      1.000   -1272.410    1272.392\n",
       "worst radius                1.9279      3.596      0.536      0.592      -5.119       8.975\n",
       "worst texture              -0.5198      0.303     -1.716      0.086      -1.114       0.074\n",
       "worst area                 -0.0529      0.039     -1.370      0.171      -0.129       0.023\n",
       "worst smoothness           -0.2605     82.917     -0.003      0.997    -162.774     162.253\n",
       "worst compactness          -1.7888     27.184     -0.066      0.948     -55.069      51.492\n",
       "worst concavity            -2.2756     14.571     -0.156      0.876     -30.835      26.283\n",
       "worst concave points       -0.7592     36.849     -0.021      0.984     -72.982      71.464\n",
       "worst symmetry             -0.5666     31.067     -0.018      0.985     -61.457      60.324\n",
       "worst fractal dimension    -0.1683    123.453     -0.001      0.999    -242.132     241.796\n",
       "===========================================================================================\n",
       "\n",
       "Possibly complete quasi-separation: A fraction 0.35 of observations can be\n",
       "perfectly predicted. This might indicate that there is complete\n",
       "quasi-separation. In this case some parameters will not be identified.\n",
       "\"\"\""
      ]
     },
     "execution_count": 37,
     "metadata": {
      "tags": []
     },
     "output_type": "execute_result"
    }
   ],
   "source": [
    "result.summary()"
   ]
  },
  {
   "cell_type": "markdown",
   "metadata": {
    "id": "p9REUlRi3pKq"
   },
   "source": [
    "***Задание: попробуйте получить скор на тесте > 0.95 любым из предложенных методов***"
   ]
  },
  {
   "cell_type": "markdown",
   "metadata": {
    "id": "8xmJ1Wwt3lK5"
   },
   "source": [
    "# Работа с регрессией"
   ]
  },
  {
   "cell_type": "code",
   "execution_count": 110,
   "metadata": {
    "id": "4BvROABE68Yj"
   },
   "outputs": [],
   "source": [
    "from sklearn.datasets import load_boston"
   ]
  },
  {
   "cell_type": "code",
   "execution_count": 111,
   "metadata": {
    "id": "bCF4tzyn8LSZ"
   },
   "outputs": [],
   "source": [
    "data = load_boston()\n",
    "X, y = data['data'], data['target']"
   ]
  },
  {
   "cell_type": "code",
   "execution_count": 112,
   "metadata": {
    "colab": {
     "base_uri": "https://localhost:8080/",
     "height": 1000
    },
    "id": "_DSdZL1f8F7o",
    "outputId": "3879ec48-f53e-4e16-ddf7-78958cf26a4b"
   },
   "outputs": [
    {
     "data": {
      "text/plain": [
       "{'DESCR': \".. _boston_dataset:\\n\\nBoston house prices dataset\\n---------------------------\\n\\n**Data Set Characteristics:**  \\n\\n    :Number of Instances: 506 \\n\\n    :Number of Attributes: 13 numeric/categorical predictive. Median Value (attribute 14) is usually the target.\\n\\n    :Attribute Information (in order):\\n        - CRIM     per capita crime rate by town\\n        - ZN       proportion of residential land zoned for lots over 25,000 sq.ft.\\n        - INDUS    proportion of non-retail business acres per town\\n        - CHAS     Charles River dummy variable (= 1 if tract bounds river; 0 otherwise)\\n        - NOX      nitric oxides concentration (parts per 10 million)\\n        - RM       average number of rooms per dwelling\\n        - AGE      proportion of owner-occupied units built prior to 1940\\n        - DIS      weighted distances to five Boston employment centres\\n        - RAD      index of accessibility to radial highways\\n        - TAX      full-value property-tax rate per $10,000\\n        - PTRATIO  pupil-teacher ratio by town\\n        - B        1000(Bk - 0.63)^2 where Bk is the proportion of blacks by town\\n        - LSTAT    % lower status of the population\\n        - MEDV     Median value of owner-occupied homes in $1000's\\n\\n    :Missing Attribute Values: None\\n\\n    :Creator: Harrison, D. and Rubinfeld, D.L.\\n\\nThis is a copy of UCI ML housing dataset.\\nhttps://archive.ics.uci.edu/ml/machine-learning-databases/housing/\\n\\n\\nThis dataset was taken from the StatLib library which is maintained at Carnegie Mellon University.\\n\\nThe Boston house-price data of Harrison, D. and Rubinfeld, D.L. 'Hedonic\\nprices and the demand for clean air', J. Environ. Economics & Management,\\nvol.5, 81-102, 1978.   Used in Belsley, Kuh & Welsch, 'Regression diagnostics\\n...', Wiley, 1980.   N.B. Various transformations are used in the table on\\npages 244-261 of the latter.\\n\\nThe Boston house-price data has been used in many machine learning papers that address regression\\nproblems.   \\n     \\n.. topic:: References\\n\\n   - Belsley, Kuh & Welsch, 'Regression diagnostics: Identifying Influential Data and Sources of Collinearity', Wiley, 1980. 244-261.\\n   - Quinlan,R. (1993). Combining Instance-Based and Model-Based Learning. In Proceedings on the Tenth International Conference of Machine Learning, 236-243, University of Massachusetts, Amherst. Morgan Kaufmann.\\n\",\n",
       " 'data': array([[6.3200e-03, 1.8000e+01, 2.3100e+00, ..., 1.5300e+01, 3.9690e+02,\n",
       "         4.9800e+00],\n",
       "        [2.7310e-02, 0.0000e+00, 7.0700e+00, ..., 1.7800e+01, 3.9690e+02,\n",
       "         9.1400e+00],\n",
       "        [2.7290e-02, 0.0000e+00, 7.0700e+00, ..., 1.7800e+01, 3.9283e+02,\n",
       "         4.0300e+00],\n",
       "        ...,\n",
       "        [6.0760e-02, 0.0000e+00, 1.1930e+01, ..., 2.1000e+01, 3.9690e+02,\n",
       "         5.6400e+00],\n",
       "        [1.0959e-01, 0.0000e+00, 1.1930e+01, ..., 2.1000e+01, 3.9345e+02,\n",
       "         6.4800e+00],\n",
       "        [4.7410e-02, 0.0000e+00, 1.1930e+01, ..., 2.1000e+01, 3.9690e+02,\n",
       "         7.8800e+00]]),\n",
       " 'feature_names': array(['CRIM', 'ZN', 'INDUS', 'CHAS', 'NOX', 'RM', 'AGE', 'DIS', 'RAD',\n",
       "        'TAX', 'PTRATIO', 'B', 'LSTAT'], dtype='<U7'),\n",
       " 'filename': '/usr/local/lib/python3.6/dist-packages/sklearn/datasets/data/boston_house_prices.csv',\n",
       " 'target': array([24. , 21.6, 34.7, 33.4, 36.2, 28.7, 22.9, 27.1, 16.5, 18.9, 15. ,\n",
       "        18.9, 21.7, 20.4, 18.2, 19.9, 23.1, 17.5, 20.2, 18.2, 13.6, 19.6,\n",
       "        15.2, 14.5, 15.6, 13.9, 16.6, 14.8, 18.4, 21. , 12.7, 14.5, 13.2,\n",
       "        13.1, 13.5, 18.9, 20. , 21. , 24.7, 30.8, 34.9, 26.6, 25.3, 24.7,\n",
       "        21.2, 19.3, 20. , 16.6, 14.4, 19.4, 19.7, 20.5, 25. , 23.4, 18.9,\n",
       "        35.4, 24.7, 31.6, 23.3, 19.6, 18.7, 16. , 22.2, 25. , 33. , 23.5,\n",
       "        19.4, 22. , 17.4, 20.9, 24.2, 21.7, 22.8, 23.4, 24.1, 21.4, 20. ,\n",
       "        20.8, 21.2, 20.3, 28. , 23.9, 24.8, 22.9, 23.9, 26.6, 22.5, 22.2,\n",
       "        23.6, 28.7, 22.6, 22. , 22.9, 25. , 20.6, 28.4, 21.4, 38.7, 43.8,\n",
       "        33.2, 27.5, 26.5, 18.6, 19.3, 20.1, 19.5, 19.5, 20.4, 19.8, 19.4,\n",
       "        21.7, 22.8, 18.8, 18.7, 18.5, 18.3, 21.2, 19.2, 20.4, 19.3, 22. ,\n",
       "        20.3, 20.5, 17.3, 18.8, 21.4, 15.7, 16.2, 18. , 14.3, 19.2, 19.6,\n",
       "        23. , 18.4, 15.6, 18.1, 17.4, 17.1, 13.3, 17.8, 14. , 14.4, 13.4,\n",
       "        15.6, 11.8, 13.8, 15.6, 14.6, 17.8, 15.4, 21.5, 19.6, 15.3, 19.4,\n",
       "        17. , 15.6, 13.1, 41.3, 24.3, 23.3, 27. , 50. , 50. , 50. , 22.7,\n",
       "        25. , 50. , 23.8, 23.8, 22.3, 17.4, 19.1, 23.1, 23.6, 22.6, 29.4,\n",
       "        23.2, 24.6, 29.9, 37.2, 39.8, 36.2, 37.9, 32.5, 26.4, 29.6, 50. ,\n",
       "        32. , 29.8, 34.9, 37. , 30.5, 36.4, 31.1, 29.1, 50. , 33.3, 30.3,\n",
       "        34.6, 34.9, 32.9, 24.1, 42.3, 48.5, 50. , 22.6, 24.4, 22.5, 24.4,\n",
       "        20. , 21.7, 19.3, 22.4, 28.1, 23.7, 25. , 23.3, 28.7, 21.5, 23. ,\n",
       "        26.7, 21.7, 27.5, 30.1, 44.8, 50. , 37.6, 31.6, 46.7, 31.5, 24.3,\n",
       "        31.7, 41.7, 48.3, 29. , 24. , 25.1, 31.5, 23.7, 23.3, 22. , 20.1,\n",
       "        22.2, 23.7, 17.6, 18.5, 24.3, 20.5, 24.5, 26.2, 24.4, 24.8, 29.6,\n",
       "        42.8, 21.9, 20.9, 44. , 50. , 36. , 30.1, 33.8, 43.1, 48.8, 31. ,\n",
       "        36.5, 22.8, 30.7, 50. , 43.5, 20.7, 21.1, 25.2, 24.4, 35.2, 32.4,\n",
       "        32. , 33.2, 33.1, 29.1, 35.1, 45.4, 35.4, 46. , 50. , 32.2, 22. ,\n",
       "        20.1, 23.2, 22.3, 24.8, 28.5, 37.3, 27.9, 23.9, 21.7, 28.6, 27.1,\n",
       "        20.3, 22.5, 29. , 24.8, 22. , 26.4, 33.1, 36.1, 28.4, 33.4, 28.2,\n",
       "        22.8, 20.3, 16.1, 22.1, 19.4, 21.6, 23.8, 16.2, 17.8, 19.8, 23.1,\n",
       "        21. , 23.8, 23.1, 20.4, 18.5, 25. , 24.6, 23. , 22.2, 19.3, 22.6,\n",
       "        19.8, 17.1, 19.4, 22.2, 20.7, 21.1, 19.5, 18.5, 20.6, 19. , 18.7,\n",
       "        32.7, 16.5, 23.9, 31.2, 17.5, 17.2, 23.1, 24.5, 26.6, 22.9, 24.1,\n",
       "        18.6, 30.1, 18.2, 20.6, 17.8, 21.7, 22.7, 22.6, 25. , 19.9, 20.8,\n",
       "        16.8, 21.9, 27.5, 21.9, 23.1, 50. , 50. , 50. , 50. , 50. , 13.8,\n",
       "        13.8, 15. , 13.9, 13.3, 13.1, 10.2, 10.4, 10.9, 11.3, 12.3,  8.8,\n",
       "         7.2, 10.5,  7.4, 10.2, 11.5, 15.1, 23.2,  9.7, 13.8, 12.7, 13.1,\n",
       "        12.5,  8.5,  5. ,  6.3,  5.6,  7.2, 12.1,  8.3,  8.5,  5. , 11.9,\n",
       "        27.9, 17.2, 27.5, 15. , 17.2, 17.9, 16.3,  7. ,  7.2,  7.5, 10.4,\n",
       "         8.8,  8.4, 16.7, 14.2, 20.8, 13.4, 11.7,  8.3, 10.2, 10.9, 11. ,\n",
       "         9.5, 14.5, 14.1, 16.1, 14.3, 11.7, 13.4,  9.6,  8.7,  8.4, 12.8,\n",
       "        10.5, 17.1, 18.4, 15.4, 10.8, 11.8, 14.9, 12.6, 14.1, 13. , 13.4,\n",
       "        15.2, 16.1, 17.8, 14.9, 14.1, 12.7, 13.5, 14.9, 20. , 16.4, 17.7,\n",
       "        19.5, 20.2, 21.4, 19.9, 19. , 19.1, 19.1, 20.1, 19.9, 19.6, 23.2,\n",
       "        29.8, 13.8, 13.3, 16.7, 12. , 14.6, 21.4, 23. , 23.7, 25. , 21.8,\n",
       "        20.6, 21.2, 19.1, 20.6, 15.2,  7. ,  8.1, 13.6, 20.1, 21.8, 24.5,\n",
       "        23.1, 19.7, 18.3, 21.2, 17.5, 16.8, 22.4, 20.6, 23.9, 22. , 11.9])}"
      ]
     },
     "execution_count": 112,
     "metadata": {
      "tags": []
     },
     "output_type": "execute_result"
    }
   ],
   "source": [
    "data"
   ]
  },
  {
   "cell_type": "code",
   "execution_count": 113,
   "metadata": {
    "colab": {
     "base_uri": "https://localhost:8080/",
     "height": 901
    },
    "id": "0FDjAx0a8eWs",
    "outputId": "aae17e3a-0bbc-494e-f7e4-403dbed3047c"
   },
   "outputs": [
    {
     "name": "stdout",
     "output_type": "stream",
     "text": [
      ".. _boston_dataset:\n",
      "\n",
      "Boston house prices dataset\n",
      "---------------------------\n",
      "\n",
      "**Data Set Characteristics:**  \n",
      "\n",
      "    :Number of Instances: 506 \n",
      "\n",
      "    :Number of Attributes: 13 numeric/categorical predictive. Median Value (attribute 14) is usually the target.\n",
      "\n",
      "    :Attribute Information (in order):\n",
      "        - CRIM     per capita crime rate by town\n",
      "        - ZN       proportion of residential land zoned for lots over 25,000 sq.ft.\n",
      "        - INDUS    proportion of non-retail business acres per town\n",
      "        - CHAS     Charles River dummy variable (= 1 if tract bounds river; 0 otherwise)\n",
      "        - NOX      nitric oxides concentration (parts per 10 million)\n",
      "        - RM       average number of rooms per dwelling\n",
      "        - AGE      proportion of owner-occupied units built prior to 1940\n",
      "        - DIS      weighted distances to five Boston employment centres\n",
      "        - RAD      index of accessibility to radial highways\n",
      "        - TAX      full-value property-tax rate per $10,000\n",
      "        - PTRATIO  pupil-teacher ratio by town\n",
      "        - B        1000(Bk - 0.63)^2 where Bk is the proportion of blacks by town\n",
      "        - LSTAT    % lower status of the population\n",
      "        - MEDV     Median value of owner-occupied homes in $1000's\n",
      "\n",
      "    :Missing Attribute Values: None\n",
      "\n",
      "    :Creator: Harrison, D. and Rubinfeld, D.L.\n",
      "\n",
      "This is a copy of UCI ML housing dataset.\n",
      "https://archive.ics.uci.edu/ml/machine-learning-databases/housing/\n",
      "\n",
      "\n",
      "This dataset was taken from the StatLib library which is maintained at Carnegie Mellon University.\n",
      "\n",
      "The Boston house-price data of Harrison, D. and Rubinfeld, D.L. 'Hedonic\n",
      "prices and the demand for clean air', J. Environ. Economics & Management,\n",
      "vol.5, 81-102, 1978.   Used in Belsley, Kuh & Welsch, 'Regression diagnostics\n",
      "...', Wiley, 1980.   N.B. Various transformations are used in the table on\n",
      "pages 244-261 of the latter.\n",
      "\n",
      "The Boston house-price data has been used in many machine learning papers that address regression\n",
      "problems.   \n",
      "     \n",
      ".. topic:: References\n",
      "\n",
      "   - Belsley, Kuh & Welsch, 'Regression diagnostics: Identifying Influential Data and Sources of Collinearity', Wiley, 1980. 244-261.\n",
      "   - Quinlan,R. (1993). Combining Instance-Based and Model-Based Learning. In Proceedings on the Tenth International Conference of Machine Learning, 236-243, University of Massachusetts, Amherst. Morgan Kaufmann.\n",
      "\n"
     ]
    }
   ],
   "source": [
    "print(data['DESCR'])"
   ]
  },
  {
   "cell_type": "code",
   "execution_count": 114,
   "metadata": {
    "colab": {
     "base_uri": "https://localhost:8080/",
     "height": 52
    },
    "id": "ffBbMnsM85G-",
    "outputId": "e9fa2ae7-e7ac-428a-fd7e-ac2ca566d378"
   },
   "outputs": [
    {
     "data": {
      "text/plain": [
       "array(['CRIM', 'ZN', 'INDUS', 'CHAS', 'NOX', 'RM', 'AGE', 'DIS', 'RAD',\n",
       "       'TAX', 'PTRATIO', 'B', 'LSTAT'], dtype='<U7')"
      ]
     },
     "execution_count": 114,
     "metadata": {
      "tags": []
     },
     "output_type": "execute_result"
    }
   ],
   "source": [
    "data.feature_names"
   ]
  },
  {
   "cell_type": "code",
   "execution_count": 115,
   "metadata": {
    "id": "UZmr5AC68kSf"
   },
   "outputs": [],
   "source": [
    "X_df = pd.DataFrame(data = X, columns=data.feature_names)\n",
    "y_df = pd.Series(y)"
   ]
  },
  {
   "cell_type": "code",
   "execution_count": 116,
   "metadata": {
    "colab": {
     "base_uri": "https://localhost:8080/",
     "height": 202
    },
    "id": "j1k0d1Q_9Mhy",
    "outputId": "d8555ffb-6eea-494c-fdaf-c94964be3d4e"
   },
   "outputs": [
    {
     "data": {
      "text/html": [
       "<div>\n",
       "<style scoped>\n",
       "    .dataframe tbody tr th:only-of-type {\n",
       "        vertical-align: middle;\n",
       "    }\n",
       "\n",
       "    .dataframe tbody tr th {\n",
       "        vertical-align: top;\n",
       "    }\n",
       "\n",
       "    .dataframe thead th {\n",
       "        text-align: right;\n",
       "    }\n",
       "</style>\n",
       "<table border=\"1\" class=\"dataframe\">\n",
       "  <thead>\n",
       "    <tr style=\"text-align: right;\">\n",
       "      <th></th>\n",
       "      <th>CRIM</th>\n",
       "      <th>ZN</th>\n",
       "      <th>INDUS</th>\n",
       "      <th>CHAS</th>\n",
       "      <th>NOX</th>\n",
       "      <th>RM</th>\n",
       "      <th>AGE</th>\n",
       "      <th>DIS</th>\n",
       "      <th>RAD</th>\n",
       "      <th>TAX</th>\n",
       "      <th>PTRATIO</th>\n",
       "      <th>B</th>\n",
       "      <th>LSTAT</th>\n",
       "    </tr>\n",
       "  </thead>\n",
       "  <tbody>\n",
       "    <tr>\n",
       "      <th>0</th>\n",
       "      <td>0.00632</td>\n",
       "      <td>18.0</td>\n",
       "      <td>2.31</td>\n",
       "      <td>0.0</td>\n",
       "      <td>0.538</td>\n",
       "      <td>6.575</td>\n",
       "      <td>65.2</td>\n",
       "      <td>4.0900</td>\n",
       "      <td>1.0</td>\n",
       "      <td>296.0</td>\n",
       "      <td>15.3</td>\n",
       "      <td>396.90</td>\n",
       "      <td>4.98</td>\n",
       "    </tr>\n",
       "    <tr>\n",
       "      <th>1</th>\n",
       "      <td>0.02731</td>\n",
       "      <td>0.0</td>\n",
       "      <td>7.07</td>\n",
       "      <td>0.0</td>\n",
       "      <td>0.469</td>\n",
       "      <td>6.421</td>\n",
       "      <td>78.9</td>\n",
       "      <td>4.9671</td>\n",
       "      <td>2.0</td>\n",
       "      <td>242.0</td>\n",
       "      <td>17.8</td>\n",
       "      <td>396.90</td>\n",
       "      <td>9.14</td>\n",
       "    </tr>\n",
       "    <tr>\n",
       "      <th>2</th>\n",
       "      <td>0.02729</td>\n",
       "      <td>0.0</td>\n",
       "      <td>7.07</td>\n",
       "      <td>0.0</td>\n",
       "      <td>0.469</td>\n",
       "      <td>7.185</td>\n",
       "      <td>61.1</td>\n",
       "      <td>4.9671</td>\n",
       "      <td>2.0</td>\n",
       "      <td>242.0</td>\n",
       "      <td>17.8</td>\n",
       "      <td>392.83</td>\n",
       "      <td>4.03</td>\n",
       "    </tr>\n",
       "    <tr>\n",
       "      <th>3</th>\n",
       "      <td>0.03237</td>\n",
       "      <td>0.0</td>\n",
       "      <td>2.18</td>\n",
       "      <td>0.0</td>\n",
       "      <td>0.458</td>\n",
       "      <td>6.998</td>\n",
       "      <td>45.8</td>\n",
       "      <td>6.0622</td>\n",
       "      <td>3.0</td>\n",
       "      <td>222.0</td>\n",
       "      <td>18.7</td>\n",
       "      <td>394.63</td>\n",
       "      <td>2.94</td>\n",
       "    </tr>\n",
       "    <tr>\n",
       "      <th>4</th>\n",
       "      <td>0.06905</td>\n",
       "      <td>0.0</td>\n",
       "      <td>2.18</td>\n",
       "      <td>0.0</td>\n",
       "      <td>0.458</td>\n",
       "      <td>7.147</td>\n",
       "      <td>54.2</td>\n",
       "      <td>6.0622</td>\n",
       "      <td>3.0</td>\n",
       "      <td>222.0</td>\n",
       "      <td>18.7</td>\n",
       "      <td>396.90</td>\n",
       "      <td>5.33</td>\n",
       "    </tr>\n",
       "  </tbody>\n",
       "</table>\n",
       "</div>"
      ],
      "text/plain": [
       "      CRIM    ZN  INDUS  CHAS    NOX  ...  RAD    TAX  PTRATIO       B  LSTAT\n",
       "0  0.00632  18.0   2.31   0.0  0.538  ...  1.0  296.0     15.3  396.90   4.98\n",
       "1  0.02731   0.0   7.07   0.0  0.469  ...  2.0  242.0     17.8  396.90   9.14\n",
       "2  0.02729   0.0   7.07   0.0  0.469  ...  2.0  242.0     17.8  392.83   4.03\n",
       "3  0.03237   0.0   2.18   0.0  0.458  ...  3.0  222.0     18.7  394.63   2.94\n",
       "4  0.06905   0.0   2.18   0.0  0.458  ...  3.0  222.0     18.7  396.90   5.33\n",
       "\n",
       "[5 rows x 13 columns]"
      ]
     },
     "execution_count": 116,
     "metadata": {
      "tags": []
     },
     "output_type": "execute_result"
    }
   ],
   "source": [
    "X_df.head()"
   ]
  },
  {
   "cell_type": "code",
   "execution_count": 117,
   "metadata": {
    "colab": {
     "base_uri": "https://localhost:8080/",
     "height": 294
    },
    "id": "e_qNwctj9SjD",
    "outputId": "a7c05095-87e9-4613-be39-b3ff9d632131"
   },
   "outputs": [
    {
     "data": {
      "text/html": [
       "<div>\n",
       "<style scoped>\n",
       "    .dataframe tbody tr th:only-of-type {\n",
       "        vertical-align: middle;\n",
       "    }\n",
       "\n",
       "    .dataframe tbody tr th {\n",
       "        vertical-align: top;\n",
       "    }\n",
       "\n",
       "    .dataframe thead th {\n",
       "        text-align: right;\n",
       "    }\n",
       "</style>\n",
       "<table border=\"1\" class=\"dataframe\">\n",
       "  <thead>\n",
       "    <tr style=\"text-align: right;\">\n",
       "      <th></th>\n",
       "      <th>CRIM</th>\n",
       "      <th>ZN</th>\n",
       "      <th>INDUS</th>\n",
       "      <th>CHAS</th>\n",
       "      <th>NOX</th>\n",
       "      <th>RM</th>\n",
       "      <th>AGE</th>\n",
       "      <th>DIS</th>\n",
       "      <th>RAD</th>\n",
       "      <th>TAX</th>\n",
       "      <th>PTRATIO</th>\n",
       "      <th>B</th>\n",
       "      <th>LSTAT</th>\n",
       "    </tr>\n",
       "  </thead>\n",
       "  <tbody>\n",
       "    <tr>\n",
       "      <th>count</th>\n",
       "      <td>506.000000</td>\n",
       "      <td>506.000000</td>\n",
       "      <td>506.000000</td>\n",
       "      <td>506.000000</td>\n",
       "      <td>506.000000</td>\n",
       "      <td>506.000000</td>\n",
       "      <td>506.000000</td>\n",
       "      <td>506.000000</td>\n",
       "      <td>506.000000</td>\n",
       "      <td>506.000000</td>\n",
       "      <td>506.000000</td>\n",
       "      <td>506.000000</td>\n",
       "      <td>506.000000</td>\n",
       "    </tr>\n",
       "    <tr>\n",
       "      <th>mean</th>\n",
       "      <td>3.613524</td>\n",
       "      <td>11.363636</td>\n",
       "      <td>11.136779</td>\n",
       "      <td>0.069170</td>\n",
       "      <td>0.554695</td>\n",
       "      <td>6.284634</td>\n",
       "      <td>68.574901</td>\n",
       "      <td>3.795043</td>\n",
       "      <td>9.549407</td>\n",
       "      <td>408.237154</td>\n",
       "      <td>18.455534</td>\n",
       "      <td>356.674032</td>\n",
       "      <td>12.653063</td>\n",
       "    </tr>\n",
       "    <tr>\n",
       "      <th>std</th>\n",
       "      <td>8.601545</td>\n",
       "      <td>23.322453</td>\n",
       "      <td>6.860353</td>\n",
       "      <td>0.253994</td>\n",
       "      <td>0.115878</td>\n",
       "      <td>0.702617</td>\n",
       "      <td>28.148861</td>\n",
       "      <td>2.105710</td>\n",
       "      <td>8.707259</td>\n",
       "      <td>168.537116</td>\n",
       "      <td>2.164946</td>\n",
       "      <td>91.294864</td>\n",
       "      <td>7.141062</td>\n",
       "    </tr>\n",
       "    <tr>\n",
       "      <th>min</th>\n",
       "      <td>0.006320</td>\n",
       "      <td>0.000000</td>\n",
       "      <td>0.460000</td>\n",
       "      <td>0.000000</td>\n",
       "      <td>0.385000</td>\n",
       "      <td>3.561000</td>\n",
       "      <td>2.900000</td>\n",
       "      <td>1.129600</td>\n",
       "      <td>1.000000</td>\n",
       "      <td>187.000000</td>\n",
       "      <td>12.600000</td>\n",
       "      <td>0.320000</td>\n",
       "      <td>1.730000</td>\n",
       "    </tr>\n",
       "    <tr>\n",
       "      <th>25%</th>\n",
       "      <td>0.082045</td>\n",
       "      <td>0.000000</td>\n",
       "      <td>5.190000</td>\n",
       "      <td>0.000000</td>\n",
       "      <td>0.449000</td>\n",
       "      <td>5.885500</td>\n",
       "      <td>45.025000</td>\n",
       "      <td>2.100175</td>\n",
       "      <td>4.000000</td>\n",
       "      <td>279.000000</td>\n",
       "      <td>17.400000</td>\n",
       "      <td>375.377500</td>\n",
       "      <td>6.950000</td>\n",
       "    </tr>\n",
       "    <tr>\n",
       "      <th>50%</th>\n",
       "      <td>0.256510</td>\n",
       "      <td>0.000000</td>\n",
       "      <td>9.690000</td>\n",
       "      <td>0.000000</td>\n",
       "      <td>0.538000</td>\n",
       "      <td>6.208500</td>\n",
       "      <td>77.500000</td>\n",
       "      <td>3.207450</td>\n",
       "      <td>5.000000</td>\n",
       "      <td>330.000000</td>\n",
       "      <td>19.050000</td>\n",
       "      <td>391.440000</td>\n",
       "      <td>11.360000</td>\n",
       "    </tr>\n",
       "    <tr>\n",
       "      <th>75%</th>\n",
       "      <td>3.677083</td>\n",
       "      <td>12.500000</td>\n",
       "      <td>18.100000</td>\n",
       "      <td>0.000000</td>\n",
       "      <td>0.624000</td>\n",
       "      <td>6.623500</td>\n",
       "      <td>94.075000</td>\n",
       "      <td>5.188425</td>\n",
       "      <td>24.000000</td>\n",
       "      <td>666.000000</td>\n",
       "      <td>20.200000</td>\n",
       "      <td>396.225000</td>\n",
       "      <td>16.955000</td>\n",
       "    </tr>\n",
       "    <tr>\n",
       "      <th>max</th>\n",
       "      <td>88.976200</td>\n",
       "      <td>100.000000</td>\n",
       "      <td>27.740000</td>\n",
       "      <td>1.000000</td>\n",
       "      <td>0.871000</td>\n",
       "      <td>8.780000</td>\n",
       "      <td>100.000000</td>\n",
       "      <td>12.126500</td>\n",
       "      <td>24.000000</td>\n",
       "      <td>711.000000</td>\n",
       "      <td>22.000000</td>\n",
       "      <td>396.900000</td>\n",
       "      <td>37.970000</td>\n",
       "    </tr>\n",
       "  </tbody>\n",
       "</table>\n",
       "</div>"
      ],
      "text/plain": [
       "             CRIM          ZN       INDUS  ...     PTRATIO           B       LSTAT\n",
       "count  506.000000  506.000000  506.000000  ...  506.000000  506.000000  506.000000\n",
       "mean     3.613524   11.363636   11.136779  ...   18.455534  356.674032   12.653063\n",
       "std      8.601545   23.322453    6.860353  ...    2.164946   91.294864    7.141062\n",
       "min      0.006320    0.000000    0.460000  ...   12.600000    0.320000    1.730000\n",
       "25%      0.082045    0.000000    5.190000  ...   17.400000  375.377500    6.950000\n",
       "50%      0.256510    0.000000    9.690000  ...   19.050000  391.440000   11.360000\n",
       "75%      3.677083   12.500000   18.100000  ...   20.200000  396.225000   16.955000\n",
       "max     88.976200  100.000000   27.740000  ...   22.000000  396.900000   37.970000\n",
       "\n",
       "[8 rows x 13 columns]"
      ]
     },
     "execution_count": 117,
     "metadata": {
      "tags": []
     },
     "output_type": "execute_result"
    }
   ],
   "source": [
    "X_df.describe()"
   ]
  },
  {
   "cell_type": "code",
   "execution_count": 118,
   "metadata": {
    "id": "WE7lO33b9ekm"
   },
   "outputs": [],
   "source": [
    "X_train, X_test, y_train, y_test = \\\n",
    "    train_test_split(X_df, y_df, test_size=0.4, random_state=23)"
   ]
  },
  {
   "cell_type": "code",
   "execution_count": 119,
   "metadata": {
    "id": "pw3BH7hr9pJT"
   },
   "outputs": [],
   "source": [
    "from sklearn.linear_model import LinearRegression\n",
    "\n",
    "model = LinearRegression()\n",
    "model.fit(X_train, y_train)\n",
    "prediction = model.predict(X_test)"
   ]
  },
  {
   "cell_type": "code",
   "execution_count": 120,
   "metadata": {
    "colab": {
     "base_uri": "https://localhost:8080/",
     "height": 35
    },
    "id": "X10kbNpX-BTl",
    "outputId": "0c9f1a99-e8ec-4ac6-9b8a-75455e8a3cb6"
   },
   "outputs": [
    {
     "data": {
      "text/plain": [
       "3.5462799071914777"
      ]
     },
     "execution_count": 120,
     "metadata": {
      "tags": []
     },
     "output_type": "execute_result"
    }
   ],
   "source": [
    "from sklearn.metrics import mean_absolute_error\n",
    "mean_absolute_error(prediction, y_test)"
   ]
  },
  {
   "cell_type": "code",
   "execution_count": 121,
   "metadata": {
    "colab": {
     "base_uri": "https://localhost:8080/",
     "height": 87
    },
    "id": "vojlpqtk-K1Y",
    "outputId": "138f690a-459a-4a52-9441-7be1fdd0064c"
   },
   "outputs": [
    {
     "data": {
      "text/plain": [
       "array([-8.64333154e-02,  3.53760147e-02, -1.15934926e-02,  3.17150932e+00,\n",
       "       -1.74104521e+01,  4.39941833e+00, -2.99227451e-03, -1.41219738e+00,\n",
       "        2.59162188e-01, -6.84058970e-03, -8.64866301e-01,  1.58945705e-02,\n",
       "       -5.44505587e-01])"
      ]
     },
     "execution_count": 121,
     "metadata": {
      "tags": []
     },
     "output_type": "execute_result"
    }
   ],
   "source": [
    "model.coef_"
   ]
  },
  {
   "cell_type": "code",
   "execution_count": 122,
   "metadata": {
    "colab": {
     "base_uri": "https://localhost:8080/",
     "height": 35
    },
    "id": "qK0JGXJ__G3M",
    "outputId": "6594b21d-d483-46c7-9db5-e823469fa612"
   },
   "outputs": [
    {
     "data": {
      "text/plain": [
       "3.487505238783125"
      ]
     },
     "execution_count": 122,
     "metadata": {
      "tags": []
     },
     "output_type": "execute_result"
    }
   ],
   "source": [
    "from sklearn.linear_model import Ridge\n",
    "\n",
    "model = Ridge(alpha = 5)\n",
    "model.fit(X_train, y_train)\n",
    "prediction = model.predict(X_test)\n",
    "mean_absolute_error(prediction, y_test)"
   ]
  },
  {
   "cell_type": "code",
   "execution_count": 122,
   "metadata": {
    "id": "OZOoZjQjBIWO"
   },
   "outputs": [],
   "source": []
  },
  {
   "cell_type": "markdown",
   "metadata": {
    "id": "DLcLggzX_mcE"
   },
   "source": [
    "Сделайте перебор параметра с помощью цикла. При каком параметре будет наилучшее качество?\n",
    " "
   ]
  },
  {
   "cell_type": "code",
   "execution_count": 123,
   "metadata": {
    "colab": {
     "base_uri": "https://localhost:8080/",
     "height": 191
    },
    "id": "x2zJ4qqwBJot",
    "outputId": "1c7a99f6-1570-417c-caee-da53578ba47f"
   },
   "outputs": [
    {
     "data": {
      "text/plain": [
       "24.0    78\n",
       "4.0     64\n",
       "5.0     64\n",
       "3.0     25\n",
       "6.0     17\n",
       "7.0     15\n",
       "2.0     14\n",
       "1.0     14\n",
       "8.0     12\n",
       "Name: RAD, dtype: int64"
      ]
     },
     "execution_count": 123,
     "metadata": {
      "tags": []
     },
     "output_type": "execute_result"
    }
   ],
   "source": [
    "X_train['RAD'].value_counts()"
   ]
  },
  {
   "cell_type": "code",
   "execution_count": 130,
   "metadata": {
    "id": "sbAytNMr-Kx1"
   },
   "outputs": [],
   "source": [
    "from sklearn.preprocessing import OneHotEncoder\n",
    "\n",
    "\n",
    "enc = OneHotEncoder(handle_unknown='ignore')\n",
    "\n",
    "enc_df_train = pd.DataFrame(enc.fit_transform(X_train[['RAD']]).toarray())\n",
    "enc_df_test = pd.DataFrame(enc.fit_transform(X_test[['RAD']]).toarray())\n",
    "\n",
    "enc_df_train.columns = ['RAD_' + str(i) for i in range(len(enc_df.columns))]\n",
    "enc_df_test.columns = ['RAD_' + str(i) for i in range(len(enc_df.columns))]\n"
   ]
  },
  {
   "cell_type": "code",
   "execution_count": 142,
   "metadata": {
    "colab": {
     "base_uri": "https://localhost:8080/",
     "height": 225
    },
    "id": "Ta6rJVsa-Ihq",
    "outputId": "ce57da45-0f87-4012-c9c0-ae28a11414f3"
   },
   "outputs": [
    {
     "name": "stderr",
     "output_type": "stream",
     "text": [
      "/usr/local/lib/python3.6/dist-packages/ipykernel_launcher.py:2: SettingWithCopyWarning: \n",
      "A value is trying to be set on a copy of a slice from a DataFrame.\n",
      "Try using .loc[row_indexer,col_indexer] = value instead\n",
      "\n",
      "See the caveats in the documentation: https://pandas.pydata.org/pandas-docs/stable/user_guide/indexing.html#returning-a-view-versus-a-copy\n",
      "  \n",
      "/usr/local/lib/python3.6/dist-packages/ipykernel_launcher.py:5: SettingWithCopyWarning: \n",
      "A value is trying to be set on a copy of a slice from a DataFrame.\n",
      "Try using .loc[row_indexer,col_indexer] = value instead\n",
      "\n",
      "See the caveats in the documentation: https://pandas.pydata.org/pandas-docs/stable/user_guide/indexing.html#returning-a-view-versus-a-copy\n",
      "  \"\"\"\n"
     ]
    }
   ],
   "source": [
    "for i in enc_df_train:\n",
    "  X_train[i] = enc_df_train[i].values\n",
    "\n",
    "for i in enc_df_test:\n",
    "  X_test[i] = enc_df_test[i].values"
   ]
  },
  {
   "cell_type": "code",
   "execution_count": 144,
   "metadata": {
    "id": "1Z2_IzK_DB_z"
   },
   "outputs": [],
   "source": [
    "X_train = X_train.drop('RAD', axis = 1)\n",
    "X_test = X_test.drop('RAD', axis = 1)"
   ]
  },
  {
   "cell_type": "code",
   "execution_count": 145,
   "metadata": {
    "colab": {
     "base_uri": "https://localhost:8080/",
     "height": 35
    },
    "id": "jcG1D5UpDVu7",
    "outputId": "078fadd6-9eb8-441b-aa95-f18ad3dbb49e"
   },
   "outputs": [
    {
     "data": {
      "text/plain": [
       "3.4458130466740586"
      ]
     },
     "execution_count": 145,
     "metadata": {
      "tags": []
     },
     "output_type": "execute_result"
    }
   ],
   "source": [
    "model = Ridge(alpha = 5)\n",
    "model.fit(X_train, y_train)\n",
    "prediction = model.predict(X_test)\n",
    "mean_absolute_error(prediction, y_test)"
   ]
  },
  {
   "cell_type": "code",
   "execution_count": null,
   "metadata": {
    "id": "qL16kLC_DdZH"
   },
   "outputs": [],
   "source": []
  },
  {
   "cell_type": "code",
   "execution_count": null,
   "metadata": {
    "id": "vqrAqvxGDdWy"
   },
   "outputs": [],
   "source": []
  },
  {
   "cell_type": "markdown",
   "metadata": {
    "id": "5-TYxgFeDeWW"
   },
   "source": [
    "#ДЗ\n",
    "\n",
    "В качестве домашнего задания вам предлагается поработать над предсказанием погоды в Австралии. Файл с данными пришлем вам в телеграмме. \n",
    "Вам будет доступен датасет weatherAUS.csv, ПЕРВЫЕ 75% (shuffle = False) которого нужно взять для обучения, последние 25% - для тестирования.  \n",
    "\n",
    "Требуется построить 3 модели которые будут предсказывать целевую переменную RainTomorrow:  \n",
    "1. С помощью Байесовских классификаторов \n",
    "2. С помощью логистической регрессии\n",
    "3. С помощью метода ближайших соседей \n",
    "\n",
    "Затем следует сравнить результаты моделей (по качеству и времени выполнения) и сделать вывод о том, какая модель и с какими параметрами даёт лучшие результаты.   \n",
    "**В конце ноутбука должны быть четко описаны полученные результаты и метрики.**\n",
    "\n",
    "  \n",
    "**Не забывайте о том, что работа с признаками играет очень большую роль в построении хорошей модели.** \n",
    "\n",
    "\n",
    "Краткое описание данных:\n",
    "* Date - Дата наблюдений\n",
    "* Location - Название локации, в которой расположена метеорологическая станция\n",
    "* MinTemp - Минимальная температура в градусах цельсия\n",
    "* MaxTemp - Максимальная температура в градусах цельсия\n",
    "* Rainfall - Количество осадков, зафиксированных за день в мм\n",
    "* Evaporation - Так называемое \"pan evaporation\" класса А (мм) за 24 часа до 9 утра\n",
    "* Sunshine - Число солнечных часов за день\n",
    "* WindGustDir - направление самого сильного порыва ветра за последние 24 часа\n",
    "* WindGustSpeed -  скорость (км / ч) самого сильного порыва ветра за последние 24 часа\n",
    "* WindDir9am - направление ветра в 9 утра"
   ]
  },
  {
   "cell_type": "markdown",
   "metadata": {
    "id": "PFjjf3BjFNnA"
   },
   "source": [
    "Вопросы можете писать в tg: ***@RAVasiliev***"
   ]
  }
 ],
 "metadata": {
  "colab": {
   "collapsed_sections": [],
   "name": "2_seminar.ipynb",
   "provenance": []
  },
  "kernelspec": {
   "display_name": "Python 3",
   "language": "python",
   "name": "python3"
  },
  "language_info": {
   "codemirror_mode": {
    "name": "ipython",
    "version": 3
   },
   "file_extension": ".py",
   "mimetype": "text/x-python",
   "name": "python",
   "nbconvert_exporter": "python",
   "pygments_lexer": "ipython3",
   "version": "3.6.9"
  }
 },
 "nbformat": 4,
 "nbformat_minor": 1
}
